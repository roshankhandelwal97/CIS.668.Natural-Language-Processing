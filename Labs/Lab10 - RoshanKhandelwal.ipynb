{
  "nbformat": 4,
  "nbformat_minor": 0,
  "metadata": {
    "accelerator": "GPU",
    "colab": {
      "provenance": []
    },
    "kernelspec": {
      "display_name": "Python 3",
      "name": "python3"
    },
    "language_info": {
      "codemirror_mode": {
        "name": "ipython",
        "version": 3
      },
      "file_extension": ".py",
      "mimetype": "text/x-python",
      "name": "python",
      "nbconvert_exporter": "python",
      "pygments_lexer": "ipython3",
      "version": "3.7.5"
    }
  },
  "cells": [
    {
      "cell_type": "markdown",
      "metadata": {
        "id": "t09eeeR5prIJ"
      },
      "source": [
        "**Week 10 Lab - RNNs for Text Generation**\n",
        "\n",
        "This lab was modified from an example originally written by \"The TensorFlow Authors\" in 2019 and distributed under Apache License 2.0. This lab creates a model that can generate text using a character-based RNN. A character-based RNN learns sequences of characters from a corpus of text. Once the model is trained, one can present an input character sequence and the model will generate the character that it predicts would be most likely to appear next. By repeatedly calling the model for new predictions with the previously built sequence, one can create a string of text that \"looks like\" sentences from the original training text. Note that depending upon the amount of training material and the details of the training procedure, this generated text may look more or less like gibberish.\n",
        "\n",
        "Also note that, depending on the specific types of layers you are training, you might want to try enabling GPU acceleration to execute this notebook faster. In Colab: *Runtime > Change runtime type > Hardware accelerator > GPU*. Do this before you start to run any code, because it generally restarts the runtime and your local variables will be lost."
      ]
    },
    {
      "cell_type": "markdown",
      "metadata": {
        "id": "srXC6pLGLwS6"
      },
      "source": [
        "## Setup"
      ]
    },
    {
      "cell_type": "markdown",
      "metadata": {
        "id": "WGyKZj3bzf9p"
      },
      "source": [
        "### Import TensorFlow and other libraries"
      ]
    },
    {
      "cell_type": "code",
      "metadata": {
        "execution": {
          "iopub.execute_input": "2021-08-11T18:24:50.972847Z",
          "iopub.status.busy": "2021-08-11T18:24:50.972275Z",
          "iopub.status.idle": "2021-08-11T18:24:52.595725Z",
          "shell.execute_reply": "2021-08-11T18:24:52.596142Z"
        },
        "id": "yG_n40gFzf9s"
      },
      "source": [
        "import tensorflow as tf\n",
        "from tensorflow.keras.layers.experimental import preprocessing\n",
        "\n",
        "import numpy as np\n",
        "import os # To access local files; for saving checkpoints\n",
        "import time\n",
        "\n",
        "from urllib import request # We will need this to read from an URL"
      ],
      "execution_count": 1,
      "outputs": []
    },
    {
      "cell_type": "code",
      "metadata": {
        "id": "auQWy3dpCB8S",
        "outputId": "2a9c6715-7a6f-4dd3-c1ff-46a70df2e28a",
        "colab": {
          "base_uri": "https://localhost:8080/"
        }
      },
      "source": [
        "# TensorFlow 2.0 offers \"Eager Execution,\" a more practical model for\n",
        "# running tf code. Are we using it here?\n",
        "tf.executing_eagerly()"
      ],
      "execution_count": 2,
      "outputs": [
        {
          "output_type": "execute_result",
          "data": {
            "text/plain": [
              "True"
            ]
          },
          "metadata": {},
          "execution_count": 2
        }
      ]
    },
    {
      "cell_type": "markdown",
      "metadata": {
        "id": "EHDoRoc5PKWz"
      },
      "source": [
        "### Download the Text Data\n",
        "\n",
        "Load a plain text book from Project Gutenberg:"
      ]
    },
    {
      "cell_type": "code",
      "metadata": {
        "id": "_Xp9CQJwqnd2",
        "colab": {
          "base_uri": "https://localhost:8080/"
        },
        "outputId": "7704f1b5-2e9b-4345-f2c1-d0f35dcfa03a"
      },
      "source": [
        "# Some collected plays by Anton Chekhov\n",
        "url = \"https://www.gutenberg.org/files/7986/7986-0.txt\"\n",
        "response = request.urlopen(url)\n",
        "text = response.read().decode('utf8')\n",
        "type(text), len(text)"
      ],
      "execution_count": 3,
      "outputs": [
        {
          "output_type": "execute_result",
          "data": {
            "text/plain": [
              "(str, 411576)"
            ]
          },
          "metadata": {},
          "execution_count": 3
        }
      ]
    },
    {
      "cell_type": "code",
      "metadata": {
        "id": "AbVhoqcCM0Sz",
        "colab": {
          "base_uri": "https://localhost:8080/"
        },
        "outputId": "91d4dde4-e327-44cd-b96d-1fbcbff99aed"
      },
      "source": [
        "#\n",
        "# Exercise 10.1: Examine some of the contents of text using slicing\n",
        "# Write a comment saying what you see. Is there any\n",
        "# pre-processing that should be done at this stage? :: Removing punctuations?\n",
        "\n",
        "print(text[:200])\n",
        "\n",
        "\n"
      ],
      "execution_count": 4,
      "outputs": [
        {
          "output_type": "stream",
          "name": "stdout",
          "text": [
            "﻿Project Gutenberg’s Plays by Chekhov, Second Series, by Anton Chekhov\r\n",
            "\r\n",
            "This eBook is for the use of anyone anywhere at no cost and with\r\n",
            "almost no restrictions whatsoever.  You may copy it, give it\n"
          ]
        }
      ]
    },
    {
      "cell_type": "code",
      "metadata": {
        "id": "g53PCZD3v__O"
      },
      "source": [
        "# Additional URLs of plain text Chekhov plays for later use\n",
        "uncle_vanya = \"https://www.gutenberg.org/cache/epub/1756/pg1756.txt\"\n",
        "the_seagull = \"https://www.gutenberg.org/files/1754/1754-0.txt\""
      ],
      "execution_count": 5,
      "outputs": []
    },
    {
      "cell_type": "markdown",
      "metadata": {
        "id": "UHjdCjDuSvX_"
      },
      "source": [
        "### Read the data\n",
        "\n",
        "First, look in the text to see what we have. Note that this is a character-based model, so we are interested to know what different characters are used throughout the whole text. Note that this should make the process largely language independent: Any language where words are formed through sequences of characters should work in training this kind of model."
      ]
    },
    {
      "cell_type": "code",
      "metadata": {
        "execution": {
          "iopub.execute_input": "2021-08-11T18:24:52.658460Z",
          "iopub.status.busy": "2021-08-11T18:24:52.657812Z",
          "iopub.status.idle": "2021-08-11T18:24:52.660268Z",
          "shell.execute_reply": "2021-08-11T18:24:52.660598Z"
        },
        "id": "IlCgQBRVymwR",
        "colab": {
          "base_uri": "https://localhost:8080/"
        },
        "outputId": "0c815a9f-0888-4b4b-8878-82ea2ee468b7"
      },
      "source": [
        "# The unique text characters in the file\n",
        "vocab = sorted(set(text))\n",
        "print(f'{len(vocab)} unique characters')\n"
      ],
      "execution_count": 6,
      "outputs": [
        {
          "output_type": "stream",
          "name": "stdout",
          "text": [
            "94 unique characters\n"
          ]
        }
      ]
    },
    {
      "cell_type": "code",
      "metadata": {
        "id": "dIPbpCWFNJoT",
        "colab": {
          "base_uri": "https://localhost:8080/"
        },
        "outputId": "f2bb9e77-c7df-44d4-894a-e2ed9d90d3f4"
      },
      "source": [
        "#\n",
        "# Exercise 10.2: Display the list of unique text characters.\n",
        "# Write a comment saying what you see.\n",
        "\n",
        "# letters, numbers, punctuation marks, and special characters\n",
        "\n",
        "print(vocab)"
      ],
      "execution_count": 7,
      "outputs": [
        {
          "output_type": "stream",
          "name": "stdout",
          "text": [
            "['\\n', '\\r', ' ', '!', '#', '$', '%', '(', ')', '*', ',', '-', '.', '/', '0', '1', '2', '3', '4', '5', '6', '7', '8', '9', ':', ';', '=', '?', '@', 'A', 'B', 'C', 'D', 'E', 'F', 'G', 'H', 'I', 'J', 'K', 'L', 'M', 'N', 'O', 'P', 'Q', 'R', 'S', 'T', 'U', 'V', 'W', 'X', 'Y', 'Z', '[', ']', '_', 'a', 'b', 'c', 'd', 'e', 'f', 'g', 'h', 'i', 'j', 'k', 'l', 'm', 'n', 'o', 'p', 'q', 'r', 's', 't', 'u', 'v', 'w', 'x', 'y', 'z', '£', 'à', 'è', 'é', 'ê', '‘', '’', '“', '”', '\\ufeff']\n"
          ]
        }
      ]
    },
    {
      "cell_type": "markdown",
      "metadata": {
        "id": "rNnrKn_lL-IJ"
      },
      "source": [
        "## Process the text"
      ]
    },
    {
      "cell_type": "markdown",
      "metadata": {
        "id": "LFjSVAlWzf-N"
      },
      "source": [
        "### Vectorize the text\n",
        "\n",
        "Before training, we will convert the strings to a numerical representation. The approach in this notebook uses a so-called \"ragged tensor.\" Here's an excerpt from the TensorFlow documentation:\n",
        "\n",
        "\"Ragged tensors are the TensorFlow equivalent of nested variable-length lists. They make it easy to store and process data with non-uniform shapes, including: Variable-length features, such as the set of actors in a movie; Batches of variable-length sequential inputs, such as sentences or video clips; Hierarchical inputs, such as text documents that are subdivided into sections, paragraphs, sentences, and words.\"\n",
        "\n"
      ]
    },
    {
      "cell_type": "code",
      "metadata": {
        "execution": {
          "iopub.execute_input": "2021-08-11T18:24:54.194902Z",
          "iopub.status.busy": "2021-08-11T18:24:54.194072Z",
          "iopub.status.idle": "2021-08-11T18:24:54.208515Z",
          "shell.execute_reply": "2021-08-11T18:24:54.208926Z"
        },
        "id": "a86OoYtO01go",
        "colab": {
          "base_uri": "https://localhost:8080/"
        },
        "outputId": "159dee43-a63c-4cc7-942a-82cd0021e94e"
      },
      "source": [
        "example_texts = ['abcdefg', 'xyz']\n",
        "\n",
        "chars = tf.strings.unicode_split(example_texts, input_encoding='UTF-8') #this splits each string in input into a sequence of Unicode code points.\n",
        "chars"
      ],
      "execution_count": 8,
      "outputs": [
        {
          "output_type": "execute_result",
          "data": {
            "text/plain": [
              "<tf.RaggedTensor [[b'a', b'b', b'c', b'd', b'e', b'f', b'g'], [b'x', b'y', b'z']]>"
            ]
          },
          "metadata": {},
          "execution_count": 8
        }
      ]
    },
    {
      "cell_type": "code",
      "metadata": {
        "id": "aBTMDuH8H2Mx",
        "colab": {
          "base_uri": "https://localhost:8080/"
        },
        "outputId": "c195326e-4ec5-4b47-9d7e-7913b959c557"
      },
      "source": [
        "print(chars) # In TF 2.0, the print() function can also show tensors"
      ],
      "execution_count": 9,
      "outputs": [
        {
          "output_type": "stream",
          "name": "stdout",
          "text": [
            "<tf.RaggedTensor [[b'a', b'b', b'c', b'd', b'e', b'f', b'g'], [b'x', b'y', b'z']]>\n"
          ]
        }
      ]
    },
    {
      "cell_type": "markdown",
      "metadata": {
        "id": "o6XQ95pQN4EB"
      },
      "source": [
        "We have now created a ragged tensor. Now or later, you might want to read some of the TensorFlow documentation describing what a tensor actually is and what it means to be ragged. There's a nice tutorial with code here: https://www.tensorflow.org/guide/tensor\n",
        "\n",
        "Note that each element in the structure above begins with b. That means that the function has returned a \"byte-coded\" version of the string. This is an alternative representation to plain text. Also, the idea of \"ragged\" is demonstrated by this example. The first nested list has seven items, whereas the second list has three. Ragged means that different numbers of elements are permissible within each element of a list. The term ragged comes from publishing, where a common way of justifying text in a book is called \"ragged right\" (meaning that different lines are different lengths).\n",
        "\n",
        "Next, create a preprocessing.StringLookup layer. This layer maps string features to integer indices and integer indices to string features, depending on the value its invert attribute. If it's False (default), it maps string features to integer indices."
      ]
    },
    {
      "cell_type": "code",
      "metadata": {
        "execution": {
          "iopub.execute_input": "2021-08-11T18:24:54.216550Z",
          "iopub.status.busy": "2021-08-11T18:24:54.215976Z",
          "iopub.status.idle": "2021-08-11T18:24:54.222826Z",
          "shell.execute_reply": "2021-08-11T18:24:54.223217Z"
        },
        "id": "6GMlCe3qzaL9",
        "colab": {
          "base_uri": "https://localhost:8080/"
        },
        "outputId": "41088e20-0b62-49bd-ac47-e5309a744ab3"
      },
      "source": [
        "# Note that we are passing in the vocab from parsing the whole book in an\n",
        "# earlier cell. Examine the first argument closely: https://www.tensorflow.org/api_docs/python/tf/keras/layers/StringLookup\n",
        "ids_from_chars = preprocessing.StringLookup(vocabulary=list(vocab), mask_token=None)\n",
        "\n",
        "# Shows the resulting class type and that we now have an instance\n",
        "type(ids_from_chars), isinstance(ids_from_chars, preprocessing.StringLookup)"
      ],
      "execution_count": 10,
      "outputs": [
        {
          "output_type": "execute_result",
          "data": {
            "text/plain": [
              "(keras.src.layers.preprocessing.string_lookup.StringLookup, True)"
            ]
          },
          "metadata": {},
          "execution_count": 10
        }
      ]
    },
    {
      "cell_type": "code",
      "metadata": {
        "id": "0I4rdMNbepDZ",
        "colab": {
          "base_uri": "https://localhost:8080/"
        },
        "outputId": "b61a75aa-06d0-4145-f7b9-2cb1d7789b96"
      },
      "source": [
        "#\n",
        "# Exercise 10.3: Display the vocabulary associated with ids_from_chars. Hint: Use\n",
        "# the pop-up help, the dir() command, or the TensorFlow doc to locate the\n",
        "# appropriate bound method for revealing the vocabulary.\n",
        "#\n",
        "\n",
        "print(ids_from_chars.vocabulary_size())\n",
        "print(ids_from_chars.get_vocabulary())"
      ],
      "execution_count": 53,
      "outputs": [
        {
          "output_type": "stream",
          "name": "stdout",
          "text": [
            "95\n",
            "['[UNK]', '\\n', '\\r', ' ', '!', '#', '$', '%', '(', ')', '*', ',', '-', '.', '/', '0', '1', '2', '3', '4', '5', '6', '7', '8', '9', ':', ';', '=', '?', '@', 'A', 'B', 'C', 'D', 'E', 'F', 'G', 'H', 'I', 'J', 'K', 'L', 'M', 'N', 'O', 'P', 'Q', 'R', 'S', 'T', 'U', 'V', 'W', 'X', 'Y', 'Z', '[', ']', '_', 'a', 'b', 'c', 'd', 'e', 'f', 'g', 'h', 'i', 'j', 'k', 'l', 'm', 'n', 'o', 'p', 'q', 'r', 's', 't', 'u', 'v', 'w', 'x', 'y', 'z', '£', 'à', 'è', 'é', 'ê', '‘', '’', '“', '”', '\\ufeff']\n"
          ]
        }
      ]
    },
    {
      "cell_type": "markdown",
      "metadata": {
        "id": "ZmX_jbgQqfOi"
      },
      "source": [
        "Our instances of the preprocessing.StringLookup can convert from byte coded character tokens to numeric character IDs:"
      ]
    },
    {
      "cell_type": "code",
      "metadata": {
        "execution": {
          "iopub.execute_input": "2021-08-11T18:24:54.227577Z",
          "iopub.status.busy": "2021-08-11T18:24:54.226961Z",
          "iopub.status.idle": "2021-08-11T18:24:54.231289Z",
          "shell.execute_reply": "2021-08-11T18:24:54.230753Z"
        },
        "id": "WLv5Q_2TC2pc",
        "colab": {
          "base_uri": "https://localhost:8080/"
        },
        "outputId": "34c7f669-c057-4ef9-e15a-48844b3a677d"
      },
      "source": [
        "ids = ids_from_chars(chars)\n"
      ],
      "execution_count": 12,
      "outputs": [
        {
          "output_type": "execute_result",
          "data": {
            "text/plain": [
              "<tf.RaggedTensor [[59, 60, 61, 62, 63, 64, 65], [82, 83, 84]]>"
            ]
          },
          "metadata": {},
          "execution_count": 12
        }
      ]
    },
    {
      "cell_type": "code",
      "metadata": {
        "id": "R_omwej_M2jl"
      },
      "source": [
        "# Curiosity question: Why these codes for the input characters?"
      ],
      "execution_count": 13,
      "outputs": []
    },
    {
      "cell_type": "code",
      "metadata": {
        "execution": {
          "iopub.execute_input": "2021-08-11T18:24:54.235659Z",
          "iopub.status.busy": "2021-08-11T18:24:54.235049Z",
          "iopub.status.idle": "2021-08-11T18:24:54.240952Z",
          "shell.execute_reply": "2021-08-11T18:24:54.241336Z"
        },
        "id": "Wd2m3mqkDjRj",
        "colab": {
          "base_uri": "https://localhost:8080/"
        },
        "outputId": "838f3681-40bd-4755-fa83-e39e2e21f12d"
      },
      "source": [
        "# This creates an instance of the \"inverter\". Note that the invert is now set to True.\n",
        "chars_from_ids = tf.keras.layers.experimental.preprocessing.StringLookup(\n",
        "    vocabulary=ids_from_chars.get_vocabulary(), invert=True, mask_token=None)\n",
        "\n",
        "chars = chars_from_ids(ids) # Now use the inverter to process our tiny example\n",
        "chars\n",
        "\n"
      ],
      "execution_count": 14,
      "outputs": [
        {
          "output_type": "execute_result",
          "data": {
            "text/plain": [
              "<tf.RaggedTensor [[b'a', b'b', b'c', b'd', b'e', b'f', b'g'], [b'x', b'y', b'z']]>"
            ]
          },
          "metadata": {},
          "execution_count": 14
        }
      ]
    },
    {
      "cell_type": "markdown",
      "metadata": {
        "id": "pqTDDxS-s-H8"
      },
      "source": [
        "Note that we have gotten back the byte codes of the characters from the vectors of IDs, and we are seeing them as a `tf.RaggedTensor` of characters. We can now use another utility, tf.strings.reduce_join, to join the characters back into strings. This is demonstrated here because it will be helpful later when we want to generate new text."
      ]
    },
    {
      "cell_type": "code",
      "metadata": {
        "execution": {
          "iopub.execute_input": "2021-08-11T18:24:54.252648Z",
          "iopub.status.busy": "2021-08-11T18:24:54.252070Z",
          "iopub.status.idle": "2021-08-11T18:24:54.263588Z",
          "shell.execute_reply": "2021-08-11T18:24:54.263101Z"
        },
        "id": "zxYI-PeltqKP",
        "colab": {
          "base_uri": "https://localhost:8080/"
        },
        "outputId": "a04f56a3-6a72-43fc-a2fa-ed51ea569a73"
      },
      "source": [
        "tf.strings.reduce_join(chars, axis=-1).numpy() #https://www.tensorflow.org/api_docs/python/tf/strings/reduce_join"
      ],
      "execution_count": 15,
      "outputs": [
        {
          "output_type": "execute_result",
          "data": {
            "text/plain": [
              "array([b'abcdefg', b'xyz'], dtype=object)"
            ]
          },
          "metadata": {},
          "execution_count": 15
        }
      ]
    },
    {
      "cell_type": "code",
      "metadata": {
        "execution": {
          "iopub.execute_input": "2021-08-11T18:24:54.267710Z",
          "iopub.status.busy": "2021-08-11T18:24:54.267101Z",
          "iopub.status.idle": "2021-08-11T18:24:54.268757Z",
          "shell.execute_reply": "2021-08-11T18:24:54.269127Z"
        },
        "id": "w5apvBDn9Ind"
      },
      "source": [
        "# Let's turn that utility into a function that we can call.\n",
        "def text_from_ids(ids):\n",
        "  return tf.strings.reduce_join(chars_from_ids(ids), axis=-1)"
      ],
      "execution_count": 16,
      "outputs": []
    },
    {
      "cell_type": "code",
      "metadata": {
        "id": "zoNIbPZom7Sw",
        "colab": {
          "base_uri": "https://localhost:8080/"
        },
        "outputId": "a07bb76f-d8b1-4177-941b-7cf31c66e530"
      },
      "source": [
        "#\n",
        "# Exercise 10.4: Create a new small example of example_texts with at least\n",
        "# three character strings in the list. Include some upper and lower case and\n",
        "# some numerals. Run the text through the string preprocessor and then recover the original strings.\n",
        "#\n",
        "\n",
        "example_texts = ['Roshan1', 'HelloWorld321', 'nLplaB10']\n",
        "my_ids = ids_from_chars(example_texts)\n",
        "\n",
        "recovered_strings = text_from_ids(my_ids)\n",
        "print(recovered_strings)\n"
      ],
      "execution_count": 57,
      "outputs": [
        {
          "output_type": "stream",
          "name": "stdout",
          "text": [
            "tf.Tensor(b'[UNK][UNK][UNK]', shape=(), dtype=string)\n"
          ]
        }
      ]
    },
    {
      "cell_type": "markdown",
      "metadata": {
        "id": "bbmsf23Bymwe"
      },
      "source": [
        "### The prediction task"
      ]
    },
    {
      "cell_type": "markdown",
      "metadata": {
        "id": "wssHQ1oGymwe"
      },
      "source": [
        "Given a character, or a sequence of characters, what is the most probable next character? This is the task that our RNN model will perform. The input to the model will be sequences of characters from the book we read in at the top of the notebook.\n"
      ]
    },
    {
      "cell_type": "markdown",
      "metadata": {
        "id": "hgsVvVxnymwf"
      },
      "source": [
        "### Create training examples and targets\n",
        "\n",
        "Next, we will divide the text into example sequences. Each input sequence will contain `seq_length` characters from the text. For each input sequence, the corresponding targets contain the same length of text, except shifted one character to the right. For example, if the text is \"Hello\" and \"seq_length\" is 4. Then, the input sequence is \"Hell\", and the target sequence is \"ello\". This ensures that we have tons of training examples and that each training example captures context both around the input string and the output string.\n",
        "\n",
        "To do this first use the `tf.data.Dataset.from_tensor_slices` function to convert the text vector into a stream of character indices."
      ]
    },
    {
      "cell_type": "code",
      "metadata": {
        "execution": {
          "iopub.execute_input": "2021-08-11T18:24:54.275470Z",
          "iopub.status.busy": "2021-08-11T18:24:54.274838Z",
          "iopub.status.idle": "2021-08-11T18:24:54.760641Z",
          "shell.execute_reply": "2021-08-11T18:24:54.761013Z"
        },
        "id": "UopbsKi88tm5"
      },
      "source": [
        "all_ids = ids_from_chars(tf.strings.unicode_split(text, 'UTF-8')) #this splits each string in input into a sequence of Unicode code points.\n",
        "\n"
      ],
      "execution_count": 18,
      "outputs": []
    },
    {
      "cell_type": "code",
      "metadata": {
        "id": "CnUCkvLa9zgN"
      },
      "source": [
        "#\n",
        "# Exercise 10.5: Use the get_shape() bound method to reveal the shape of the resulting tensor\n",
        "#"
      ],
      "execution_count": 19,
      "outputs": []
    },
    {
      "cell_type": "code",
      "metadata": {
        "execution": {
          "iopub.execute_input": "2021-08-11T18:24:54.766177Z",
          "iopub.status.busy": "2021-08-11T18:24:54.765609Z",
          "iopub.status.idle": "2021-08-11T18:24:54.767493Z",
          "shell.execute_reply": "2021-08-11T18:24:54.767862Z"
        },
        "id": "qmxrYDCTy-eL",
        "colab": {
          "base_uri": "https://localhost:8080/"
        },
        "outputId": "f70770b4-5ccf-4221-e083-fed795242d0b"
      },
      "source": [
        "# This creates a dataset whose elements are slices from the original tensor\n",
        "ids_dataset = tf.data.Dataset.from_tensor_slices(all_ids) #https://www.tensorflow.org/api_docs/python/tf/data/Dataset Documentation for tf.data.Dataset\n",
        "type(ids_dataset)"
      ],
      "execution_count": 20,
      "outputs": [
        {
          "output_type": "execute_result",
          "data": {
            "text/plain": [
              "tensorflow.python.data.ops.from_tensor_slices_op._TensorSliceDataset"
            ]
          },
          "metadata": {},
          "execution_count": 20
        }
      ]
    },
    {
      "cell_type": "code",
      "metadata": {
        "id": "_loXBnKp-YKC",
        "colab": {
          "base_uri": "https://localhost:8080/"
        },
        "outputId": "b20b77a0-9fcb-45cc-ca93-9322c2fb9104"
      },
      "source": [
        "#\n",
        "# Exercise 10.6: Comment each line of the following codes to say what it is doing.   https://www.tensorflow.org/api_docs/python/tf/data/Dataset\n",
        "# Also comment on the output. What does it mean?\n",
        "# Add a line of code to convert the output back to the characters\n",
        "temp = ids_dataset.unique()\n",
        "for element in temp.as_numpy_iterator():\n",
        "  print(element)"
      ],
      "execution_count": 21,
      "outputs": [
        {
          "output_type": "stream",
          "name": "stdout",
          "text": [
            "94\n",
            "45\n",
            "76\n",
            "73\n",
            "68\n",
            "63\n",
            "61\n",
            "78\n",
            "3\n",
            "36\n",
            "79\n",
            "72\n",
            "60\n",
            "65\n",
            "91\n",
            "77\n",
            "70\n",
            "59\n",
            "83\n",
            "32\n",
            "66\n",
            "69\n",
            "80\n",
            "11\n",
            "48\n",
            "62\n",
            "67\n",
            "30\n",
            "2\n",
            "1\n",
            "49\n",
            "31\n",
            "64\n",
            "81\n",
            "71\n",
            "13\n",
            "54\n",
            "74\n",
            "12\n",
            "41\n",
            "25\n",
            "44\n",
            "37\n",
            "47\n",
            "52\n",
            "38\n",
            "33\n",
            "17\n",
            "15\n",
            "20\n",
            "56\n",
            "34\n",
            "5\n",
            "22\n",
            "24\n",
            "23\n",
            "21\n",
            "57\n",
            "50\n",
            "16\n",
            "35\n",
            "10\n",
            "39\n",
            "43\n",
            "40\n",
            "51\n",
            "82\n",
            "18\n",
            "42\n",
            "92\n",
            "93\n",
            "8\n",
            "9\n",
            "75\n",
            "19\n",
            "26\n",
            "84\n",
            "28\n",
            "46\n",
            "27\n",
            "14\n",
            "55\n",
            "4\n",
            "88\n",
            "85\n",
            "53\n",
            "58\n",
            "87\n",
            "90\n",
            "86\n",
            "89\n",
            "7\n",
            "29\n",
            "6\n"
          ]
        }
      ]
    },
    {
      "cell_type": "code",
      "metadata": {
        "execution": {
          "iopub.execute_input": "2021-08-11T18:24:54.772220Z",
          "iopub.status.busy": "2021-08-11T18:24:54.771623Z",
          "iopub.status.idle": "2021-08-11T18:24:54.789291Z",
          "shell.execute_reply": "2021-08-11T18:24:54.789695Z"
        },
        "id": "cjH5v45-yqqH",
        "colab": {
          "base_uri": "https://localhost:8080/"
        },
        "outputId": "b85ca85e-1e5d-423a-cae2-b33110b17e29"
      },
      "source": [
        "# The take() bound method is helpful for examining data in a tensor. It is\n",
        "# modeled after the take() methods from numpy. It creates a Dataset with at most count elements from this dataset.\n",
        "for ids in ids_dataset.take(18):\n",
        "    print(chars_from_ids(ids).numpy().decode('utf-8'))"
      ],
      "execution_count": 22,
      "outputs": [
        {
          "output_type": "stream",
          "name": "stdout",
          "text": [
            "﻿\n",
            "P\n",
            "r\n",
            "o\n",
            "j\n",
            "e\n",
            "c\n",
            "t\n",
            " \n",
            "G\n",
            "u\n",
            "t\n",
            "e\n",
            "n\n",
            "b\n",
            "e\n",
            "r\n",
            "g\n"
          ]
        }
      ]
    },
    {
      "cell_type": "code",
      "metadata": {
        "id": "SMCUbYM_4d3-",
        "colab": {
          "base_uri": "https://localhost:8080/"
        },
        "outputId": "db454035-5cc1-474a-dfa7-f15ac402254d"
      },
      "source": [
        "#\n",
        "# Exercise 10.7: Add the skip() bound method to the expression in the for loop\n",
        "# in the cell just above. To demonstrate how it works, skip 18 elements and then\n",
        "# take the next 10 elements. The invocation of skip() in the expression should\n",
        "# precede the invocation of take(). https://www.tensorflow.org/api_docs/python/tf/data/Dataset#skip\n",
        "#'\n",
        "\n",
        "for ids in ids_dataset.skip(18).take(10):\n",
        "    print(chars_from_ids(ids).numpy().decode('utf-8'))"
      ],
      "execution_count": 59,
      "outputs": [
        {
          "output_type": "stream",
          "name": "stdout",
          "text": [
            "’\n",
            "s\n",
            " \n",
            "P\n",
            "l\n",
            "a\n",
            "y\n",
            "s\n",
            " \n",
            "b\n"
          ]
        }
      ]
    },
    {
      "cell_type": "code",
      "metadata": {
        "execution": {
          "iopub.execute_input": "2021-08-11T18:24:54.793684Z",
          "iopub.status.busy": "2021-08-11T18:24:54.793095Z",
          "iopub.status.idle": "2021-08-11T18:24:54.795288Z",
          "shell.execute_reply": "2021-08-11T18:24:54.795652Z"
        },
        "id": "C-G2oaTxy6km"
      },
      "source": [
        "# While an RNN can theoretically handle a continuous stream of data\n",
        "# here we are considering the data in small groupings whose length\n",
        "# is controlled by seq_length. Leave it at its current value for now, but\n",
        "# in the future you might consider making it either shorter or longer in the\n",
        "# training run.\n",
        "seq_length = 80 # About one line of standard text\n",
        "examples_per_epoch = len(text)//(seq_length+1) #the floor division // rounds the result down to the nearest whole number"
      ],
      "execution_count": 24,
      "outputs": []
    },
    {
      "cell_type": "code",
      "metadata": {
        "execution": {
          "iopub.execute_input": "2021-08-11T18:24:54.801632Z",
          "iopub.status.busy": "2021-08-11T18:24:54.801025Z",
          "iopub.status.idle": "2021-08-11T18:24:54.809747Z",
          "shell.execute_reply": "2021-08-11T18:24:54.810106Z"
        },
        "id": "BpdjRO2CzOfZ",
        "colab": {
          "base_uri": "https://localhost:8080/"
        },
        "outputId": "a19dc138-3372-4ae6-803d-345b76bf746c"
      },
      "source": [
        "#\n",
        "# Exercise 10.8: Explain why seq_length+1 is used in the next line of code, The `batch` method lets you easily convert these individual characters to sequences of the desired size\n",
        "#\n",
        "sequences = ids_dataset.batch(seq_length+1, drop_remainder=True) # drop_remainder: if set to be True, the last batch should be dropped in the case it has fewer than batch_size elements\n",
        "for seq in sequences.take(2):\n",
        "  print(chars_from_ids(seq))"
      ],
      "execution_count": 25,
      "outputs": [
        {
          "output_type": "stream",
          "name": "stdout",
          "text": [
            "tf.Tensor(\n",
            "[b'\\xef\\xbb\\xbf' b'P' b'r' b'o' b'j' b'e' b'c' b't' b' ' b'G' b'u' b't'\n",
            " b'e' b'n' b'b' b'e' b'r' b'g' b'\\xe2\\x80\\x99' b's' b' ' b'P' b'l' b'a'\n",
            " b'y' b's' b' ' b'b' b'y' b' ' b'C' b'h' b'e' b'k' b'h' b'o' b'v' b','\n",
            " b' ' b'S' b'e' b'c' b'o' b'n' b'd' b' ' b'S' b'e' b'r' b'i' b'e' b's'\n",
            " b',' b' ' b'b' b'y' b' ' b'A' b'n' b't' b'o' b'n' b' ' b'C' b'h' b'e'\n",
            " b'k' b'h' b'o' b'v' b'\\r' b'\\n' b'\\r' b'\\n' b'T' b'h' b'i' b's' b' ' b'e'\n",
            " b'B'], shape=(81,), dtype=string)\n",
            "tf.Tensor(\n",
            "[b'o' b'o' b'k' b' ' b'i' b's' b' ' b'f' b'o' b'r' b' ' b't' b'h' b'e'\n",
            " b' ' b'u' b's' b'e' b' ' b'o' b'f' b' ' b'a' b'n' b'y' b'o' b'n' b'e'\n",
            " b' ' b'a' b'n' b'y' b'w' b'h' b'e' b'r' b'e' b' ' b'a' b't' b' ' b'n'\n",
            " b'o' b' ' b'c' b'o' b's' b't' b' ' b'a' b'n' b'd' b' ' b'w' b'i' b't'\n",
            " b'h' b'\\r' b'\\n' b'a' b'l' b'm' b'o' b's' b't' b' ' b'n' b'o' b' ' b'r'\n",
            " b'e' b's' b't' b'r' b'i' b'c' b't' b'i' b'o' b'n' b's'], shape=(81,), dtype=string)\n"
          ]
        }
      ]
    },
    {
      "cell_type": "markdown",
      "metadata": {
        "id": "5PHW902-4oZt"
      },
      "source": [
        "It's easier to see what this is doing if you join the tokens back into strings:"
      ]
    },
    {
      "cell_type": "code",
      "metadata": {
        "execution": {
          "iopub.execute_input": "2021-08-11T18:24:54.814385Z",
          "iopub.status.busy": "2021-08-11T18:24:54.813718Z",
          "iopub.status.idle": "2021-08-11T18:24:54.824355Z",
          "shell.execute_reply": "2021-08-11T18:24:54.824698Z"
        },
        "id": "QO32cMWu4a06",
        "colab": {
          "base_uri": "https://localhost:8080/"
        },
        "outputId": "b8f2fc4c-dcba-41e9-b775-8e8668069a01"
      },
      "source": [
        "for seq in sequences.take(2):\n",
        "  print(text_from_ids(seq).numpy())"
      ],
      "execution_count": 26,
      "outputs": [
        {
          "output_type": "stream",
          "name": "stdout",
          "text": [
            "b'\\xef\\xbb\\xbfProject Gutenberg\\xe2\\x80\\x99s Plays by Chekhov, Second Series, by Anton Chekhov\\r\\n\\r\\nThis eB'\n",
            "b'ook is for the use of anyone anywhere at no cost and with\\r\\nalmost no restrictions'\n"
          ]
        }
      ]
    },
    {
      "cell_type": "markdown",
      "metadata": {
        "id": "UbLcIPBj_mWZ"
      },
      "source": [
        "For training you'll need a dataset of `(input, label)` pairs. Where `input` and\n",
        "`label` are sequences. At each time step the input is the current character and the label is the next character. Here's a function that takes a sequence as input, duplicates it, and shifts it to align the input and label for each timestep:"
      ]
    },
    {
      "cell_type": "code",
      "metadata": {
        "execution": {
          "iopub.execute_input": "2021-08-11T18:24:54.829238Z",
          "iopub.status.busy": "2021-08-11T18:24:54.828497Z",
          "iopub.status.idle": "2021-08-11T18:24:54.830467Z",
          "shell.execute_reply": "2021-08-11T18:24:54.830891Z"
        },
        "id": "9NGu-FkO_kYU"
      },
      "source": [
        "def split_input_target(sequence):\n",
        "    input_text = sequence[:-1]\n",
        "    target_text = sequence[1:]\n",
        "    return input_text, target_text"
      ],
      "execution_count": 27,
      "outputs": []
    },
    {
      "cell_type": "code",
      "metadata": {
        "execution": {
          "iopub.execute_input": "2021-08-11T18:24:54.835585Z",
          "iopub.status.busy": "2021-08-11T18:24:54.834851Z",
          "iopub.status.idle": "2021-08-11T18:24:54.838059Z",
          "shell.execute_reply": "2021-08-11T18:24:54.837600Z"
        },
        "id": "WxbDTJTw5u_P",
        "colab": {
          "base_uri": "https://localhost:8080/"
        },
        "outputId": "7ff0d51a-281c-4a7d-e6fc-e5bec3220780"
      },
      "source": [
        "# Let's test the function - We can do the test using\n",
        "# a regular character string converted to a list.\n",
        "split_input_target(list(\"Tensorflow\"))"
      ],
      "execution_count": 28,
      "outputs": [
        {
          "output_type": "execute_result",
          "data": {
            "text/plain": [
              "(['T', 'e', 'n', 's', 'o', 'r', 'f', 'l', 'o'],\n",
              " ['e', 'n', 's', 'o', 'r', 'f', 'l', 'o', 'w'])"
            ]
          },
          "metadata": {},
          "execution_count": 28
        }
      ]
    },
    {
      "cell_type": "code",
      "metadata": {
        "execution": {
          "iopub.execute_input": "2021-08-11T18:24:54.864027Z",
          "iopub.status.busy": "2021-08-11T18:24:54.841876Z",
          "iopub.status.idle": "2021-08-11T18:24:54.884561Z",
          "shell.execute_reply": "2021-08-11T18:24:54.884061Z"
        },
        "id": "B9iKPXkw5xwa"
      },
      "source": [
        "# This is a curious construction - i.e., passing a function into the\n",
        "# sequences.map() bound method:\n",
        "dataset = sequences.map(split_input_target)\n",
        "#\n",
        "# Exercise 10.9: Look up the documentation for the map() bound: https://www.tensorflow.org/api_docs/python/tf/data/Dataset#map\n",
        "# method and then add a comment to explain the line of code in this block.\n",
        "# the split_input_target function is applied to every element in the sequences dataset, which separates input and target data."
      ],
      "execution_count": 29,
      "outputs": []
    },
    {
      "cell_type": "code",
      "metadata": {
        "execution": {
          "iopub.execute_input": "2021-08-11T18:24:54.889080Z",
          "iopub.status.busy": "2021-08-11T18:24:54.888454Z",
          "iopub.status.idle": "2021-08-11T18:24:54.907170Z",
          "shell.execute_reply": "2021-08-11T18:24:54.907541Z"
        },
        "id": "GNbw-iR0ymwj",
        "colab": {
          "base_uri": "https://localhost:8080/"
        },
        "outputId": "0a087960-1653-4e8a-da93-c004a11ca78c"
      },
      "source": [
        "for input_example, target_example in dataset.take(1):\n",
        "    print(\"Input :\", text_from_ids(input_example).numpy())\n",
        "    print(\"Target:\", text_from_ids(target_example).numpy())"
      ],
      "execution_count": 30,
      "outputs": [
        {
          "output_type": "stream",
          "name": "stdout",
          "text": [
            "Input : b'\\xef\\xbb\\xbfProject Gutenberg\\xe2\\x80\\x99s Plays by Chekhov, Second Series, by Anton Chekhov\\r\\n\\r\\nThis e'\n",
            "Target: b'Project Gutenberg\\xe2\\x80\\x99s Plays by Chekhov, Second Series, by Anton Chekhov\\r\\n\\r\\nThis eB'\n"
          ]
        }
      ]
    },
    {
      "cell_type": "markdown",
      "metadata": {
        "id": "MJdfPmdqzf-R"
      },
      "source": [
        "### Create training batches\n",
        "\n",
        "We have used `tf.data` to split the text into manageable sequences. Before using these data to train the model, we need to shuffle the data and pack it into batches. Remember from class that batching, AKA mini-batching, is a method of processing a group of input-output pairs together. This facilitates parallelization and can prevent overfitting."
      ]
    },
    {
      "cell_type": "code",
      "metadata": {
        "execution": {
          "iopub.execute_input": "2021-08-11T18:24:54.912261Z",
          "iopub.status.busy": "2021-08-11T18:24:54.911677Z",
          "iopub.status.idle": "2021-08-11T18:24:54.916643Z",
          "shell.execute_reply": "2021-08-11T18:24:54.916978Z"
        },
        "id": "p2pGotuNzf-S",
        "colab": {
          "base_uri": "https://localhost:8080/"
        },
        "outputId": "48a94e99-7cd1-464b-bcd1-aaad0bb593af"
      },
      "source": [
        "# Batch size\n",
        "BATCH_SIZE = 64\n",
        "\n",
        "# Buffer size to shuffle the dataset:\n",
        "# TF data is designed to work with possibly infinite sequences,\n",
        "# so it doesn't attempt to shuffle the entire sequence in memory. Instead,\n",
        "# it maintains a buffer in which it shuffles elements.\n",
        "BUFFER_SIZE = 10000\n",
        "\n",
        "dataset = (\n",
        "    dataset\n",
        "    .shuffle(BUFFER_SIZE)\n",
        "    .batch(BATCH_SIZE, drop_remainder=True)\n",
        "    .prefetch(tf.data.experimental.AUTOTUNE))\n",
        "\n",
        "dataset"
      ],
      "execution_count": 31,
      "outputs": [
        {
          "output_type": "execute_result",
          "data": {
            "text/plain": [
              "<_PrefetchDataset element_spec=(TensorSpec(shape=(64, 80), dtype=tf.int64, name=None), TensorSpec(shape=(64, 80), dtype=tf.int64, name=None))>"
            ]
          },
          "metadata": {},
          "execution_count": 31
        }
      ]
    },
    {
      "cell_type": "code",
      "metadata": {
        "id": "TT8t8k-g_27m"
      },
      "source": [
        "#\n",
        "# Exercise 10.10: Examine the documentation for shuffle, batch, and prefetch.\n",
        "# Try starting your exploration here: https://www.tensorflow.org/guide/data_performance\n",
        "# Write a one line comment explaining each concept. Make sure you mention\n",
        "# what AUTOTUNE is.\n",
        "\n",
        "\n",
        "# shuffle: Randomly shuffles the elements in a dataset to introduce randomness\n",
        "# batch: Groups elements in a dataset into batches\n",
        "# prefetch: Overlaps data preprocessing and model execution\n",
        "# AUTOTUNE: A special constant that allows TensorFlow to dynamically adjust the level of parallelism during data processing"
      ],
      "execution_count": 32,
      "outputs": []
    },
    {
      "cell_type": "markdown",
      "metadata": {
        "id": "r6oUuElIMgVx"
      },
      "source": [
        "## Build The Model"
      ]
    },
    {
      "cell_type": "markdown",
      "metadata": {
        "id": "m8gPwEjRzf-Z"
      },
      "source": [
        "This section defines the model as a `keras.Model` subclass (For details see [Making new Layers and Models via subclassing](https://www.tensorflow.org/guide/keras/custom_layers_and_models)).\n",
        "\n",
        "This model has three layers:\n",
        "\n",
        "* `tf.keras.layers.Embedding`: The input layer. A trainable lookup table that will map each character-ID to a vector with `embedding_dim` dimensions;\n",
        "* `tf.keras.layers.SimpleRNN`: A type of RNN with size `units=rnn_units` (You could also use a GRU or LSTM layer here.)\n",
        "* `tf.keras.layers.Dense`: The output layer, with `vocab_size` outputs. It outputs one logit for each character in the vocabulary. These are the log-likelihood of each character according to the model."
      ]
    },
    {
      "cell_type": "code",
      "metadata": {
        "execution": {
          "iopub.execute_input": "2021-08-11T18:24:54.921163Z",
          "iopub.status.busy": "2021-08-11T18:24:54.920603Z",
          "iopub.status.idle": "2021-08-11T18:24:54.922081Z",
          "shell.execute_reply": "2021-08-11T18:24:54.922401Z"
        },
        "id": "zHT8cLh7EAsg",
        "colab": {
          "base_uri": "https://localhost:8080/"
        },
        "outputId": "48a8092e-3d9a-4312-ad4f-a218dc58b3ef"
      },
      "source": [
        "# Length of the vocabulary in chars\n",
        "vocab_size = len(vocab)\n",
        "\n",
        "# The embedding dimension\n",
        "embedding_dim = 256 # 256 is kind of a generic choice that should work well\n",
        "# for various-sized character vocabularies. There is a danger of overfitting\n",
        "# when the size of the embedding layer exceeds the size of the vocabulary. This is essentially the dimension of x\n",
        "\n",
        "# Number of RNN units\n",
        "rnn_units = 1024 # This is tunable. Remember that each RNN unit has a little\n",
        "# bit of memory for what came before. Here 1024 provides four nodes for every\n",
        "# node in the embedding layer. Later, you might want to experiment with half\n",
        "# as many or twice as many. This is essentially the dimension of h\n",
        "\n",
        "vocab_size, embedding_dim, rnn_units"
      ],
      "execution_count": 33,
      "outputs": [
        {
          "output_type": "execute_result",
          "data": {
            "text/plain": [
              "(94, 256, 1024)"
            ]
          },
          "metadata": {},
          "execution_count": 33
        }
      ]
    },
    {
      "cell_type": "code",
      "metadata": {
        "id": "Q--wMnxH8s4w"
      },
      "source": [
        "# This builds a custom class for instantiating the Keras model\n",
        "#\n",
        "# Exercise 10.11: Add comments on the appropriate lines of code to\n",
        "# document each layer of the model. https://www.tensorflow.org/api_docs/python/tf/keras/layers/RNN\n",
        "#\n",
        "class MyModel(tf.keras.Model):\n",
        "  def __init__(self, vocab_size, embedding_dim, rnn_units):\n",
        "    super().__init__(self)\n",
        "\n",
        "    # What's this layer?     Embedding Layer\n",
        "    self.embedding = tf.keras.layers.Embedding(vocab_size, embedding_dim)\n",
        "\n",
        "    # What's this layer? SimpleRNN Layer\n",
        "    self.rnn = tf.keras.layers.SimpleRNN(rnn_units,\n",
        "                                   return_sequences=True,\n",
        "                                   return_state=True)\n",
        "\n",
        "    # What's this layer? Dense Layer\n",
        "    self.dense = tf.keras.layers.Dense(vocab_size)\n",
        "\n",
        "  def call(self, inputs, states=None, return_state=False, training=False):\n",
        "    x = inputs\n",
        "    x = self.embedding(x, training=training)\n",
        "    if states is None:\n",
        "      states = self.rnn.get_initial_state(x)\n",
        "    x, states = self.rnn(x, initial_state=states, training=training)\n",
        "    x = self.dense(x, training=training)\n",
        "\n",
        "    if return_state:\n",
        "      return x, states\n",
        "    else:\n",
        "      return x"
      ],
      "execution_count": 34,
      "outputs": []
    },
    {
      "cell_type": "markdown",
      "metadata": {
        "id": "gz4r3FUMBY9W"
      },
      "source": [
        "We could have used a `keras.Sequential` model here, as this architecture is quite simple. However, to  generate text later we will need to manage the RNN's internal state. It's simpler to include the state input and output options upfront, than it is to rearrange the model architecture later. For more details see the [Keras RNN guide](https://www.tensorflow.org/guide/keras/rnn#rnn_state_reuse)."
      ]
    },
    {
      "cell_type": "code",
      "metadata": {
        "execution": {
          "iopub.execute_input": "2021-08-11T18:24:54.933900Z",
          "iopub.status.busy": "2021-08-11T18:24:54.933342Z",
          "iopub.status.idle": "2021-08-11T18:24:54.945286Z",
          "shell.execute_reply": "2021-08-11T18:24:54.945609Z"
        },
        "id": "IX58Xj9z47Aw"
      },
      "source": [
        "# Now instantiate the class defined above.\n",
        "\n",
        "model = MyModel(\n",
        "    # Be sure the vocabulary size matches the `StringLookup` layers.\n",
        "    vocab_size=len(ids_from_chars.get_vocabulary()),\n",
        "    embedding_dim=embedding_dim,\n",
        "    rnn_units=rnn_units)"
      ],
      "execution_count": 35,
      "outputs": []
    },
    {
      "cell_type": "markdown",
      "metadata": {
        "id": "RkA5upJIJ7W7"
      },
      "source": [
        "For each character the model looks up the embedding, runs the RNN one timestep with the embedding as input, and applies the dense layer to generate logits predicting the log-likelihood of the next character. A logit can be turned into an odds ratio with exponentiation. Statisticians like to work with logits because they behave linearly."
      ]
    },
    {
      "cell_type": "markdown",
      "metadata": {
        "id": "-ubPo0_9Prjb"
      },
      "source": [
        "## Try the model\n",
        "\n",
        "Now run the model to see that it behaves as expected.\n",
        "\n",
        "First check the shape of the output:"
      ]
    },
    {
      "cell_type": "code",
      "metadata": {
        "execution": {
          "iopub.execute_input": "2021-08-11T18:24:54.950074Z",
          "iopub.status.busy": "2021-08-11T18:24:54.949469Z",
          "iopub.status.idle": "2021-08-11T18:24:57.944427Z",
          "shell.execute_reply": "2021-08-11T18:24:57.944816Z"
        },
        "id": "C-_70kKAPrPU",
        "colab": {
          "base_uri": "https://localhost:8080/"
        },
        "outputId": "b1c0bf60-ba0c-4323-bcdd-5be4967b33db"
      },
      "source": [
        "for input_example_batch, target_example_batch in dataset.take(1):\n",
        "    example_batch_predictions = model(input_example_batch)\n",
        "    print(example_batch_predictions.shape, \"# (batch_size, sequence_length, vocab_size)\")"
      ],
      "execution_count": 36,
      "outputs": [
        {
          "output_type": "stream",
          "name": "stdout",
          "text": [
            "(64, 80, 95) # (batch_size, sequence_length, vocab_size)\n"
          ]
        }
      ]
    },
    {
      "cell_type": "markdown",
      "metadata": {
        "id": "Q6NzLBi4VM4o"
      },
      "source": [
        "In the above example the sequence length of the input is `80` but the model can be run on inputs of any length:"
      ]
    },
    {
      "cell_type": "code",
      "metadata": {
        "execution": {
          "iopub.execute_input": "2021-08-11T18:24:57.950716Z",
          "iopub.status.busy": "2021-08-11T18:24:57.949988Z",
          "iopub.status.idle": "2021-08-11T18:24:57.953371Z",
          "shell.execute_reply": "2021-08-11T18:24:57.953741Z"
        },
        "id": "vPGmAAXmVLGC",
        "colab": {
          "base_uri": "https://localhost:8080/"
        },
        "outputId": "a742a221-27d4-4974-fcea-afbe6f209b4f"
      },
      "source": [
        "model.summary()"
      ],
      "execution_count": 37,
      "outputs": [
        {
          "output_type": "stream",
          "name": "stdout",
          "text": [
            "Model: \"my_model\"\n",
            "_________________________________________________________________\n",
            " Layer (type)                Output Shape              Param #   \n",
            "=================================================================\n",
            " embedding (Embedding)       multiple                  24320     \n",
            "                                                                 \n",
            " simple_rnn (SimpleRNN)      multiple                  1311744   \n",
            "                                                                 \n",
            " dense (Dense)               multiple                  97375     \n",
            "                                                                 \n",
            "=================================================================\n",
            "Total params: 1433439 (5.47 MB)\n",
            "Trainable params: 1433439 (5.47 MB)\n",
            "Non-trainable params: 0 (0.00 Byte)\n",
            "_________________________________________________________________\n"
          ]
        }
      ]
    },
    {
      "cell_type": "markdown",
      "metadata": {
        "id": "LJL0Q0YPY6Ee"
      },
      "source": [
        "## Train the model"
      ]
    },
    {
      "cell_type": "markdown",
      "metadata": {
        "id": "YCbHQHiaa4Ic"
      },
      "source": [
        "At this point the problem can be treated as a standard classification problem. Given the previous RNN state, and the input this time step, predict the class of the next character."
      ]
    },
    {
      "cell_type": "markdown",
      "metadata": {
        "id": "trpqTWyvk0nr"
      },
      "source": [
        "### Attach an optimizer, and a loss function"
      ]
    },
    {
      "cell_type": "markdown",
      "metadata": {
        "id": "UAjbjY03eiQ4"
      },
      "source": [
        "The standard `tf.keras.losses.sparse_categorical_crossentropy` loss function works in this case because it is applied across the last dimension of the predictions.\n",
        "\n",
        "Because your model returns logits, you need to set the `from_logits` flag.\n"
      ]
    },
    {
      "cell_type": "code",
      "metadata": {
        "execution": {
          "iopub.execute_input": "2021-08-11T18:24:57.984396Z",
          "iopub.status.busy": "2021-08-11T18:24:57.983751Z",
          "iopub.status.idle": "2021-08-11T18:24:57.985611Z",
          "shell.execute_reply": "2021-08-11T18:24:57.985987Z"
        },
        "id": "ZOeWdgxNFDXq"
      },
      "source": [
        "loss = tf.losses.SparseCategoricalCrossentropy(from_logits=True)"
      ],
      "execution_count": 38,
      "outputs": []
    },
    {
      "cell_type": "code",
      "metadata": {
        "execution": {
          "iopub.execute_input": "2021-08-11T18:24:57.991174Z",
          "iopub.status.busy": "2021-08-11T18:24:57.990533Z",
          "iopub.status.idle": "2021-08-11T18:24:57.997194Z",
          "shell.execute_reply": "2021-08-11T18:24:57.996735Z"
        },
        "id": "4HrXTACTdzY-",
        "colab": {
          "base_uri": "https://localhost:8080/"
        },
        "outputId": "4fdc9ac3-45bd-4926-a9eb-c7f7671fa4ca"
      },
      "source": [
        "example_batch_loss = loss(target_example_batch, example_batch_predictions)\n",
        "mean_loss = example_batch_loss.numpy().mean()\n",
        "print(\"Prediction shape: \", example_batch_predictions.shape, \" # (batch_size, sequence_length, vocab_size)\")\n",
        "print(\"Mean loss:        \", mean_loss)"
      ],
      "execution_count": 39,
      "outputs": [
        {
          "output_type": "stream",
          "name": "stdout",
          "text": [
            "Prediction shape:  (64, 80, 95)  # (batch_size, sequence_length, vocab_size)\n",
            "Mean loss:         4.562402\n"
          ]
        }
      ]
    },
    {
      "cell_type": "markdown",
      "metadata": {
        "id": "vkvUIneTFiow"
      },
      "source": [
        "A newly initialized model shouldn't be too sure of itself, the output logits should all have similar magnitudes. To confirm this you can check that the exponential of the mean loss is approximately equal to the vocabulary size. A much higher loss means the model is sure of its wrong answers, and is badly initialized:"
      ]
    },
    {
      "cell_type": "code",
      "metadata": {
        "execution": {
          "iopub.execute_input": "2021-08-11T18:24:58.001780Z",
          "iopub.status.busy": "2021-08-11T18:24:58.001138Z",
          "iopub.status.idle": "2021-08-11T18:24:58.005003Z",
          "shell.execute_reply": "2021-08-11T18:24:58.004544Z"
        },
        "id": "MAJfS5YoFiHf",
        "colab": {
          "base_uri": "https://localhost:8080/"
        },
        "outputId": "7f58908e-6c09-4153-f7f2-d718bbc2e3f7"
      },
      "source": [
        "tf.exp(mean_loss).numpy()"
      ],
      "execution_count": 40,
      "outputs": [
        {
          "output_type": "execute_result",
          "data": {
            "text/plain": [
              "95.813324"
            ]
          },
          "metadata": {},
          "execution_count": 40
        }
      ]
    },
    {
      "cell_type": "code",
      "metadata": {
        "id": "FTP3PpO5W6JU"
      },
      "source": [
        "#\n",
        "# Exercise 10.12: Add some code that compares the exponentiated mean loss with\n",
        "# the size of the vocabulary (look in earlier cells for this value). If the\n",
        "# exp(mean_loss) is more than 10% larger than the vocab size, print a warning.\n",
        "#\n",
        "\n",
        "vocab_size = len(vocab)\n",
        "exp_mean_loss = tf.exp(mean_loss).numpy()\n",
        "\n",
        "if exp_mean_loss > 1.1* vocab_size:\n",
        "  print(\"print a warning\")"
      ],
      "execution_count": 63,
      "outputs": []
    },
    {
      "cell_type": "markdown",
      "metadata": {
        "id": "jeOXriLcymww"
      },
      "source": [
        "Configure the training procedure using the `tf.keras.Model.compile` method. Use `tf.keras.optimizers.Adam` with default arguments and the loss function."
      ]
    },
    {
      "cell_type": "code",
      "metadata": {
        "execution": {
          "iopub.execute_input": "2021-08-11T18:24:58.013648Z",
          "iopub.status.busy": "2021-08-11T18:24:58.012966Z",
          "iopub.status.idle": "2021-08-11T18:24:58.019077Z",
          "shell.execute_reply": "2021-08-11T18:24:58.018481Z"
        },
        "id": "DDl1_Een6rL0"
      },
      "source": [
        "model.compile(optimizer='adam', loss=loss)"
      ],
      "execution_count": 42,
      "outputs": []
    },
    {
      "cell_type": "markdown",
      "metadata": {
        "id": "ieSJdchZggUj"
      },
      "source": [
        "### Configure checkpoints"
      ]
    },
    {
      "cell_type": "markdown",
      "metadata": {
        "id": "C6XBUUavgF56"
      },
      "source": [
        "Use a `tf.keras.callbacks.ModelCheckpoint` to ensure that checkpoints are saved during training:"
      ]
    },
    {
      "cell_type": "code",
      "metadata": {
        "execution": {
          "iopub.execute_input": "2021-08-11T18:24:58.024393Z",
          "iopub.status.busy": "2021-08-11T18:24:58.023777Z",
          "iopub.status.idle": "2021-08-11T18:24:58.025672Z",
          "shell.execute_reply": "2021-08-11T18:24:58.026012Z"
        },
        "id": "W6fWTriUZP-n"
      },
      "source": [
        "# Directory where the checkpoints will be saved\n",
        "checkpoint_dir = './training_checkpoints'\n",
        "# Name of the checkpoint files\n",
        "checkpoint_prefix = os.path.join(checkpoint_dir, \"ckpt_{epoch}\")\n",
        "\n",
        "#https://www.tensorflow.org/api_docs/python/tf/keras/callbacks/ModelCheckpoint\n",
        "checkpoint_callback = tf.keras.callbacks.ModelCheckpoint(\n",
        "    filepath=checkpoint_prefix,\n",
        "    save_weights_only=True)"
      ],
      "execution_count": 43,
      "outputs": []
    },
    {
      "cell_type": "markdown",
      "metadata": {
        "id": "3Ky3F_BhgkTW"
      },
      "source": [
        "### Execute the training"
      ]
    },
    {
      "cell_type": "markdown",
      "metadata": {
        "id": "IxdOA-rgyGvs"
      },
      "source": [
        "To keep training time reasonable, use 20 epochs to train the model. In Colab, set the runtime to GPU for faster training. Note that with all of the starter defaults in this notebook, each epoch takes about 10 seconds, so only about 3 minutes to train this model."
      ]
    },
    {
      "cell_type": "code",
      "metadata": {
        "execution": {
          "iopub.execute_input": "2021-08-11T18:24:58.030422Z",
          "iopub.status.busy": "2021-08-11T18:24:58.029840Z",
          "iopub.status.idle": "2021-08-11T18:24:58.031719Z",
          "shell.execute_reply": "2021-08-11T18:24:58.032055Z"
        },
        "id": "7yGBE2zxMMHs"
      },
      "source": [
        "EPOCHS = 20"
      ],
      "execution_count": 44,
      "outputs": []
    },
    {
      "cell_type": "code",
      "metadata": {
        "execution": {
          "iopub.execute_input": "2021-08-11T18:24:58.036492Z",
          "iopub.status.busy": "2021-08-11T18:24:58.035869Z",
          "iopub.status.idle": "2021-08-11T18:26:49.222172Z",
          "shell.execute_reply": "2021-08-11T18:26:49.222645Z"
        },
        "id": "UK-hmKjYVoll",
        "colab": {
          "base_uri": "https://localhost:8080/"
        },
        "outputId": "4f56bef3-edd4-4f5d-a232-062eaea41572"
      },
      "source": [
        "history = model.fit(dataset, epochs=EPOCHS, callbacks=[checkpoint_callback])"
      ],
      "execution_count": 45,
      "outputs": [
        {
          "output_type": "stream",
          "name": "stdout",
          "text": [
            "Epoch 1/20\n",
            "79/79 [==============================] - 10s 92ms/step - loss: 3.3269\n",
            "Epoch 2/20\n",
            "79/79 [==============================] - 6s 66ms/step - loss: 2.5495\n",
            "Epoch 3/20\n",
            "79/79 [==============================] - 9s 101ms/step - loss: 2.3151\n",
            "Epoch 4/20\n",
            "79/79 [==============================] - 12s 137ms/step - loss: 2.1524\n",
            "Epoch 5/20\n",
            "79/79 [==============================] - 14s 153ms/step - loss: 2.0313\n",
            "Epoch 6/20\n",
            "79/79 [==============================] - 8s 91ms/step - loss: 1.9337\n",
            "Epoch 7/20\n",
            "79/79 [==============================] - 6s 68ms/step - loss: 1.8435\n",
            "Epoch 8/20\n",
            "79/79 [==============================] - 13s 148ms/step - loss: 1.7667\n",
            "Epoch 9/20\n",
            "79/79 [==============================] - 10s 118ms/step - loss: 1.6995\n",
            "Epoch 10/20\n",
            "79/79 [==============================] - 7s 75ms/step - loss: 1.6440\n",
            "Epoch 11/20\n",
            "79/79 [==============================] - 6s 72ms/step - loss: 1.5857\n",
            "Epoch 12/20\n",
            "79/79 [==============================] - 7s 66ms/step - loss: 1.5414\n",
            "Epoch 13/20\n",
            "79/79 [==============================] - 7s 77ms/step - loss: 1.4989\n",
            "Epoch 14/20\n",
            "79/79 [==============================] - 6s 63ms/step - loss: 1.4596\n",
            "Epoch 15/20\n",
            "79/79 [==============================] - 6s 63ms/step - loss: 1.4237\n",
            "Epoch 16/20\n",
            "79/79 [==============================] - 7s 76ms/step - loss: 1.3920\n",
            "Epoch 17/20\n",
            "79/79 [==============================] - 7s 77ms/step - loss: 1.3612\n",
            "Epoch 18/20\n",
            "79/79 [==============================] - 6s 64ms/step - loss: 1.3316\n",
            "Epoch 19/20\n",
            "79/79 [==============================] - 6s 64ms/step - loss: 1.3074\n",
            "Epoch 20/20\n",
            "79/79 [==============================] - 6s 63ms/step - loss: 1.2790\n"
          ]
        }
      ]
    },
    {
      "cell_type": "code",
      "metadata": {
        "id": "b_g3O3-KZE-M"
      },
      "source": [
        "#\n",
        "# Exercise 10.13: Click on the file folder in the left hand control bar.\n",
        "# Open up the training_checkpoints folder. How many training checkpoints\n",
        "# do you see. Add a comment saying why there are that many checkpoints.\n",
        "# 20 Checkpoint: That is becuase of the 20 epoch\n"
      ],
      "execution_count": 46,
      "outputs": []
    },
    {
      "cell_type": "markdown",
      "metadata": {
        "id": "kKkD5M6eoSiN"
      },
      "source": [
        "## Generate text"
      ]
    },
    {
      "cell_type": "markdown",
      "metadata": {
        "id": "oIdQ8c8NvMzV"
      },
      "source": [
        "The simplest way to generate text with this model is to run it in a loop, and keep track of the model's internal state as it runs. Each time we call the model we pass in a slice of text and an internal state.\n",
        "\n",
        "The model returns a prediction for the next character as well as its new state. Pass the prediction and state back in to continue generating text. The class defined below accomplishes one step in this chain of model runs. When the generate_one_step() bound method is called, it makes a single step prediction.  "
      ]
    },
    {
      "cell_type": "code",
      "metadata": {
        "execution": {
          "iopub.execute_input": "2021-08-11T18:26:49.231962Z",
          "iopub.status.busy": "2021-08-11T18:26:49.231408Z",
          "iopub.status.idle": "2021-08-11T18:26:49.233437Z",
          "shell.execute_reply": "2021-08-11T18:26:49.232954Z"
        },
        "id": "iSBU1tHmlUSs"
      },
      "source": [
        "class OneStep(tf.keras.Model):\n",
        "  def __init__(self, model, chars_from_ids, ids_from_chars, temperature=1.0):\n",
        "    super().__init__()\n",
        "    self.temperature = temperature   #The temperature to use for scaling the logits. https://theailearner.com/tag/temperature-scaling/\n",
        "    self.model = model\n",
        "    self.chars_from_ids = chars_from_ids\n",
        "    self.ids_from_chars = ids_from_chars\n",
        "\n",
        "    # Create a mask to prevent \"[UNK]\" from being generated.\n",
        "    skip_ids = self.ids_from_chars(['[UNK]'])[:, None]\n",
        "    sparse_mask = tf.SparseTensor(\n",
        "        # Put a -inf at each bad index.\n",
        "        values=[-float('inf')]*len(skip_ids),\n",
        "        indices=skip_ids,\n",
        "        # Match the shape to the vocabulary\n",
        "        dense_shape=[len(ids_from_chars.get_vocabulary())])\n",
        "    self.prediction_mask = tf.sparse.to_dense(sparse_mask)\n",
        "\n",
        "  @tf.function\n",
        "  def generate_one_step(self, inputs, states=None):\n",
        "    # Convert strings to token IDs.\n",
        "    input_chars = tf.strings.unicode_split(inputs, 'UTF-8')\n",
        "    input_ids = self.ids_from_chars(input_chars).to_tensor()\n",
        "\n",
        "    # Run the model.\n",
        "    # predicted_logits.shape is [batch, char, next_char_logits]\n",
        "    predicted_logits, states = self.model(inputs=input_ids, states=states,\n",
        "                                          return_state=True)\n",
        "    # Only use the last prediction.\n",
        "    predicted_logits = predicted_logits[:, -1, :]\n",
        "    predicted_logits = predicted_logits/self.temperature\n",
        "    # Apply the prediction mask: prevent \"[UNK]\" from being generated.\n",
        "    predicted_logits = predicted_logits + self.prediction_mask\n",
        "\n",
        "    # Sample the output logits to generate token IDs.\n",
        "    predicted_ids = tf.random.categorical(predicted_logits, num_samples=1)\n",
        "    predicted_ids = tf.squeeze(predicted_ids, axis=-1)\n",
        "\n",
        "    # Convert from token ids to characters\n",
        "    predicted_chars = self.chars_from_ids(predicted_ids)\n",
        "\n",
        "    # Return the characters and model state.\n",
        "    return predicted_chars, states"
      ],
      "execution_count": 47,
      "outputs": []
    },
    {
      "cell_type": "code",
      "metadata": {
        "execution": {
          "iopub.execute_input": "2021-08-11T18:26:49.238176Z",
          "iopub.status.busy": "2021-08-11T18:26:49.237539Z",
          "iopub.status.idle": "2021-08-11T18:26:49.244921Z",
          "shell.execute_reply": "2021-08-11T18:26:49.245283Z"
        },
        "id": "fqMOuDutnOxK"
      },
      "source": [
        "# Now we can instantiate the class. Take note of the arguments we are\n",
        "# passing in.\n",
        "one_step_model = OneStep(model, chars_from_ids, ids_from_chars)"
      ],
      "execution_count": 48,
      "outputs": []
    },
    {
      "cell_type": "code",
      "metadata": {
        "id": "0a8hSzw6aiy8"
      },
      "source": [
        "#\n",
        "# Exercise 10.14: Display the type() of each of the agruments passed into\n",
        "# the class initializer in the previous cell. Explain why each of the\n",
        "# three arguments is needed to initialize the OneStep class.\n",
        "#"
      ],
      "execution_count": 49,
      "outputs": []
    },
    {
      "cell_type": "markdown",
      "metadata": {
        "id": "p9yDoa0G3IgQ"
      },
      "source": [
        "Run it in a loop to generate some text. Looking at the generated text, you'll see the model knows when to capitalize, make paragraphs and imitates a Chekhov-like  vocabulary. With the small number of training epochs, it has not yet learned to form coherent sentences."
      ]
    },
    {
      "cell_type": "code",
      "metadata": {
        "execution": {
          "iopub.execute_input": "2021-08-11T18:26:49.251455Z",
          "iopub.status.busy": "2021-08-11T18:26:49.250898Z",
          "iopub.status.idle": "2021-08-11T18:26:51.562788Z",
          "shell.execute_reply": "2021-08-11T18:26:51.562298Z"
        },
        "id": "ST7PSyk9t1mT",
        "colab": {
          "base_uri": "https://localhost:8080/"
        },
        "outputId": "ceaf642a-899f-4efe-e9c7-cac7cc318283"
      },
      "source": [
        "start = time.time()\n",
        "states = None\n",
        "next_char = tf.constant(['NATALYA STEPANOVNA.'])\n",
        "result = [next_char]\n",
        "\n",
        "\n",
        "for n in range(1000):\n",
        "  next_char, states = one_step_model.generate_one_step(next_char, states=states)\n",
        "  result.append(next_char)\n",
        "\n",
        "result = tf.strings.join(result)\n",
        "end = time.time()\n",
        "print(result[0].numpy().decode('utf-8'), '\\n\\n' + '_'*80)\n",
        "print('\\nRun time:', end - start)\n"
      ],
      "execution_count": 50,
      "outputs": [
        {
          "output_type": "stream",
          "name": "stdout",
          "text": [
            "NATALYA STEPANOVNA. Denely? [Tells his opinian _acturely! [Pause] Yes, for everybady fawes, Verya. He’s do sitting the or frobodacians homes a Greating me the wind] Chargh of MARAA]\r\n",
            "\r\n",
            "LUBOV Khar] Midis she dascilied, litter has bey Kistrabiear. Such a bair, and itn’t it a minfivissible love phenines roaning were squaybliste; the way so\r\n",
            "mine.]\r\n",
            "\r\n",
            "VARYA. [Apprices to-day. [Coulail GAEVS Putemank and elgey dogning reading] If you haven’t by\r\n",
            "or Monoin and copyeng--If home] my wife! . In nothing vight, Bat doesn’t. You gellencluted to treirsed about this\r\n",
            "causa; cages quiet him to-morrow. I’ll crysely, lock is sted everything’s love of Correction round in always a must and you can all even doingsible piterly sehmoning a traif it? I want for you are even sharectroan.... Marie...\r\n",
            "nothing concest to his wishev, but on the\r\n",
            "prace] The what something ears, the stride] Wrate, was a minute.]\r\n",
            "\r\n",
            "Curtain.\r\n",
            "\r\n",
            "SHIPUCHIN. How letty to\r\n",
            "man,\r\n",
            "and doesn’t bel, feoule of the man, just its-you... I’ve come me, just the c \n",
            "\n",
            "________________________________________________________________________________\n",
            "\n",
            "Run time: 2.849154472351074\n"
          ]
        }
      ]
    },
    {
      "cell_type": "markdown",
      "metadata": {
        "id": "AM2Uma_-yVIq"
      },
      "source": [
        "The easiest thing you can do to improve the results is to train it for longer (try `EPOCHS = 30`).\n",
        "\n",
        "You can also experiment with a different start string, try adding another RNN layer to improve the model's accuracy, or adjust the temperature parameter to generate more or less random predictions.\n",
        "\n",
        "If you want the model to generate text faster the easiest thing you can do is batch the text generation. In the example below the model generates three texts in about the same time it took to generate just one above."
      ]
    },
    {
      "cell_type": "code",
      "metadata": {
        "execution": {
          "iopub.execute_input": "2021-08-11T18:26:51.568807Z",
          "iopub.status.busy": "2021-08-11T18:26:51.568077Z",
          "iopub.status.idle": "2021-08-11T18:26:53.770322Z",
          "shell.execute_reply": "2021-08-11T18:26:53.770785Z"
        },
        "id": "ZkLu7Y8UCMT7",
        "colab": {
          "base_uri": "https://localhost:8080/"
        },
        "outputId": "fa900efb-c491-4475-e1ab-3f2aa99eb09d"
      },
      "source": [
        "start = time.time()\n",
        "states = None\n",
        "next_char = tf.constant(['NATALYA STEPANOVNA.', 'NATALYA STEPANOVNA.', 'NATALYA STEPANOVNA.'])\n",
        "result = [next_char]\n",
        "\n",
        "for n in range(1000):\n",
        "  next_char, states = one_step_model.generate_one_step(next_char, states=states)\n",
        "  result.append(next_char)\n",
        "\n",
        "result = tf.strings.join(result)\n",
        "end = time.time()\n",
        "print(result, '\\n\\n' + '_'*80)\n",
        "print('\\nRun time:', end - start)"
      ],
      "execution_count": 51,
      "outputs": [
        {
          "output_type": "stream",
          "name": "stdout",
          "text": [
            "tf.Tensor(\n",
            "[b'NATALYA STEPANOVNA. Once is very one manvice for aftet you ask my on jester it.\\r\\nTentingincelf and without forthail Masha, I knaw, pleep and excuse me, your both?\\r\\n\\r\\nSMIRNOV. Nipes, werrithors, and the maid adowing and YAAS\\r\\nDEECTERS\\r\\n\\r\\n\\r\\nACO\\xe2\\x80\\x99S\\r\\nANDREY,\\r\\nscrunh things which it something under little firthy is it, and a blaid\\xe2\\x80\\x99s\\r\\npersins.... I shall be selves. I\\xe2\\x80\\x99ll have\\r\\nyou. Yes, Beriv. [In your\\r\\nshall life as aur younge, Va!]\\r\\n\\r\\nCHUBUKOV. [Innibles interestinasing a fillisiin is in bediea, Ever little flower your wife.... I can\\xe2\\x80\\x99t bly fleece, or other like Louss ever\\r\\npresented] Undrilvisment, why are all diedsicagly more.]\\r\\n\\r\\nLUBOV. I was something it, your Lidels bying to distant this tirent falling\\r\\nexcellency, My year pereeps a brive\\r\\noal and\\r\\nmorring usfully-sixcellency,\\r\\nincluan\\r\\nit.\\r\\nIt fieles no TUZENBACH, angry. The\\r\\npusitingly! gaver.\\r\\n\\r\\nOLGA. I can go anyted to-day affeirt of this\\r\\npocket] Illess are here?\\r\\n\\r\\nANFISA. Notoly\\r\\nthe train... Fashand-rese caining a nece\\r\\nI vave charge of yaurs, that'\n",
            " b'NATALYA STEPANOVNA. No... shate.... You onat in mise is bank.... He poen. [ENINA] OnGELEYEVNA. [Caughs]\\r\\nWe remain 1od the rogunts] A difes, just by that of a little even anoble mighto, givan place] Fermie--thought or excectime?\\r\\n\\r\\nFEDCHITI IVANOVNA, I was nothing. The peace] I\\xe2\\x80\\x99m in love wee.... [Burt is\\r\\n*\\nIRENA] My his medich a hisple in leaving. Thank; little \\xe2\\x80\\x9cAstation, and ladies. ThOr for your tone of his alone times before froe alone in his hear] I hear,\\r\\nservant issely pretend isspointin)\\r\\n Ehime me, leffied.\\r\\n\\r\\nNATILYA STEPANOVNA. Please don\\xe2\\x80\\x99t\\r\\nhe postais is = Oh, My dear show you to talking its some in hears is\\r\\nlang her coursill.]\\r\\n\\r\\nFERTHENI. Yes. [Puts his soppas in the capire-Rass of 180T\\nhe cherky on restry. I sall take all med funemst. There you getting it, I\\xe2\\x80\\x99ll\\r\\ngo ou! Olmuraply, my paading.\\r\\n\\r\\nSERENI. His is the\\r\\nBerthiness] Take my life.. Enother, a light\\r\\nof coming man. I haven\\xe2\\x80\\x99t you go?\\r\\n\\r\\nDUNYASHA. They\\xe2\\x80\\x99ve gote, it\\xe2\\x80\\x99s the wnow in curudent will all the pace battery\\r\\nchawing vuist. Plea'\n",
            " b'NATALYA STEPANOVNA. Only.\\r\\n\\r\\nDEEBS. I\\xe2\\x80\\x99ve angerowr.... [All Peonaision] Onle it. And you. Speak that cong, you can\\r\\ndould\\r\\nanstentias; she don\\xe2\\x80\\x99t think man. I can see how you clears a man say. _ dod noish 151.]\\r\\n\\r\\nIRINA. I hove voice] Where nequied\\r\\nanything blui_ am s\\r\\nwant? The very speaking\\r\\nexceating in the bail when a ban-to you can do wht five Moscow. I asks has be so on! Something off.\\r\\n\\r\\nANYA. [Rights his sort.... Why you can sud to\\r\\ntulling. \\xe2\\x80\\x9cYou may cree and all almention.... Bace\\r\\nand the knawn; brother we, in the doctor.\\r\\n\\r\\nLUBOV. Can I want to lace.\\r\\n[Nats cold-cobear.\\r\\n\\r\\nLUBOV. She\\xe2\\x80\\x99s only light.\\r.\\r\\n\\r\\nTUZENBACH. Yes, he quiedly wore town. It usnation officer.\\r\\n\\r\\nVERSHININ. Where am twey you must excupe here?\\r\\n\\r\\nANFISA. [Pause.]\\r\\n\\r\\nANDREY. Thas is is here.... They give you....\\r\\n\\r\\nANFISA. [Say] I told your\\r\\nputition as aftail just for the project Gutenberg,\\r\\nthe countey]\\r\\n\\r\\nVERSHININ. [Laughs] We wenter awhir\\r\\ndeapperented\\r\\nplacective capiony olp,\\r\\npricetern.... [Ketress a] I aw all,\\r\\nmy\\r\\ncheer '], shape=(3,), dtype=string) \n",
            "\n",
            "________________________________________________________________________________\n",
            "\n",
            "Run time: 2.4337282180786133\n"
          ]
        }
      ]
    },
    {
      "cell_type": "code",
      "metadata": {
        "id": "sVqwkgl2b65d"
      },
      "source": [
        "#\n",
        "# Exercise 10.15: Add a comment describing why the model produces different text\n",
        "# even though you have provided the same seed three times.\n",
        "# Becuase of randomness due to the nature of (RNNs)"
      ],
      "execution_count": 52,
      "outputs": []
    },
    {
      "cell_type": "markdown",
      "metadata": {
        "id": "WVGQ33Tqe_s1"
      },
      "source": [
        "**Improving the Model**\n",
        "\n",
        "There are several strategies that might improve the performance of the model. Try them in the following order:\n",
        "\n",
        "* Reduce the temperature in the initialization of the OneStep class to reduce the randomness in generation of new characters (https://cs.stackexchange.com/questions/79241/what-is-temperature-in-lstm-and-neural-networks-generally)\n",
        "* Increase the training epochs by 50% or more to get the model loss to be lower\n",
        "* Increase the number of nodes in the existing SimpleRNN layer to give the model more \"intelligience\"\n",
        "* Add an additional layer of RNN after the first layer to improve the model's \"memory\"\n",
        "\n",
        "Depending upon the amount of time left in the lab, try one or more of these techniques. For the moment we don't have a way of documenting model quality other than your own read of the generated text to see whether it is creating real words and sensible sentences. But that's a fine criterion for now. Make sure to add comments documenting what you find out."
      ]
    }
  ]
}