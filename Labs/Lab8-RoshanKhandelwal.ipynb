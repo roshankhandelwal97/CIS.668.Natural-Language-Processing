{
  "cells": [
    {
      "cell_type": "markdown",
      "metadata": {
        "id": "WMGeB9NmUTyD"
      },
      "source": [
        "**IST664 - NLP Lab Week 8**\n",
        "\n",
        "Word vectors are numeric representations of words in multidimensional space. Early popular word vectors include GloVe, a technique that obtains vectors from a large word co-occurence matrix developed from a corpus, and Word2vec, an predictive neural network training process that does repetitive, incremental training over strings of tokens in a corpus. There are also more recent word embeddings such as Elmo and BERT. In this lab, we will practice different word embedding techniques to convert text data into vectors of numeric data. The input text file is called \"tweets.txt\". There is a website reference for reading in the file, so it should not have to be uploaded to the file system of the virtual machine.\n",
        "\n",
        "The total run time of this notebook without any of the code that you need to add for the lab is about eight minutes. Thus one strategy for working on the lab would be to click \"Run All\" (in the Runtime Menu) before the break. The code can then run during the break and you can come back to find all of your word embedding models loaded."
      ]
    },
    {
      "cell_type": "code",
      "execution_count": null,
      "metadata": {
        "colab": {
          "base_uri": "https://localhost:8080/",
          "height": 796
        },
        "id": "SQQlPR2sQbGi",
        "outputId": "771642e8-cad4-4f9b-d916-89296be6b88e"
      },
      "outputs": [
        {
          "output_type": "stream",
          "name": "stdout",
          "text": [
            "Requirement already satisfied: google-cloud-storage in /usr/local/lib/python3.10/dist-packages (2.8.0)\n",
            "Collecting google-cloud-storage\n",
            "  Downloading google_cloud_storage-2.12.0-py2.py3-none-any.whl (120 kB)\n",
            "\u001b[2K     \u001b[90m━━━━━━━━━━━━━━━━━━━━━━━━━━━━━━━━━━━━━━━━\u001b[0m \u001b[32m120.5/120.5 kB\u001b[0m \u001b[31m2.8 MB/s\u001b[0m eta \u001b[36m0:00:00\u001b[0m\n",
            "\u001b[?25hCollecting google-auth<3.0dev,>=2.23.3 (from google-cloud-storage)\n",
            "  Downloading google_auth-2.23.3-py2.py3-none-any.whl (182 kB)\n",
            "\u001b[2K     \u001b[90m━━━━━━━━━━━━━━━━━━━━━━━━━━━━━━━━━━━━━━━━\u001b[0m \u001b[32m182.3/182.3 kB\u001b[0m \u001b[31m11.9 MB/s\u001b[0m eta \u001b[36m0:00:00\u001b[0m\n",
            "\u001b[?25hRequirement already satisfied: google-api-core!=2.0.*,!=2.1.*,!=2.2.*,!=2.3.0,<3.0.0dev,>=1.31.5 in /usr/local/lib/python3.10/dist-packages (from google-cloud-storage) (2.11.1)\n",
            "Requirement already satisfied: google-cloud-core<3.0dev,>=2.3.0 in /usr/local/lib/python3.10/dist-packages (from google-cloud-storage) (2.3.3)\n",
            "Requirement already satisfied: google-resumable-media>=2.6.0 in /usr/local/lib/python3.10/dist-packages (from google-cloud-storage) (2.6.0)\n",
            "Requirement already satisfied: requests<3.0.0dev,>=2.18.0 in /usr/local/lib/python3.10/dist-packages (from google-cloud-storage) (2.31.0)\n",
            "Requirement already satisfied: google-crc32c<2.0dev,>=1.0 in /usr/local/lib/python3.10/dist-packages (from google-cloud-storage) (1.5.0)\n",
            "Requirement already satisfied: googleapis-common-protos<2.0.dev0,>=1.56.2 in /usr/local/lib/python3.10/dist-packages (from google-api-core!=2.0.*,!=2.1.*,!=2.2.*,!=2.3.0,<3.0.0dev,>=1.31.5->google-cloud-storage) (1.61.0)\n",
            "Requirement already satisfied: protobuf!=3.20.0,!=3.20.1,!=4.21.0,!=4.21.1,!=4.21.2,!=4.21.3,!=4.21.4,!=4.21.5,<5.0.0.dev0,>=3.19.5 in /usr/local/lib/python3.10/dist-packages (from google-api-core!=2.0.*,!=2.1.*,!=2.2.*,!=2.3.0,<3.0.0dev,>=1.31.5->google-cloud-storage) (3.20.3)\n",
            "Requirement already satisfied: cachetools<6.0,>=2.0.0 in /usr/local/lib/python3.10/dist-packages (from google-auth<3.0dev,>=2.23.3->google-cloud-storage) (5.3.2)\n",
            "Requirement already satisfied: pyasn1-modules>=0.2.1 in /usr/local/lib/python3.10/dist-packages (from google-auth<3.0dev,>=2.23.3->google-cloud-storage) (0.3.0)\n",
            "Requirement already satisfied: rsa<5,>=3.1.4 in /usr/local/lib/python3.10/dist-packages (from google-auth<3.0dev,>=2.23.3->google-cloud-storage) (4.9)\n",
            "Requirement already satisfied: charset-normalizer<4,>=2 in /usr/local/lib/python3.10/dist-packages (from requests<3.0.0dev,>=2.18.0->google-cloud-storage) (3.3.1)\n",
            "Requirement already satisfied: idna<4,>=2.5 in /usr/local/lib/python3.10/dist-packages (from requests<3.0.0dev,>=2.18.0->google-cloud-storage) (3.4)\n",
            "Requirement already satisfied: urllib3<3,>=1.21.1 in /usr/local/lib/python3.10/dist-packages (from requests<3.0.0dev,>=2.18.0->google-cloud-storage) (2.0.7)\n",
            "Requirement already satisfied: certifi>=2017.4.17 in /usr/local/lib/python3.10/dist-packages (from requests<3.0.0dev,>=2.18.0->google-cloud-storage) (2023.7.22)\n",
            "Requirement already satisfied: pyasn1<0.6.0,>=0.4.6 in /usr/local/lib/python3.10/dist-packages (from pyasn1-modules>=0.2.1->google-auth<3.0dev,>=2.23.3->google-cloud-storage) (0.5.0)\n",
            "Installing collected packages: google-auth, google-cloud-storage\n",
            "  Attempting uninstall: google-auth\n",
            "    Found existing installation: google-auth 2.17.3\n",
            "    Uninstalling google-auth-2.17.3:\n",
            "      Successfully uninstalled google-auth-2.17.3\n",
            "  Attempting uninstall: google-cloud-storage\n",
            "    Found existing installation: google-cloud-storage 2.8.0\n",
            "    Uninstalling google-cloud-storage-2.8.0:\n",
            "      Successfully uninstalled google-cloud-storage-2.8.0\n",
            "\u001b[31mERROR: pip's dependency resolver does not currently take into account all the packages that are installed. This behaviour is the source of the following dependency conflicts.\n",
            "llmx 0.0.15a0 requires cohere, which is not installed.\n",
            "llmx 0.0.15a0 requires openai, which is not installed.\n",
            "llmx 0.0.15a0 requires tiktoken, which is not installed.\n",
            "google-colab 1.0.0 requires google-auth==2.17.3, but you have google-auth 2.23.3 which is incompatible.\u001b[0m\u001b[31m\n",
            "\u001b[0mSuccessfully installed google-auth-2.23.3 google-cloud-storage-2.12.0\n"
          ]
        },
        {
          "output_type": "display_data",
          "data": {
            "application/vnd.colab-display-data+json": {
              "pip_warning": {
                "packages": [
                  "google"
                ]
              }
            }
          },
          "metadata": {}
        }
      ],
      "source": [
        "!pip install --upgrade google-cloud-storage"
      ]
    },
    {
      "cell_type": "code",
      "execution_count": null,
      "metadata": {
        "colab": {
          "base_uri": "https://localhost:8080/"
        },
        "id": "UgXKB7hFWIHt",
        "outputId": "5ccf22bf-c6e5-412f-80e4-f1c64fb757fa"
      },
      "outputs": [
        {
          "output_type": "stream",
          "name": "stdout",
          "text": [
            "Collecting allennlp\n",
            "  Downloading allennlp-2.10.1-py3-none-any.whl (730 kB)\n",
            "\u001b[2K     \u001b[90m━━━━━━━━━━━━━━━━━━━━━━━━━━━━━━━━━━━━━━━━\u001b[0m \u001b[32m730.2/730.2 kB\u001b[0m \u001b[31m10.2 MB/s\u001b[0m eta \u001b[36m0:00:00\u001b[0m\n",
            "\u001b[?25hCollecting torch<1.13.0,>=1.10.0 (from allennlp)\n",
            "  Downloading torch-1.12.1-cp310-cp310-manylinux1_x86_64.whl (776.3 MB)\n",
            "\u001b[2K     \u001b[90m━━━━━━━━━━━━━━━━━━━━━━━━━━━━━━━━━━━━━━━━\u001b[0m \u001b[32m776.3/776.3 MB\u001b[0m \u001b[31m1.6 MB/s\u001b[0m eta \u001b[36m0:00:00\u001b[0m\n",
            "\u001b[?25hCollecting torchvision<0.14.0,>=0.8.1 (from allennlp)\n",
            "  Downloading torchvision-0.13.1-cp310-cp310-manylinux1_x86_64.whl (19.1 MB)\n",
            "\u001b[2K     \u001b[90m━━━━━━━━━━━━━━━━━━━━━━━━━━━━━━━━━━━━━━━━\u001b[0m \u001b[32m19.1/19.1 MB\u001b[0m \u001b[31m75.6 MB/s\u001b[0m eta \u001b[36m0:00:00\u001b[0m\n",
            "\u001b[?25hCollecting cached-path<1.2.0,>=1.1.3 (from allennlp)\n",
            "  Downloading cached_path-1.1.6-py3-none-any.whl (26 kB)\n",
            "Collecting fairscale==0.4.6 (from allennlp)\n",
            "  Downloading fairscale-0.4.6.tar.gz (248 kB)\n",
            "\u001b[2K     \u001b[90m━━━━━━━━━━━━━━━━━━━━━━━━━━━━━━━━━━━━━━━━\u001b[0m \u001b[32m248.2/248.2 kB\u001b[0m \u001b[31m31.7 MB/s\u001b[0m eta \u001b[36m0:00:00\u001b[0m\n",
            "\u001b[?25h  Installing build dependencies ... \u001b[?25l\u001b[?25hdone\n",
            "  Getting requirements to build wheel ... \u001b[?25l\u001b[?25hdone\n",
            "  Installing backend dependencies ... \u001b[?25l\u001b[?25hdone\n",
            "  Preparing metadata (pyproject.toml) ... \u001b[?25l\u001b[?25hdone\n",
            "Requirement already satisfied: nltk>=3.6.5 in /usr/local/lib/python3.10/dist-packages (from allennlp) (3.8.1)\n",
            "Collecting spacy<3.4,>=2.1.0 (from allennlp)\n",
            "  Downloading spacy-3.3.3-cp310-cp310-manylinux_2_17_x86_64.manylinux2014_x86_64.whl (6.3 MB)\n",
            "\u001b[2K     \u001b[90m━━━━━━━━━━━━━━━━━━━━━━━━━━━━━━━━━━━━━━━━\u001b[0m \u001b[32m6.3/6.3 MB\u001b[0m \u001b[31m94.4 MB/s\u001b[0m eta \u001b[36m0:00:00\u001b[0m\n",
            "\u001b[?25hRequirement already satisfied: numpy>=1.21.4 in /usr/local/lib/python3.10/dist-packages (from allennlp) (1.23.5)\n",
            "Collecting tensorboardX>=1.2 (from allennlp)\n",
            "  Downloading tensorboardX-2.6.2.2-py2.py3-none-any.whl (101 kB)\n",
            "\u001b[2K     \u001b[90m━━━━━━━━━━━━━━━━━━━━━━━━━━━━━━━━━━━━━━━━\u001b[0m \u001b[32m101.7/101.7 kB\u001b[0m \u001b[31m13.1 MB/s\u001b[0m eta \u001b[36m0:00:00\u001b[0m\n",
            "\u001b[?25hRequirement already satisfied: requests>=2.28 in /usr/local/lib/python3.10/dist-packages (from allennlp) (2.31.0)\n",
            "Requirement already satisfied: tqdm>=4.62 in /usr/local/lib/python3.10/dist-packages (from allennlp) (4.66.1)\n",
            "Requirement already satisfied: h5py>=3.6.0 in /usr/local/lib/python3.10/dist-packages (from allennlp) (3.9.0)\n",
            "Requirement already satisfied: scikit-learn>=1.0.1 in /usr/local/lib/python3.10/dist-packages (from allennlp) (1.2.2)\n",
            "Requirement already satisfied: scipy>=1.7.3 in /usr/local/lib/python3.10/dist-packages (from allennlp) (1.11.3)\n",
            "Requirement already satisfied: pytest>=6.2.5 in /usr/local/lib/python3.10/dist-packages (from allennlp) (7.4.3)\n",
            "Collecting transformers<4.21,>=4.1 (from allennlp)\n",
            "  Downloading transformers-4.20.1-py3-none-any.whl (4.4 MB)\n",
            "\u001b[2K     \u001b[90m━━━━━━━━━━━━━━━━━━━━━━━━━━━━━━━━━━━━━━━━\u001b[0m \u001b[32m4.4/4.4 MB\u001b[0m \u001b[31m66.7 MB/s\u001b[0m eta \u001b[36m0:00:00\u001b[0m\n",
            "\u001b[?25hCollecting sentencepiece>=0.1.96 (from allennlp)\n",
            "  Downloading sentencepiece-0.1.99-cp310-cp310-manylinux_2_17_x86_64.manylinux2014_x86_64.whl (1.3 MB)\n",
            "\u001b[2K     \u001b[90m━━━━━━━━━━━━━━━━━━━━━━━━━━━━━━━━━━━━━━━━\u001b[0m \u001b[32m1.3/1.3 MB\u001b[0m \u001b[31m67.2 MB/s\u001b[0m eta \u001b[36m0:00:00\u001b[0m\n",
            "\u001b[?25hCollecting filelock<3.8,>=3.3 (from allennlp)\n",
            "  Downloading filelock-3.7.1-py3-none-any.whl (10 kB)\n",
            "Collecting lmdb>=1.2.1 (from allennlp)\n",
            "  Downloading lmdb-1.4.1-cp310-cp310-manylinux_2_17_x86_64.manylinux2014_x86_64.whl (299 kB)\n",
            "\u001b[2K     \u001b[90m━━━━━━━━━━━━━━━━━━━━━━━━━━━━━━━━━━━━━━━━\u001b[0m \u001b[32m299.2/299.2 kB\u001b[0m \u001b[31m37.6 MB/s\u001b[0m eta \u001b[36m0:00:00\u001b[0m\n",
            "\u001b[?25hRequirement already satisfied: more-itertools>=8.12.0 in /usr/local/lib/python3.10/dist-packages (from allennlp) (10.1.0)\n",
            "Collecting termcolor==1.1.0 (from allennlp)\n",
            "  Downloading termcolor-1.1.0.tar.gz (3.9 kB)\n",
            "  Preparing metadata (setup.py) ... \u001b[?25l\u001b[?25hdone\n",
            "Collecting wandb<0.13.0,>=0.10.0 (from allennlp)\n",
            "  Downloading wandb-0.12.21-py2.py3-none-any.whl (1.8 MB)\n",
            "\u001b[2K     \u001b[90m━━━━━━━━━━━━━━━━━━━━━━━━━━━━━━━━━━━━━━━━\u001b[0m \u001b[32m1.8/1.8 MB\u001b[0m \u001b[31m49.8 MB/s\u001b[0m eta \u001b[36m0:00:00\u001b[0m\n",
            "\u001b[?25hCollecting huggingface-hub>=0.0.16 (from allennlp)\n",
            "  Downloading huggingface_hub-0.18.0-py3-none-any.whl (301 kB)\n",
            "\u001b[2K     \u001b[90m━━━━━━━━━━━━━━━━━━━━━━━━━━━━━━━━━━━━━━━━\u001b[0m \u001b[32m302.0/302.0 kB\u001b[0m \u001b[31m31.0 MB/s\u001b[0m eta \u001b[36m0:00:00\u001b[0m\n",
            "\u001b[?25hCollecting dill>=0.3.4 (from allennlp)\n",
            "  Downloading dill-0.3.7-py3-none-any.whl (115 kB)\n",
            "\u001b[2K     \u001b[90m━━━━━━━━━━━━━━━━━━━━━━━━━━━━━━━━━━━━━━━━\u001b[0m \u001b[32m115.3/115.3 kB\u001b[0m \u001b[31m16.5 MB/s\u001b[0m eta \u001b[36m0:00:00\u001b[0m\n",
            "\u001b[?25hCollecting base58>=2.1.1 (from allennlp)\n",
            "  Downloading base58-2.1.1-py3-none-any.whl (5.6 kB)\n",
            "Collecting sacremoses (from allennlp)\n",
            "  Downloading sacremoses-0.1.1-py3-none-any.whl (897 kB)\n",
            "\u001b[2K     \u001b[90m━━━━━━━━━━━━━━━━━━━━━━━━━━━━━━━━━━━━━━━━\u001b[0m \u001b[32m897.5/897.5 kB\u001b[0m \u001b[31m68.1 MB/s\u001b[0m eta \u001b[36m0:00:00\u001b[0m\n",
            "\u001b[?25hRequirement already satisfied: typer>=0.4.1 in /usr/local/lib/python3.10/dist-packages (from allennlp) (0.9.0)\n",
            "Requirement already satisfied: protobuf<4.0.0,>=3.12.0 in /usr/local/lib/python3.10/dist-packages (from allennlp) (3.20.3)\n",
            "Requirement already satisfied: traitlets>5.1.1 in /usr/local/lib/python3.10/dist-packages (from allennlp) (5.7.1)\n",
            "Collecting jsonnet>=0.10.0 (from allennlp)\n",
            "  Downloading jsonnet-0.20.0.tar.gz (594 kB)\n",
            "\u001b[2K     \u001b[90m━━━━━━━━━━━━━━━━━━━━━━━━━━━━━━━━━━━━━━━━\u001b[0m \u001b[32m594.2/594.2 kB\u001b[0m \u001b[31m44.1 MB/s\u001b[0m eta \u001b[36m0:00:00\u001b[0m\n",
            "\u001b[?25h  Preparing metadata (setup.py) ... \u001b[?25l\u001b[?25hdone\n",
            "Collecting rich<13.0,>=12.1 (from cached-path<1.2.0,>=1.1.3->allennlp)\n",
            "  Downloading rich-12.6.0-py3-none-any.whl (237 kB)\n",
            "\u001b[2K     \u001b[90m━━━━━━━━━━━━━━━━━━━━━━━━━━━━━━━━━━━━━━━━\u001b[0m \u001b[32m237.5/237.5 kB\u001b[0m \u001b[31m25.6 MB/s\u001b[0m eta \u001b[36m0:00:00\u001b[0m\n",
            "\u001b[?25hCollecting boto3<2.0,>=1.0 (from cached-path<1.2.0,>=1.1.3->allennlp)\n",
            "  Downloading boto3-1.28.74-py3-none-any.whl (135 kB)\n",
            "\u001b[2K     \u001b[90m━━━━━━━━━━━━━━━━━━━━━━━━━━━━━━━━━━━━━━━━\u001b[0m \u001b[32m135.8/135.8 kB\u001b[0m \u001b[31m961.6 kB/s\u001b[0m eta \u001b[36m0:00:00\u001b[0m\n",
            "\u001b[?25hRequirement already satisfied: google-cloud-storage<3.0,>=1.32.0 in /usr/local/lib/python3.10/dist-packages (from cached-path<1.2.0,>=1.1.3->allennlp) (2.12.0)\n",
            "Collecting huggingface-hub>=0.0.16 (from allennlp)\n",
            "  Downloading huggingface_hub-0.10.1-py3-none-any.whl (163 kB)\n",
            "\u001b[2K     \u001b[90m━━━━━━━━━━━━━━━━━━━━━━━━━━━━━━━━━━━━━━━━\u001b[0m \u001b[32m163.5/163.5 kB\u001b[0m \u001b[31m21.6 MB/s\u001b[0m eta \u001b[36m0:00:00\u001b[0m\n",
            "\u001b[?25hRequirement already satisfied: pyyaml>=5.1 in /usr/local/lib/python3.10/dist-packages (from huggingface-hub>=0.0.16->allennlp) (6.0.1)\n",
            "Requirement already satisfied: typing-extensions>=3.7.4.3 in /usr/local/lib/python3.10/dist-packages (from huggingface-hub>=0.0.16->allennlp) (4.5.0)\n",
            "Requirement already satisfied: packaging>=20.9 in /usr/local/lib/python3.10/dist-packages (from huggingface-hub>=0.0.16->allennlp) (23.2)\n",
            "Requirement already satisfied: click in /usr/local/lib/python3.10/dist-packages (from nltk>=3.6.5->allennlp) (8.1.7)\n",
            "Requirement already satisfied: joblib in /usr/local/lib/python3.10/dist-packages (from nltk>=3.6.5->allennlp) (1.3.2)\n",
            "Requirement already satisfied: regex>=2021.8.3 in /usr/local/lib/python3.10/dist-packages (from nltk>=3.6.5->allennlp) (2023.6.3)\n",
            "Requirement already satisfied: iniconfig in /usr/local/lib/python3.10/dist-packages (from pytest>=6.2.5->allennlp) (2.0.0)\n",
            "Requirement already satisfied: pluggy<2.0,>=0.12 in /usr/local/lib/python3.10/dist-packages (from pytest>=6.2.5->allennlp) (1.3.0)\n",
            "Requirement already satisfied: exceptiongroup>=1.0.0rc8 in /usr/local/lib/python3.10/dist-packages (from pytest>=6.2.5->allennlp) (1.1.3)\n",
            "Requirement already satisfied: tomli>=1.0.0 in /usr/local/lib/python3.10/dist-packages (from pytest>=6.2.5->allennlp) (2.0.1)\n",
            "Requirement already satisfied: charset-normalizer<4,>=2 in /usr/local/lib/python3.10/dist-packages (from requests>=2.28->allennlp) (3.3.1)\n",
            "Requirement already satisfied: idna<4,>=2.5 in /usr/local/lib/python3.10/dist-packages (from requests>=2.28->allennlp) (3.4)\n",
            "Requirement already satisfied: urllib3<3,>=1.21.1 in /usr/local/lib/python3.10/dist-packages (from requests>=2.28->allennlp) (2.0.7)\n",
            "Requirement already satisfied: certifi>=2017.4.17 in /usr/local/lib/python3.10/dist-packages (from requests>=2.28->allennlp) (2023.7.22)\n",
            "Requirement already satisfied: threadpoolctl>=2.0.0 in /usr/local/lib/python3.10/dist-packages (from scikit-learn>=1.0.1->allennlp) (3.2.0)\n",
            "Requirement already satisfied: spacy-legacy<3.1.0,>=3.0.9 in /usr/local/lib/python3.10/dist-packages (from spacy<3.4,>=2.1.0->allennlp) (3.0.12)\n",
            "Requirement already satisfied: spacy-loggers<2.0.0,>=1.0.0 in /usr/local/lib/python3.10/dist-packages (from spacy<3.4,>=2.1.0->allennlp) (1.0.5)\n",
            "Requirement already satisfied: murmurhash<1.1.0,>=0.28.0 in /usr/local/lib/python3.10/dist-packages (from spacy<3.4,>=2.1.0->allennlp) (1.0.10)\n",
            "Requirement already satisfied: cymem<2.1.0,>=2.0.2 in /usr/local/lib/python3.10/dist-packages (from spacy<3.4,>=2.1.0->allennlp) (2.0.8)\n",
            "Requirement already satisfied: preshed<3.1.0,>=3.0.2 in /usr/local/lib/python3.10/dist-packages (from spacy<3.4,>=2.1.0->allennlp) (3.0.9)\n",
            "Collecting thinc<8.1.0,>=8.0.14 (from spacy<3.4,>=2.1.0->allennlp)\n",
            "  Downloading thinc-8.0.17-cp310-cp310-manylinux_2_17_x86_64.manylinux2014_x86_64.whl (659 kB)\n",
            "\u001b[2K     \u001b[90m━━━━━━━━━━━━━━━━━━━━━━━━━━━━━━━━━━━━━━━━\u001b[0m \u001b[32m659.5/659.5 kB\u001b[0m \u001b[31m45.4 MB/s\u001b[0m eta \u001b[36m0:00:00\u001b[0m\n",
            "\u001b[?25hRequirement already satisfied: blis<0.8.0,>=0.4.0 in /usr/local/lib/python3.10/dist-packages (from spacy<3.4,>=2.1.0->allennlp) (0.7.11)\n",
            "Collecting wasabi<1.1.0,>=0.9.1 (from spacy<3.4,>=2.1.0->allennlp)\n",
            "  Downloading wasabi-0.10.1-py3-none-any.whl (26 kB)\n",
            "Requirement already satisfied: srsly<3.0.0,>=2.4.3 in /usr/local/lib/python3.10/dist-packages (from spacy<3.4,>=2.1.0->allennlp) (2.4.8)\n",
            "Requirement already satisfied: catalogue<2.1.0,>=2.0.6 in /usr/local/lib/python3.10/dist-packages (from spacy<3.4,>=2.1.0->allennlp) (2.0.10)\n",
            "Collecting typer>=0.4.1 (from allennlp)\n",
            "  Downloading typer-0.4.2-py3-none-any.whl (27 kB)\n",
            "Requirement already satisfied: pathy>=0.3.5 in /usr/local/lib/python3.10/dist-packages (from spacy<3.4,>=2.1.0->allennlp) (0.10.3)\n",
            "Requirement already satisfied: smart-open<7.0.0,>=5.2.1 in /usr/local/lib/python3.10/dist-packages (from spacy<3.4,>=2.1.0->allennlp) (6.4.0)\n",
            "Collecting pydantic!=1.8,!=1.8.1,<1.9.0,>=1.7.4 (from spacy<3.4,>=2.1.0->allennlp)\n",
            "  Downloading pydantic-1.8.2-py3-none-any.whl (126 kB)\n",
            "\u001b[2K     \u001b[90m━━━━━━━━━━━━━━━━━━━━━━━━━━━━━━━━━━━━━━━━\u001b[0m \u001b[32m126.0/126.0 kB\u001b[0m \u001b[31m10.8 MB/s\u001b[0m eta \u001b[36m0:00:00\u001b[0m\n",
            "\u001b[?25hRequirement already satisfied: jinja2 in /usr/local/lib/python3.10/dist-packages (from spacy<3.4,>=2.1.0->allennlp) (3.1.2)\n",
            "Requirement already satisfied: setuptools in /usr/local/lib/python3.10/dist-packages (from spacy<3.4,>=2.1.0->allennlp) (67.7.2)\n",
            "Requirement already satisfied: langcodes<4.0.0,>=3.2.0 in /usr/local/lib/python3.10/dist-packages (from spacy<3.4,>=2.1.0->allennlp) (3.3.0)\n",
            "Requirement already satisfied: pillow!=8.3.*,>=5.3.0 in /usr/local/lib/python3.10/dist-packages (from torchvision<0.14.0,>=0.8.1->allennlp) (9.4.0)\n",
            "Collecting tokenizers!=0.11.3,<0.13,>=0.11.1 (from transformers<4.21,>=4.1->allennlp)\n",
            "  Downloading tokenizers-0.12.1-cp310-cp310-manylinux_2_12_x86_64.manylinux2010_x86_64.whl (6.6 MB)\n",
            "\u001b[2K     \u001b[90m━━━━━━━━━━━━━━━━━━━━━━━━━━━━━━━━━━━━━━━━\u001b[0m \u001b[32m6.6/6.6 MB\u001b[0m \u001b[31m103.0 MB/s\u001b[0m eta \u001b[36m0:00:00\u001b[0m\n",
            "\u001b[?25hCollecting GitPython>=1.0.0 (from wandb<0.13.0,>=0.10.0->allennlp)\n",
            "  Downloading GitPython-3.1.40-py3-none-any.whl (190 kB)\n",
            "\u001b[2K     \u001b[90m━━━━━━━━━━━━━━━━━━━━━━━━━━━━━━━━━━━━━━━━\u001b[0m \u001b[32m190.6/190.6 kB\u001b[0m \u001b[31m26.2 MB/s\u001b[0m eta \u001b[36m0:00:00\u001b[0m\n",
            "\u001b[?25hRequirement already satisfied: promise<3,>=2.0 in /usr/local/lib/python3.10/dist-packages (from wandb<0.13.0,>=0.10.0->allennlp) (2.3)\n",
            "Collecting shortuuid>=0.5.0 (from wandb<0.13.0,>=0.10.0->allennlp)\n",
            "  Downloading shortuuid-1.0.11-py3-none-any.whl (10 kB)\n",
            "Requirement already satisfied: psutil>=5.0.0 in /usr/local/lib/python3.10/dist-packages (from wandb<0.13.0,>=0.10.0->allennlp) (5.9.5)\n",
            "Collecting sentry-sdk>=1.0.0 (from wandb<0.13.0,>=0.10.0->allennlp)\n",
            "  Downloading sentry_sdk-1.33.0-py2.py3-none-any.whl (243 kB)\n",
            "\u001b[2K     \u001b[90m━━━━━━━━━━━━━━━━━━━━━━━━━━━━━━━━━━━━━━━━\u001b[0m \u001b[32m243.2/243.2 kB\u001b[0m \u001b[31m31.4 MB/s\u001b[0m eta \u001b[36m0:00:00\u001b[0m\n",
            "\u001b[?25hRequirement already satisfied: six>=1.13.0 in /usr/local/lib/python3.10/dist-packages (from wandb<0.13.0,>=0.10.0->allennlp) (1.16.0)\n",
            "Collecting docker-pycreds>=0.4.0 (from wandb<0.13.0,>=0.10.0->allennlp)\n",
            "  Downloading docker_pycreds-0.4.0-py2.py3-none-any.whl (9.0 kB)\n",
            "Collecting pathtools (from wandb<0.13.0,>=0.10.0->allennlp)\n",
            "  Downloading pathtools-0.1.2.tar.gz (11 kB)\n",
            "  Preparing metadata (setup.py) ... \u001b[?25l\u001b[?25hdone\n",
            "Collecting setproctitle (from wandb<0.13.0,>=0.10.0->allennlp)\n",
            "  Downloading setproctitle-1.3.3-cp310-cp310-manylinux_2_5_x86_64.manylinux1_x86_64.manylinux_2_17_x86_64.manylinux2014_x86_64.whl (30 kB)\n",
            "Collecting botocore<1.32.0,>=1.31.74 (from boto3<2.0,>=1.0->cached-path<1.2.0,>=1.1.3->allennlp)\n",
            "  Downloading botocore-1.31.74-py3-none-any.whl (11.3 MB)\n",
            "\u001b[2K     \u001b[90m━━━━━━━━━━━━━━━━━━━━━━━━━━━━━━━━━━━━━━━━\u001b[0m \u001b[32m11.3/11.3 MB\u001b[0m \u001b[31m96.4 MB/s\u001b[0m eta \u001b[36m0:00:00\u001b[0m\n",
            "\u001b[?25hCollecting jmespath<2.0.0,>=0.7.1 (from boto3<2.0,>=1.0->cached-path<1.2.0,>=1.1.3->allennlp)\n",
            "  Downloading jmespath-1.0.1-py3-none-any.whl (20 kB)\n",
            "Collecting s3transfer<0.8.0,>=0.7.0 (from boto3<2.0,>=1.0->cached-path<1.2.0,>=1.1.3->allennlp)\n",
            "  Downloading s3transfer-0.7.0-py3-none-any.whl (79 kB)\n",
            "\u001b[2K     \u001b[90m━━━━━━━━━━━━━━━━━━━━━━━━━━━━━━━━━━━━━━━━\u001b[0m \u001b[32m79.8/79.8 kB\u001b[0m \u001b[31m12.5 MB/s\u001b[0m eta \u001b[36m0:00:00\u001b[0m\n",
            "\u001b[?25hCollecting gitdb<5,>=4.0.1 (from GitPython>=1.0.0->wandb<0.13.0,>=0.10.0->allennlp)\n",
            "  Downloading gitdb-4.0.11-py3-none-any.whl (62 kB)\n",
            "\u001b[2K     \u001b[90m━━━━━━━━━━━━━━━━━━━━━━━━━━━━━━━━━━━━━━━━\u001b[0m \u001b[32m62.7/62.7 kB\u001b[0m \u001b[31m9.3 MB/s\u001b[0m eta \u001b[36m0:00:00\u001b[0m\n",
            "\u001b[?25hRequirement already satisfied: google-auth<3.0dev,>=2.23.3 in /usr/local/lib/python3.10/dist-packages (from google-cloud-storage<3.0,>=1.32.0->cached-path<1.2.0,>=1.1.3->allennlp) (2.23.3)\n",
            "Requirement already satisfied: google-api-core!=2.0.*,!=2.1.*,!=2.2.*,!=2.3.0,<3.0.0dev,>=1.31.5 in /usr/local/lib/python3.10/dist-packages (from google-cloud-storage<3.0,>=1.32.0->cached-path<1.2.0,>=1.1.3->allennlp) (2.11.1)\n",
            "Requirement already satisfied: google-cloud-core<3.0dev,>=2.3.0 in /usr/local/lib/python3.10/dist-packages (from google-cloud-storage<3.0,>=1.32.0->cached-path<1.2.0,>=1.1.3->allennlp) (2.3.3)\n",
            "Requirement already satisfied: google-resumable-media>=2.6.0 in /usr/local/lib/python3.10/dist-packages (from google-cloud-storage<3.0,>=1.32.0->cached-path<1.2.0,>=1.1.3->allennlp) (2.6.0)\n",
            "Requirement already satisfied: google-crc32c<2.0dev,>=1.0 in /usr/local/lib/python3.10/dist-packages (from google-cloud-storage<3.0,>=1.32.0->cached-path<1.2.0,>=1.1.3->allennlp) (1.5.0)\n",
            "Collecting commonmark<0.10.0,>=0.9.0 (from rich<13.0,>=12.1->cached-path<1.2.0,>=1.1.3->allennlp)\n",
            "  Downloading commonmark-0.9.1-py2.py3-none-any.whl (51 kB)\n",
            "\u001b[2K     \u001b[90m━━━━━━━━━━━━━━━━━━━━━━━━━━━━━━━━━━━━━━━━\u001b[0m \u001b[32m51.1/51.1 kB\u001b[0m \u001b[31m7.3 MB/s\u001b[0m eta \u001b[36m0:00:00\u001b[0m\n",
            "\u001b[?25hRequirement already satisfied: pygments<3.0.0,>=2.6.0 in /usr/local/lib/python3.10/dist-packages (from rich<13.0,>=12.1->cached-path<1.2.0,>=1.1.3->allennlp) (2.16.1)\n",
            "Requirement already satisfied: MarkupSafe>=2.0 in /usr/local/lib/python3.10/dist-packages (from jinja2->spacy<3.4,>=2.1.0->allennlp) (2.1.3)\n",
            "Requirement already satisfied: python-dateutil<3.0.0,>=2.1 in /usr/local/lib/python3.10/dist-packages (from botocore<1.32.0,>=1.31.74->boto3<2.0,>=1.0->cached-path<1.2.0,>=1.1.3->allennlp) (2.8.2)\n",
            "Collecting smmap<6,>=3.0.1 (from gitdb<5,>=4.0.1->GitPython>=1.0.0->wandb<0.13.0,>=0.10.0->allennlp)\n",
            "  Downloading smmap-5.0.1-py3-none-any.whl (24 kB)\n",
            "Requirement already satisfied: googleapis-common-protos<2.0.dev0,>=1.56.2 in /usr/local/lib/python3.10/dist-packages (from google-api-core!=2.0.*,!=2.1.*,!=2.2.*,!=2.3.0,<3.0.0dev,>=1.31.5->google-cloud-storage<3.0,>=1.32.0->cached-path<1.2.0,>=1.1.3->allennlp) (1.61.0)\n",
            "Requirement already satisfied: cachetools<6.0,>=2.0.0 in /usr/local/lib/python3.10/dist-packages (from google-auth<3.0dev,>=2.23.3->google-cloud-storage<3.0,>=1.32.0->cached-path<1.2.0,>=1.1.3->allennlp) (5.3.2)\n",
            "Requirement already satisfied: pyasn1-modules>=0.2.1 in /usr/local/lib/python3.10/dist-packages (from google-auth<3.0dev,>=2.23.3->google-cloud-storage<3.0,>=1.32.0->cached-path<1.2.0,>=1.1.3->allennlp) (0.3.0)\n",
            "Requirement already satisfied: rsa<5,>=3.1.4 in /usr/local/lib/python3.10/dist-packages (from google-auth<3.0dev,>=2.23.3->google-cloud-storage<3.0,>=1.32.0->cached-path<1.2.0,>=1.1.3->allennlp) (4.9)\n",
            "Requirement already satisfied: pyasn1<0.6.0,>=0.4.6 in /usr/local/lib/python3.10/dist-packages (from pyasn1-modules>=0.2.1->google-auth<3.0dev,>=2.23.3->google-cloud-storage<3.0,>=1.32.0->cached-path<1.2.0,>=1.1.3->allennlp) (0.5.0)\n",
            "Building wheels for collected packages: fairscale, termcolor, jsonnet, pathtools\n",
            "  Building wheel for fairscale (pyproject.toml) ... \u001b[?25l\u001b[?25hdone\n",
            "  Created wheel for fairscale: filename=fairscale-0.4.6-py3-none-any.whl size=307221 sha256=3445de08d8ee035d97edd6a5f68274a8df02779b1469669917661a946fdeacf8\n",
            "  Stored in directory: /root/.cache/pip/wheels/a1/58/3d/e114952ab4a8f31eb9dae230658450afff986b211a5b1f2256\n",
            "  Building wheel for termcolor (setup.py) ... \u001b[?25l\u001b[?25hdone\n",
            "  Created wheel for termcolor: filename=termcolor-1.1.0-py3-none-any.whl size=4832 sha256=d17aaf4d792988461a1cb9a7c1ed276be4eaa5323888692447bf7e8476995e8e\n",
            "  Stored in directory: /root/.cache/pip/wheels/a1/49/46/1b13a65d8da11238af9616b00fdde6d45b0f95d9291bac8452\n",
            "  Building wheel for jsonnet (setup.py) ... \u001b[?25l\u001b[?25hdone\n",
            "  Created wheel for jsonnet: filename=jsonnet-0.20.0-cp310-cp310-linux_x86_64.whl size=6406878 sha256=671ec6c44150ca66664e12b9a6f286621ebd48e346a66cb2f71d4ca3e7106fc2\n",
            "  Stored in directory: /root/.cache/pip/wheels/63/0d/6b/5467dd1db9332ba4bd5cf4153e2870c5f89bb4db473d989cc2\n",
            "  Building wheel for pathtools (setup.py) ... \u001b[?25l\u001b[?25hdone\n",
            "  Created wheel for pathtools: filename=pathtools-0.1.2-py3-none-any.whl size=8791 sha256=a9032861062acedf530e1b3ca233e2e7572682130f1ad81253cd7ec59c73b39e\n",
            "  Stored in directory: /root/.cache/pip/wheels/e7/f3/22/152153d6eb222ee7a56ff8617d80ee5207207a8c00a7aab794\n",
            "Successfully built fairscale termcolor jsonnet pathtools\n",
            "Installing collected packages: wasabi, tokenizers, termcolor, sentencepiece, pathtools, lmdb, jsonnet, commonmark, typer, torch, tensorboardX, smmap, shortuuid, setproctitle, sentry-sdk, sacremoses, rich, pydantic, jmespath, filelock, docker-pycreds, dill, base58, torchvision, thinc, huggingface-hub, gitdb, fairscale, botocore, transformers, spacy, s3transfer, GitPython, wandb, boto3, cached-path, allennlp\n",
            "  Attempting uninstall: wasabi\n",
            "    Found existing installation: wasabi 1.1.2\n",
            "    Uninstalling wasabi-1.1.2:\n",
            "      Successfully uninstalled wasabi-1.1.2\n",
            "  Attempting uninstall: termcolor\n",
            "    Found existing installation: termcolor 2.3.0\n",
            "    Uninstalling termcolor-2.3.0:\n",
            "      Successfully uninstalled termcolor-2.3.0\n",
            "  Attempting uninstall: typer\n",
            "    Found existing installation: typer 0.9.0\n",
            "    Uninstalling typer-0.9.0:\n",
            "      Successfully uninstalled typer-0.9.0\n",
            "  Attempting uninstall: torch\n",
            "    Found existing installation: torch 2.1.0+cu118\n",
            "    Uninstalling torch-2.1.0+cu118:\n",
            "      Successfully uninstalled torch-2.1.0+cu118\n",
            "  Attempting uninstall: rich\n",
            "    Found existing installation: rich 13.6.0\n",
            "    Uninstalling rich-13.6.0:\n",
            "      Successfully uninstalled rich-13.6.0\n",
            "  Attempting uninstall: pydantic\n",
            "    Found existing installation: pydantic 1.10.13\n",
            "    Uninstalling pydantic-1.10.13:\n",
            "      Successfully uninstalled pydantic-1.10.13\n",
            "  Attempting uninstall: filelock\n",
            "    Found existing installation: filelock 3.12.4\n",
            "    Uninstalling filelock-3.12.4:\n",
            "      Successfully uninstalled filelock-3.12.4\n",
            "  Attempting uninstall: torchvision\n",
            "    Found existing installation: torchvision 0.16.0+cu118\n",
            "    Uninstalling torchvision-0.16.0+cu118:\n",
            "      Successfully uninstalled torchvision-0.16.0+cu118\n",
            "  Attempting uninstall: thinc\n",
            "    Found existing installation: thinc 8.1.12\n",
            "    Uninstalling thinc-8.1.12:\n",
            "      Successfully uninstalled thinc-8.1.12\n",
            "  Attempting uninstall: spacy\n",
            "    Found existing installation: spacy 3.6.1\n",
            "    Uninstalling spacy-3.6.1:\n",
            "      Successfully uninstalled spacy-3.6.1\n",
            "\u001b[31mERROR: pip's dependency resolver does not currently take into account all the packages that are installed. This behaviour is the source of the following dependency conflicts.\n",
            "lida 0.0.10 requires fastapi, which is not installed.\n",
            "lida 0.0.10 requires kaleido, which is not installed.\n",
            "lida 0.0.10 requires python-multipart, which is not installed.\n",
            "lida 0.0.10 requires uvicorn, which is not installed.\n",
            "llmx 0.0.15a0 requires cohere, which is not installed.\n",
            "llmx 0.0.15a0 requires openai, which is not installed.\n",
            "llmx 0.0.15a0 requires tiktoken, which is not installed.\n",
            "en-core-web-sm 3.6.0 requires spacy<3.7.0,>=3.6.0, but you have spacy 3.3.3 which is incompatible.\n",
            "inflect 7.0.0 requires pydantic>=1.9.1, but you have pydantic 1.8.2 which is incompatible.\n",
            "torchaudio 2.1.0+cu118 requires torch==2.1.0, but you have torch 1.12.1 which is incompatible.\n",
            "torchdata 0.7.0 requires torch==2.1.0, but you have torch 1.12.1 which is incompatible.\n",
            "torchtext 0.16.0 requires torch==2.1.0, but you have torch 1.12.1 which is incompatible.\u001b[0m\u001b[31m\n",
            "\u001b[0mSuccessfully installed GitPython-3.1.40 allennlp-2.10.1 base58-2.1.1 boto3-1.28.74 botocore-1.31.74 cached-path-1.1.6 commonmark-0.9.1 dill-0.3.7 docker-pycreds-0.4.0 fairscale-0.4.6 filelock-3.7.1 gitdb-4.0.11 huggingface-hub-0.10.1 jmespath-1.0.1 jsonnet-0.20.0 lmdb-1.4.1 pathtools-0.1.2 pydantic-1.8.2 rich-12.6.0 s3transfer-0.7.0 sacremoses-0.1.1 sentencepiece-0.1.99 sentry-sdk-1.33.0 setproctitle-1.3.3 shortuuid-1.0.11 smmap-5.0.1 spacy-3.3.3 tensorboardX-2.6.2.2 termcolor-1.1.0 thinc-8.0.17 tokenizers-0.12.1 torch-1.12.1 torchvision-0.13.1 transformers-4.20.1 typer-0.4.2 wandb-0.12.21 wasabi-0.10.1\n"
          ]
        }
      ],
      "source": [
        "# This takes about 2 minutes to complete and throws warnings\n",
        "!pip install allennlp"
      ]
    },
    {
      "cell_type": "code",
      "execution_count": null,
      "metadata": {
        "id": "j-Nr_vZXV3iC"
      },
      "outputs": [],
      "source": [
        "# If !pip install allennlp is run first, this does not need to run\n",
        "#!pip install transformers"
      ]
    },
    {
      "cell_type": "code",
      "execution_count": null,
      "metadata": {
        "colab": {
          "base_uri": "https://localhost:8080/"
        },
        "id": "kkcSfbuWVrH6",
        "outputId": "a8f04dd1-27fe-43b5-bb0e-a2ee71a9bbfb"
      },
      "outputs": [
        {
          "output_type": "stream",
          "name": "stdout",
          "text": [
            "Collecting emoji\n",
            "  Downloading emoji-2.8.0-py2.py3-none-any.whl (358 kB)\n",
            "\u001b[2K     \u001b[90m━━━━━━━━━━━━━━━━━━━━━━━━━━━━━━━━━━━━━━━━\u001b[0m \u001b[32m358.9/358.9 kB\u001b[0m \u001b[31m2.8 MB/s\u001b[0m eta \u001b[36m0:00:00\u001b[0m\n",
            "\u001b[?25hInstalling collected packages: emoji\n",
            "Successfully installed emoji-2.8.0\n"
          ]
        }
      ],
      "source": [
        "# Here's a package for dealing with emojis\n",
        "!pip install emoji"
      ]
    },
    {
      "cell_type": "code",
      "execution_count": 36,
      "metadata": {
        "colab": {
          "base_uri": "https://localhost:8080/"
        },
        "id": "mvE765H_S8m6",
        "outputId": "10593d84-d26a-4c11-931f-a388c621b542"
      },
      "outputs": [
        {
          "output_type": "stream",
          "name": "stdout",
          "text": [
            "Success!\n"
          ]
        },
        {
          "output_type": "stream",
          "name": "stderr",
          "text": [
            "[nltk_data] Downloading package stopwords to /root/nltk_data...\n",
            "[nltk_data]   Package stopwords is already up-to-date!\n",
            "[nltk_data] Downloading package punkt to /root/nltk_data...\n",
            "[nltk_data]   Package punkt is already up-to-date!\n"
          ]
        }
      ],
      "source": [
        "# Here's all of the extra stuff we will need to run the examples\n",
        "# ********* Import Packages ********* #\n",
        "import re, nltk, emoji, torch, nltk\n",
        "import numpy as np\n",
        "from numpy import asarray, zeros\n",
        "from collections import Counter\n",
        "nltk.download('stopwords')\n",
        "nltk.download('punkt')\n",
        "from nltk.corpus import stopwords\n",
        "from nltk.stem.wordnet import WordNetLemmatizer\n",
        "from keras.preprocessing.text import Tokenizer\n",
        "#from keras.preprocessing.sequence import pad_sequences\n",
        "from tensorflow.keras.preprocessing.sequence import pad_sequences\n",
        "from transformers import XLNetModel, XLNetTokenizer, BertTokenizer, BertModel\n",
        "from allennlp.modules.elmo import Elmo, batch_to_ids\n",
        "from gensim import models\n",
        "print(\"Success!\")"
      ]
    },
    {
      "cell_type": "markdown",
      "metadata": {
        "id": "Y4ciloUCeweX"
      },
      "source": [
        "Next we will create some helper functions that will make the subsequent coding much cleaner. This first function simply assesses whether a character is an emoji."
      ]
    },
    {
      "cell_type": "code",
      "execution_count": 37,
      "metadata": {
        "colab": {
          "base_uri": "https://localhost:8080/"
        },
        "id": "TiRYrRzLetc5",
        "outputId": "ee369400-5cfa-4651-b188-e42f3dd9bbc4"
      },
      "outputs": [
        {
          "output_type": "execute_result",
          "data": {
            "text/plain": [
              "(False, True)"
            ]
          },
          "metadata": {},
          "execution_count": 37
        }
      ],
      "source": [
        "# This function uses the English emoji dictionary to see if the\n",
        "# first character of the input string is in the dictionary.\n",
        "def char_is_emoji(character):\n",
        "    #en_emoji = emoji.UNICODE_EMOJI.get(\"en\")\n",
        "    #return character[0] in emoji.UNICODE_EMOJI_ENGLISH\n",
        "    return emoji.is_emoji(character[0])  #check out the API for emoji here: https://carpedm20.github.io/emoji/docs/api.html#\n",
        "\n",
        "# Let's test it with a couple of examples\n",
        "char_is_emoji(\"a\"), char_is_emoji(\"👍\")"
      ]
    },
    {
      "cell_type": "code",
      "execution_count": null,
      "metadata": {
        "colab": {
          "base_uri": "https://localhost:8080/"
        },
        "id": "_ftOd5VooKFq",
        "outputId": "031e1377-e1d6-461a-d33c-e2a64f0c33f5"
      },
      "outputs": [
        {
          "output_type": "execute_result",
          "data": {
            "text/plain": [
              "(False, True)"
            ]
          },
          "metadata": {},
          "execution_count": 6
        }
      ],
      "source": [
        "# Now we will add a layer to test every character in a string to see if it\n",
        "# is an emoji.\n",
        "def text_has_emoji(text):\n",
        "    for character in text:\n",
        "        if char_is_emoji(character):\n",
        "            return True\n",
        "    return False\n",
        "\n",
        "text_has_emoji(\"Python is go!\"), text_has_emoji(\"Python is go 👍\")"
      ]
    },
    {
      "cell_type": "code",
      "execution_count": 38,
      "metadata": {
        "colab": {
          "base_uri": "https://localhost:8080/"
        },
        "id": "FyzNNilZtQKa",
        "outputId": "4a8d4214-8dbf-43eb-e831-986b38dd3dad"
      },
      "outputs": [
        {
          "output_type": "execute_result",
          "data": {
            "text/plain": [
              "(dict, dict, list)"
            ]
          },
          "metadata": {},
          "execution_count": 38
        }
      ],
      "source": [
        "# Here are three small dictionaries of substitutions that will be used in the\n",
        "# clean_tweets() function defined below\n",
        "slangs = {\"afap\":\"as far as possible\", \"aab\":\"average at best\", \"aak\":\"alive and kicking\", \"aamof\":\"as a matter of fact\", \"aap\":\"always a pleasure\", \"aar\":\"at any rate\", \"aayf\":\"as always: your friend\", \"abd\":\"already been done\", \"admin\":\"administrator\", \"adn\":\"any day now\", \"aeae\":\"and ever and ever\", \"aeap\":\"as early as possible\", \"afaiac\":\"as far as i am concerned\", \"afaic\":\"as far as i am concerned\", \"afaics\":\"as far as i can see\", \"afaict\":\"as far as i can tell\", \"afaik\":\"as far as i know\", \"afair\":\"as far as i remember\", \"afc\":\"always from computer\", \"agw\":\"all going well\", \"afd\":\"all fucking day\", \"aft\":\"about fucking time\", \"b4\":\"before\", \"bb\":\"bye bye\", \"bbiab\":\"be back in a bit\", \"bbl\":\"be back later\", \"bbs\":\"be back soon\", \"bd\":\"big deal\", \"brb\":\"be right back\", \"brt\":\"be right there\", \"btw\":\"by the way\", \"cu\":\"see you\", \"cul\":\"see you later\", \"cuz\":\"because\", \"cya\":\"see you\", \"da\":\"the\", \"dat\":\"that\", \"der\":\"there\", \"dunno\":\"do not know\", \"fwiw\":\"for what it is worth\", \"fyi\":\"for your information\", \"g2g\":\"got to go\", \"gtg\":\"got to go\", \"gal\":\"get a life\", \"gfy\":\"good for you\", \"gonna\":\"going to\", \"icydk\":\"in case you do not know\", \"idgi\":\"i do not get it\", \"idk\":\"i do not know\", \"ily\":\"i love you\", \"ilu\":\"i love you\", \"imho\":\"in my honest opinion\", \"imo\":\"in my opinion\", \"irl\":\"in real life\", \"jj\":\"just joking\", \"jk\":\"just kidding\", \"k\":\"okay\", \"kk\":\"ok cool\", \"l8r\":\"later\", \"lmao\":\"laughing my ass off\", \"lmfao\":\"laughing my fucking ass off\", \"lol\":\"laughing out loud\", \"myob\":\"mind your own business\", \"noyb\":\"none of your business\", \"np\":\"no problem\", \"nsfw\":\"not safe for work\", \"nvm\":\"never mind\", \"omg\":\"oh my god\", \"pic\":\"picture\", \"ot\":\"off topic\", \"pix\":\"pictures\", \"plz\":\"please\", \"pls\":\"please\", \"ppl\":\"people\", \"rofl\":\"rolling on the floor laughing\", \"roflmao\":\"rolling on the floor laughing my ass off\", \"roflmaol\":\"rolling on the floor laughing my ass out loud\", \"smh\":\"shaking my head\", \"thnx\":\"thanks\", \"tho\":\"though\", \"tia\":\"thanks in advance\", \"ttyl\":\"talk to you later\", \"ttyt\":\"talk to you tomorrow\", \"ty\":\"thank you\", \"u\":\"you\", \"w8\":\"wait\", \"wanna\":\"want to\", \"wb\":\"welcome back\", \"wd\":\"well done\", \"im\":\"i am\", \"you've\":\"you have\", \"how'd\":\"how did\", \"i'm\":\"i am\", \"n't\":\"not\", \"we're\":\"we are\", \"you're\":\"you are\"}\n",
        "negated = {\"weren't\":\"were not\", \"hadn't\": \"had not\", \"wouldn't\": \"would not\", \"mustn't\": \"must not\", \"aren't\": \"are not\", \"wasn't\": \"was not\", \"couldn't\": \"could not\", \"shan't\": \"shall not\", \"haven't\": \"have not\", \"mightn't\": \"might not\", \"doesn't\": \"does not\", \"needn't\": \"need not\", \"don't\": \"do not\", \"isn't\": \"is not\", \"hasn't\": \"has not\", \"doesn't\": \"does not\", \"didn't\": \"did not\", \"won't\": \"will not\", \"oughtn't\": \"ought not\", \"shouldn't\": \"should not\", \"cannot\": \"can not\", \"can't\": \"can not\"}\n",
        "emoticons = [\"[: )\", \":-]\", \":-3\", \":->\", \"8-)\", \":-}\", \":)\", \":]\", \":3\", \":>\", \"8)\", \":}\", \":o)\", \":c)\", \":^)\", \"=]\", \"=)\", \":-))\", \": D\", \"8 D\", \"x D\", \"X D\", \":D\", \"8D\", \"xD\", \"XD\", \"=D\", \"=3\", \"B^D\", \":-*\", \":*\", \":×'\", \"; )\", \"*-)\", \"; ]\", \";)\", \"*)\", \";]\", \";^)\", \": ,\", \";D\", \"<3\", \"(:\", \": (\", \": c\", \": <\", \": [\", \":(\", \":c\", \":<\", \":[\", \":-||\", \">:[\", \":{\", \":@\", \">:(\", \":' (\", \":'(\", \"D ':\", \"D:<\", \"D:\", \"D8\", \"D;\", \"D=\", \"DX\", \": O\", \": o\", \":O\", \":o\", \":-0\", \"8 0\", \">:O\"]\n",
        "\n",
        "type(slangs), type(negated), type(emoticons)"
      ]
    },
    {
      "cell_type": "code",
      "execution_count": 39,
      "metadata": {
        "colab": {
          "base_uri": "https://localhost:8080/"
        },
        "id": "io92V0XeYPyJ",
        "outputId": "faec9657-ce05-45da-a0ab-60fb55b5cbaf"
      },
      "outputs": [
        {
          "output_type": "stream",
          "name": "stdout",
          "text": [
            "Hidden code is commented out and not needed.\n"
          ]
        }
      ],
      "source": [
        "#@title\n",
        "# As an alternative to the code in the previous block, it would be possible\n",
        "# to load the dictionaries from a file in the local file store. These are\n",
        "# commented out as they are not needed if you run the previous code block.\n",
        "#slangs = {}\n",
        "#with open('lexicons/slangs.txt', 'r') as f:\n",
        "#    for line in f:\n",
        "#        splitted = line.strip().split(',', 1)\n",
        "#        slangs[splitted[0]] = splitted[1]\n",
        "#\n",
        "#negated = {}\n",
        "#with open('lexicons/negated_words.txt', 'r') as f:\n",
        "#    for line in f:\n",
        "#        splitted = line.strip().split(',', 1)\n",
        "#        negated[splitted[0]] = splitted[1]\n",
        "print(\"Hidden code is commented out and not needed.\")"
      ]
    },
    {
      "cell_type": "code",
      "execution_count": 40,
      "metadata": {
        "colab": {
          "base_uri": "https://localhost:8080/"
        },
        "id": "KS8qO4Vjo2oC",
        "outputId": "eccedca4-3f71-490d-9755-45728834828c"
      },
      "outputs": [
        {
          "output_type": "execute_result",
          "data": {
            "text/plain": [
              "[['nesthy',\n",
              "  'petecio',\n",
              "  'celebrates',\n",
              "  'silver',\n",
              "  'medal',\n",
              "  'boxing',\n",
              "  \"women's\",\n",
              "  'featherweight',\n",
              "  'division',\n",
              "  'olympics',\n",
              "  'becoming',\n",
              "  'first',\n",
              "  'filipina',\n",
              "  'ever',\n",
              "  'win',\n",
              "  'boxing',\n",
              "  'medal',\n",
              "  '<!repeat>']]"
            ]
          },
          "metadata": {},
          "execution_count": 40
        }
      ],
      "source": [
        "# Next we will use our emoji finder to clean up the texts of a list of tweets.\n",
        "# This function tokenizes the input and does many different transformations\n",
        "# to the text and the tokens.\n",
        "\n",
        "\n",
        "\n",
        "def clean_tweets(texts):\n",
        "    cleaned_tweets = [] # This will be our return list\n",
        "    hash_emos = [] # This is an overall list of emoticons and emojis\n",
        "\n",
        "    # Loop over the full list of texts provided\n",
        "    for text in texts:\n",
        "        hash_emo = [] # Initialize an empty list for this one text\n",
        "\n",
        "        # These make substitutions of short tags in place of repeating\n",
        "        # exclamation marks and/or question marks.\n",
        "        text = re.sub('(!){2,}', ' <!repeat> ', text)\n",
        "        text = re.sub('(\\?){2,}', ' <?repeat> ', text)\n",
        "\n",
        "        # Tokenize using tweet tokenizer: This will treat each emoji as\n",
        "        # its own token.\n",
        "        tokenizer = nltk.tokenize.TweetTokenizer(strip_handles=False, reduce_len=True)\n",
        "        tokens = tokenizer.tokenize(text.lower())\n",
        "        lemmatizer = WordNetLemmatizer()\n",
        "\n",
        "\n",
        "        # Emojis and emoticons\n",
        "        if text_has_emoji(text): # Examine the untokenized text\n",
        "            temp = [] # Make temporary storage for the modified tokens\n",
        "            for tok in tokens: # Cycle through each token in this text\n",
        "                # If the token is an emoji, look up the equivalent\n",
        "                # plain text placeholder.\n",
        "                if char_is_emoji(tok):\n",
        "                    hash_emo.append(emoji.demojize(tok))\n",
        "                elif tok in emoticons:\n",
        "                    hash_emo.append(tok)\n",
        "                else:\n",
        "                    temp.append(tok)\n",
        "            tokens = temp\n",
        "\n",
        "        # Hashtags\n",
        "        temp = []\n",
        "        for word in tokens:\n",
        "            if '#' in word: # Do a simple substitution using the empty string\n",
        "                word = word.replace('#','')\n",
        "                hash_emo.append(word)\n",
        "            else:\n",
        "                temp.append(word)\n",
        "        tokens = temp\n",
        "\n",
        "        # Replace slangs and negated words\n",
        "        temp = []\n",
        "        for word in tokens:\n",
        "            if word in slangs:\n",
        "                temp += slangs[word].split()\n",
        "            elif word in negated:\n",
        "                temp += negated[word].split()\n",
        "            else:\n",
        "                temp.append(word)\n",
        "        tokens = temp\n",
        "\n",
        "        # Replace user names\n",
        "        tokens = ['<user>'  if '@' in word else word for word in tokens]\n",
        "\n",
        "        #Replace numbers\n",
        "        tokens = ['<number>' if word.isdigit() else word for word in tokens]\n",
        "\n",
        "        # Remove urls\n",
        "        tokens = ['' if 'http' in word else word for word in tokens]\n",
        "\n",
        "        # Lemmatize\n",
        "        #tokens = [lemmatizer.lemmatize(word) for word in tokens]\n",
        "\n",
        "        # Remove stop words\n",
        "        tokens = [word for word in tokens if word not in nltk.corpus.stopwords.words('english')]\n",
        "\n",
        "        # Remove tokens having length 1\n",
        "        tokens = [word for word in tokens if word != '' and len(word) > 1]\n",
        "\n",
        "        cleaned_tweets.append(tokens)\n",
        "        hash_emos.append(hash_emo)\n",
        "\n",
        "    return cleaned_tweets\n",
        "\n",
        "\n",
        "atweet = \"\"\"Nesthy Petecio celebrates her silver medal 🥈 in the Boxing Women's Featherweight division of the #Tokyo2020 Olympics, becoming the first Filipina ever to win a boxing medal!!!\"\"\"\n",
        "\n",
        "clean_tweets([atweet])"
      ]
    },
    {
      "cell_type": "code",
      "execution_count": 41,
      "metadata": {
        "id": "mdnkrr5rkFRX",
        "colab": {
          "base_uri": "https://localhost:8080/"
        },
        "outputId": "cd430a7f-64c8-4f79-c3e2-06c1f70fab91"
      },
      "outputs": [
        {
          "output_type": "execute_result",
          "data": {
            "text/plain": [
              "[['feeling',\n",
              "  'happy',\n",
              "  'today',\n",
              "  '<!repeat>',\n",
              "  'sun',\n",
              "  'shining',\n",
              "  'bright',\n",
              "  '<!repeat>',\n",
              "  '<user>']]"
            ]
          },
          "metadata": {},
          "execution_count": 41
        }
      ],
      "source": [
        "#\n",
        "# Exercise 8.1: Find another tweet on the web that contains an emoji\n",
        "# and a repeating sequence like !!!. Run clean_tweets() on that\n",
        "# string and review the results.\n",
        "#\n",
        "\n",
        "atweet = \"Feeling happy today 😄!!! The sun is shining bright!!! #PositiveVibes @roshan\"\n",
        "\n",
        "clean_tweets([atweet])"
      ]
    },
    {
      "cell_type": "code",
      "execution_count": 42,
      "metadata": {
        "id": "AHWA3Ul3S8m7"
      },
      "outputs": [],
      "source": [
        "# Utility functions\n",
        "\n",
        "def create_tokenizer(lines):\n",
        "    tokenizer = Tokenizer()\n",
        "    tokenizer.fit_on_texts(lines) #check this page for details about this function fix_on_texts(): https://machinelearningknowledge.ai/keras-tokenizer-tutorial-with-examples-for-fit_on_texts-texts_to_sequences-texts_to_matrix-sequences_to_matrix/\n",
        "    return tokenizer\n",
        "\n",
        "def max_length(lines):\n",
        "    return max([len(s) for s in lines])\n",
        "\n",
        "# This is used in a future lab, but not in this one.\n",
        "def encode_text(tokenizer, lines, length):\n",
        "    encoded = tokenizer.texts_to_sequences(lines)\n",
        "    padded = pad_sequences(encoded, maxlen=length, padding='post')\n",
        "    return padded"
      ]
    },
    {
      "cell_type": "code",
      "execution_count": 99,
      "metadata": {
        "colab": {
          "base_uri": "https://localhost:8080/"
        },
        "id": "eFz_IHkRbmdt",
        "outputId": "5086b331-f874-4429-b838-139a53c06f89"
      },
      "outputs": [
        {
          "output_type": "stream",
          "name": "stdout",
          "text": [
            "--2023-10-31 17:03:32--  http://saifmohammad.com/WebDocs/Jan9-2012-tweets-clean.txt.zip\n",
            "Resolving saifmohammad.com (saifmohammad.com)... 192.185.17.122\n",
            "Connecting to saifmohammad.com (saifmohammad.com)|192.185.17.122|:80... connected.\n",
            "HTTP request sent, awaiting response... 200 OK\n",
            "Length: 1128895 (1.1M) [application/zip]\n",
            "Saving to: ‘Jan9-2012-tweets-clean.txt.zip.2’\n",
            "\n",
            "Jan9-2012-tweets-cl 100%[===================>]   1.08M  5.01MB/s    in 0.2s    \n",
            "\n",
            "2023-10-31 17:03:32 (5.01 MB/s) - ‘Jan9-2012-tweets-clean.txt.zip.2’ saved [1128895/1128895]\n",
            "\n",
            "Archive:  Jan9-2012-tweets-clean.txt.zip\n",
            "replace Jan9-2012-tweets-clean.txt? [y]es, [n]o, [A]ll, [N]one, [r]ename: Loaded 21051  data\n"
          ]
        }
      ],
      "source": [
        "# ********* Load Data ********* #\n",
        "# Important: Change load_data() function according to the dataset that you have.\n",
        "# The following function processes the Twitter Emotion Corpus (TEC)\n",
        "# Link of paper: http://citeseerx.ist.psu.edu/viewdoc/download?doi=10.1.1.383.3384&rep=rep1&type=pdf\n",
        "# Link of web page with dataset: http://saifmohammad.com/WebPages/SentimentEmotionLabeledData.html\n",
        "\n",
        "\n",
        "#zipurl = \"http://saifmohammad.com/WebDocs/Jan9-2012-tweets-clean.txt.zip\"\n",
        "#zipfile = \"Jan9-2012-tweets-clean.txt.zip\"\n",
        "basefile = \"Jan9-2012-tweets-clean.txt\"\n",
        "\n",
        "# This downloads the zip file\n",
        "!wget http://saifmohammad.com/WebDocs/Jan9-2012-tweets-clean.txt.zip\n",
        "!unzip Jan9-2012-tweets-clean.txt.zip\n",
        "\n",
        "# Initialize a list of tweets\n",
        "texts = []\n",
        "\n",
        "# Initialize a list of labels\n",
        "labels = []\n",
        "\n",
        "with open(basefile, 'r', encoding=\"utf8\") as f:\n",
        "  for line in f:\n",
        "    splitted = line.strip().split()\n",
        "    labels.append(splitted[len(splitted)-1])\n",
        "    texts.append(' '.join(splitted[1:len(splitted)-2]))\n",
        "\n",
        "print('Loaded %s  data' % len(labels))"
      ]
    },
    {
      "cell_type": "code",
      "execution_count": null,
      "metadata": {
        "colab": {
          "base_uri": "https://localhost:8080/"
        },
        "id": "haPlLmiWS8m8",
        "outputId": "5e628057-83d2-4260-e6e4-5267a96d9d4d"
      },
      "outputs": [
        {
          "output_type": "stream",
          "name": "stdout",
          "text": [
            "Counter({'joy': 8240, 'surprise': 3849, 'sadness': 3830, 'fear': 2816, 'anger': 1555, 'disgust': 761})\n",
            "literally haven't seen the sun in a week and it's finally coming out!\n",
            "joy\n"
          ]
        }
      ],
      "source": [
        "# Take a look at some of the data. The labels list contains about six different\n",
        "# options. These are labels that were added to the dataset by human annotators.\n",
        "\n",
        "print(Counter(labels)) # Use Counter to get a summary of each category\n",
        "\n",
        "# Show an example\n",
        "print(texts[55])\n",
        "print(labels[55])"
      ]
    },
    {
      "cell_type": "code",
      "execution_count": 44,
      "metadata": {
        "id": "yA9v_VwamJTv",
        "colab": {
          "base_uri": "https://localhost:8080/"
        },
        "outputId": "a65fca89-e943-4af2-d603-cee1b04f4571"
      },
      "outputs": [
        {
          "output_type": "stream",
          "name": "stdout",
          "text": [
            "Guess I better start my psychology paper that's due Monday.\n",
            "joy\n"
          ]
        }
      ],
      "source": [
        "#\n",
        "# Exercise 8.2: Review a tweet with a label that is different from joy.\n",
        "# You can just choose an index at random and try it in place of 55 in the code\n",
        "# just above. Add a comment saying whether you agree with the label.\n",
        "#\n",
        "\n",
        "print(texts[54])\n",
        "print(labels[54])\n",
        "\n",
        "\n",
        "#The sentence shows an emotion of \"anxiety\" rather than \"joy\"."
      ]
    },
    {
      "cell_type": "code",
      "execution_count": null,
      "metadata": {
        "colab": {
          "base_uri": "https://localhost:8080/"
        },
        "id": "tJWbLJ2ghfBw",
        "outputId": "62c19900-f75e-4035-e02e-488c504134ea"
      },
      "outputs": [
        {
          "output_type": "stream",
          "name": "stdout",
          "text": [
            "Cleaning Completed!\n"
          ]
        },
        {
          "output_type": "execute_result",
          "data": {
            "text/plain": [
              "21051"
            ]
          },
          "metadata": {},
          "execution_count": 19
        }
      ],
      "source": [
        "# Use our tweet cleaner to fix everything up. Because we are running an\n",
        "# interpreted loop over a large number of instances, this takes\n",
        "# about a minute to complete.\n",
        "cleaned_tweets = clean_tweets(texts)\n",
        "print(\"Cleaning Completed!\")\n",
        "len(cleaned_tweets)"
      ]
    },
    {
      "cell_type": "code",
      "execution_count": null,
      "metadata": {
        "colab": {
          "base_uri": "https://localhost:8080/"
        },
        "id": "ZFEKr_mUi7uH",
        "outputId": "f229912c-e205-4ef7-954e-624348399248"
      },
      "outputs": [
        {
          "output_type": "execute_result",
          "data": {
            "text/plain": [
              "['thinks', '<user>', 'great', '50th', 'birthday', 'party', ':)']"
            ]
          },
          "metadata": {},
          "execution_count": 20
        }
      ],
      "source": [
        "# Let's examine one of these tweets\n",
        "cleaned_tweets[0]"
      ]
    },
    {
      "cell_type": "code",
      "execution_count": 45,
      "metadata": {
        "id": "J5xxG8IwpNIx",
        "colab": {
          "base_uri": "https://localhost:8080/"
        },
        "outputId": "493f0e95-3701-41f0-88da-fbfb4b8dcc70"
      },
      "outputs": [
        {
          "output_type": "stream",
          "name": "stdout",
          "text": [
            "Drive already mounted at /drive; to attempt to forcibly remount, call drive.mount(\"/drive\", force_remount=True).\n",
            "Loading word embeddings...\n",
            "Loaded 1193514 word vectors.\n"
          ]
        }
      ],
      "source": [
        "# Now grab the GloVe embeddings we will need: Takes about a minute to download.\n",
        "# Then it take about another minute to fill the data structure.\n",
        "# Note that the zip file with the embeddings is hosted in Dropbox. If this does\n",
        "# not work, it could be downloaded from the GloVe website and uploaded to the\n",
        "# file store for this notebook.\n",
        "\n",
        "#!wget https://www.dropbox.com/s/ewfdwppopt3pild/glove.twitter.27B.100d.txt.zip?dl=1\n",
        "\n",
        "from google.colab import drive\n",
        "drive.mount('/drive')\n",
        "\n",
        "#from google.colab import files\n",
        "#uploaded = files.upload()\n",
        "#!unzip /drive/My Drive/Colab Notebooks/IST 664/glove.twitter.27B.100d.txt.zip?dl=1\n",
        "\n",
        "print(\"Loading word embeddings...\")\n",
        "embeddings_index = dict() # Initialize an empty dictionary\n",
        "embedding_dir = 'glove.twitter.27B.100d.txt'\n",
        "#https://drive.google.com/file/d/1rAP6QM4fBEZUCz-bU6uAvX-8IwRg3hio/view?usp=sharing\n",
        "\n",
        "f = open('/drive/My Drive/Colab Notebooks/IST 664/glove.twitter.27B.100d.txt', encoding='utf8')\n",
        "#f = open(embedding_dir,encoding=\"utf8\")\n",
        "i = 1\n",
        "for line in f:\n",
        "    values = line.split()\n",
        "    word = values[0]\n",
        "    coefs = asarray(values[1:], dtype='float32')\n",
        "    embeddings_index[word] = coefs\n",
        "f.close()\n",
        "print('Loaded %s word vectors.' % len(embeddings_index))\n",
        "\n"
      ]
    },
    {
      "cell_type": "code",
      "execution_count": 46,
      "metadata": {
        "id": "OBFuHMnFS8m8",
        "colab": {
          "base_uri": "https://localhost:8080/"
        },
        "outputId": "5226d7e1-f114-429f-a43a-4bee3262e108"
      },
      "outputs": [
        {
          "output_type": "stream",
          "name": "stdout",
          "text": [
            "Generating embedding matrices...\n",
            "Embedding matrices generation completed!\n"
          ]
        }
      ],
      "source": [
        "# Create a matrix that contains enough rows to handle each unique vocab\n",
        "# item in the tweets and enough columns to capture all of the embedding\n",
        "# vectors. Fill this up by doing lookups of each vocab word in the GloVe\n",
        "# data structure embeddings_index.\n",
        "\n",
        "dimension = 100\n",
        "\n",
        "tokenizer_tweets = create_tokenizer(cleaned_tweets)\n",
        "\n",
        "# According to the Keras documentation at https://keras.io/api/preprocessing/text/\n",
        "# The index 0 is reserved. The doc does not say why, but some internet sources\n",
        "# say that the 0th entry is used as \"padding.\" When we iterate over word_index.items()\n",
        "# below, the first \"i\" it returns is 1. Therefore to make sure all of our vocab\n",
        "# fits in the structure, we need the expression in the next line.\n",
        "vocab_size = len(tokenizer_tweets.word_index) + 1\n",
        "\n",
        "# Generate embedding matrices\n",
        "print(\"Generating embedding matrices...\")\n",
        "\n",
        "tweet_matrix = zeros((vocab_size, dimension))\n",
        "for word, i in tokenizer_tweets.word_index.items():\n",
        "    embedding_vector = embeddings_index.get(word)\n",
        "    if embedding_vector is not None:\n",
        "        tweet_matrix[i] = np.array(list(embedding_vector))\n",
        "    else:\n",
        "        tweet_matrix[i] = np.array(list(np.random.uniform(low=-1, high=1, size=(dimension,))))\n",
        "#    print(tweet_matrix[i])\n",
        "\n",
        "print(\"Embedding matrices generation completed!\")\n",
        "\n"
      ]
    },
    {
      "cell_type": "code",
      "execution_count": null,
      "metadata": {
        "id": "4eK_viRHfAaS",
        "colab": {
          "base_uri": "https://localhost:8080/"
        },
        "outputId": "bef6bb1d-c15e-460f-d9c8-89faeaa691d3"
      },
      "outputs": [
        {
          "output_type": "execute_result",
          "data": {
            "text/plain": [
              "(24681, 100)"
            ]
          },
          "metadata": {},
          "execution_count": 32
        }
      ],
      "source": [
        "tweet_matrix.shape # Check the number of rows and columns. As we loaded the\n",
        "# 100d GloVe model, there should be 100 columns."
      ]
    },
    {
      "cell_type": "code",
      "execution_count": null,
      "metadata": {
        "id": "8IPWEewdskNN",
        "colab": {
          "base_uri": "https://localhost:8080/"
        },
        "outputId": "8a740656-50cf-4288-d15e-507b6aa771cd"
      },
      "outputs": [
        {
          "output_type": "stream",
          "name": "stdout",
          "text": [
            "('<user>', 1)\n"
          ]
        },
        {
          "output_type": "execute_result",
          "data": {
            "text/plain": [
              "array([ 0.63006002,  0.65177   ,  0.25545001,  0.018593  ,  0.043094  ,\n",
              "        0.047194  ,  0.23218   ,  0.11613   ,  0.17371   ,  0.40487   ,\n",
              "        0.022524  , -0.076731  , -2.29110003,  0.094127  ,  0.43292999,\n",
              "        0.041801  ,  0.063175  , -0.64486003, -0.43656999,  0.024114  ,\n",
              "       -0.082989  ,  0.21686   , -0.13462   , -0.22336   ,  0.39436001,\n",
              "       -2.1724    , -0.39544001,  0.16536   ,  0.39438   , -0.35181999,\n",
              "       -0.14996   ,  0.10502   , -0.45936999,  0.27728999,  0.89240003,\n",
              "       -0.042313  , -0.009345  ,  0.55017   ,  0.095521  ,  0.070504  ,\n",
              "       -1.17809999,  0.013723  ,  0.17742001,  0.74141997,  0.17715999,\n",
              "        0.038468  , -0.31683999,  0.08941   ,  0.20557   , -0.34327999,\n",
              "       -0.64302999, -0.87800002, -0.16293   , -0.055925  ,  0.33897999,\n",
              "        0.60663998, -0.27739999,  0.33625999,  0.21603   , -0.11051   ,\n",
              "        0.0058673 , -0.64757001, -0.068222  , -0.77414   ,  0.13911   ,\n",
              "       -0.15851   , -0.61884999, -0.10192   , -0.47      ,  0.19787   ,\n",
              "        0.42175001, -0.18458   ,  0.080581  , -0.22544999, -0.065129  ,\n",
              "       -0.15328   ,  0.087726  , -0.18817   , -0.08371   ,  0.21778999,\n",
              "        0.97899002,  0.1092    ,  0.022705  , -0.078234  ,  0.15594999,\n",
              "        0.083105  , -0.68239999,  0.57468998, -0.19942001,  0.50566   ,\n",
              "       -0.18277   ,  0.37720999, -0.12514   , -0.42820999, -0.81075001,\n",
              "       -0.39326   , -0.17386   ,  0.55096   ,  0.64705998, -0.60930002])"
            ]
          },
          "metadata": {},
          "execution_count": 33
        }
      ],
      "source": [
        "# Now we have a matrix of GloVe vectors for every vocab item in the tweets.\n",
        "# What can we do with them? Let's look up a word. Remember that the first word\n",
        "# embedding vector in tweet_matrix appears at index 1 rather than 0.\n",
        "\n",
        "my_index = 1\n",
        "print(list(tokenizer_tweets.word_index.items())[my_index-1])\n",
        "tweet_matrix[my_index]\n",
        "\n"
      ]
    },
    {
      "cell_type": "code",
      "execution_count": 47,
      "metadata": {
        "id": "iLnJGH9Lmny0",
        "colab": {
          "base_uri": "https://localhost:8080/"
        },
        "outputId": "85c88786-1fcf-4b33-de1d-018b9f37a8b0"
      },
      "outputs": [
        {
          "output_type": "stream",
          "name": "stdout",
          "text": [
            "('..', 4)\n"
          ]
        },
        {
          "output_type": "execute_result",
          "data": {
            "text/plain": [
              "array([ 0.15952121, -0.93675069,  0.8848727 ,  0.03825245,  0.19158554,\n",
              "       -0.2955281 ,  0.69640205, -0.31658665, -0.98996306, -0.59922794,\n",
              "        0.04872157,  0.78128715,  0.07218131,  0.59322354, -0.04471679,\n",
              "        0.98054175,  0.43082555,  0.41457807, -0.33271632, -0.70078749,\n",
              "       -0.15813116,  0.00966944,  0.43033075, -0.28810573,  0.72367865,\n",
              "       -0.57484874, -0.62942437, -0.54354438, -0.26840451,  0.10936485,\n",
              "        0.4605114 , -0.46090408, -0.56574852, -0.17621721, -0.22259952,\n",
              "        0.22010615, -0.46130616,  0.70986709, -0.50578003, -0.44577334,\n",
              "       -0.1969113 ,  0.56398482,  0.19652086, -0.87696622, -0.57926659,\n",
              "       -0.91428925, -0.91578413,  0.00700817,  0.57822774, -0.85062663,\n",
              "        0.59503296, -0.37778651, -0.83089738, -0.17112444,  0.80399986,\n",
              "       -0.93314332,  0.24460024,  0.61786373, -0.80256341,  0.12061536,\n",
              "       -0.99126971, -0.64011629, -0.13164039,  0.59922035,  0.82722268,\n",
              "        0.46297332, -0.37638789, -0.19858283, -0.61781141, -0.76167934,\n",
              "        0.03515589, -0.76135239,  0.35882364,  0.89027497, -0.64641904,\n",
              "       -0.45422083, -0.77671535,  0.44721348,  0.39463557,  0.74438154,\n",
              "        0.59007363, -0.50047631,  0.51852797,  0.79914419, -0.72607366,\n",
              "       -0.21465078, -0.11618693,  0.2817811 , -0.35481208, -0.71514014,\n",
              "        0.11709629,  0.79087239, -0.82059643,  0.96425806, -0.23775866,\n",
              "        0.54164752,  0.58638448,  0.22282966, -0.98647662,  0.24596958])"
            ]
          },
          "metadata": {},
          "execution_count": 47
        }
      ],
      "source": [
        "#\n",
        "# Exercise 8.3: Change my_index in the code block above to a number\n",
        "# higher than 1 and review the word and its embedding.\n",
        "#\n",
        "my_index = 4\n",
        "print(list(tokenizer_tweets.word_index.items())[my_index-1])\n",
        "tweet_matrix[my_index]"
      ]
    },
    {
      "cell_type": "code",
      "execution_count": null,
      "metadata": {
        "id": "UZqDPcdPd72I",
        "colab": {
          "base_uri": "https://localhost:8080/"
        },
        "outputId": "a241bbbb-1025-47d3-b707-91f3396f72d4"
      },
      "outputs": [
        {
          "output_type": "execute_result",
          "data": {
            "text/plain": [
              "100"
            ]
          },
          "metadata": {},
          "execution_count": 35
        }
      ],
      "source": [
        "len(tweet_matrix[1])"
      ]
    },
    {
      "cell_type": "code",
      "execution_count": null,
      "metadata": {
        "id": "vGzxJR8YSKJk"
      },
      "outputs": [],
      "source": [
        "#!wget -c \"https://s3.amazonaws.com/dl4j-distribution/GoogleNews-vectors-negative300.bin.gz\"\n",
        "#!wget -c \"https://s3.amazonaws.com/dl4j-distribution/GoogleNews-vectors-negative300.bin.gz\"\n",
        "#!wget -c \"https://s3.amazonaws.com/dl4j-distribution/GoogleNews-vectors-negative300.bin.gz\"\n",
        "#!wget -c \"https://drive.google.com/file/d/0B7XkCwpI5KDYNlNUTTlSS21pQmM/edit?resourcekey=0-wjGZdNAUop6WykTtMip30g/\"\n",
        "#!gzip -d GoogleNews-vectors-negative300.bin.gz\n",
        "\n"
      ]
    },
    {
      "cell_type": "code",
      "execution_count": 50,
      "metadata": {
        "id": "C0SI9K3lS8m8",
        "colab": {
          "base_uri": "https://localhost:8080/"
        },
        "outputId": "a256bae4-1ea8-4aa9-8531-2c00e8547125"
      },
      "outputs": [
        {
          "output_type": "stream",
          "name": "stdout",
          "text": [
            "KeyedVectors<vector_size=300, 3000000 keys>\n"
          ]
        }
      ],
      "source": [
        "############# we use word2vec for word embedding #############\n",
        "\n",
        "#https://drive.google.com/file/d/1Q8TFtBe1TgkKzAUbf3W8qCA2mnrtTHd1/view?usp=sharing\n",
        "word2vec_vectors = models.KeyedVectors.load_word2vec_format(\n",
        "    '/drive/My Drive/Colab Notebooks/IST 664/GoogleNews-vectors-negative300.bin', binary=True)\n",
        "dimension = 300\n",
        "print(word2vec_vectors)\n",
        "word2vec_tweet_matrix = zeros((vocab_size, dimension))\n",
        "for word, i in tokenizer_tweets.word_index.items():\n",
        "    if word in word2vec_vectors:\n",
        "        word2vec_tweet_matrix[i] = np.array(list(word2vec_vectors[word]))\n",
        "    else:\n",
        "        word2vec_tweet_matrix[i] = np.array(list(np.random.uniform(low=-1, high=1, size=(dimension,))))\n",
        "#    print(word2vec_tweet_matrix[i])\n",
        "\n",
        "\n"
      ]
    },
    {
      "cell_type": "code",
      "execution_count": 51,
      "metadata": {
        "id": "JTV_afjJS8m9",
        "colab": {
          "base_uri": "https://localhost:8080/",
          "height": 379,
          "referenced_widgets": [
            "6b70d1a0e1e64538b2b3fcb379f50686",
            "c3cbae2cb10d4832a62cecfc52991795",
            "3d5744da998c45e7bdadb7da44e436cc",
            "40e22124747e4655aeeeabc136f7a49a",
            "ea926d797fb347789e84d5271274db87",
            "38d128ffd9924349906b8eb3818c42ce",
            "7c95f5d42613444fb0bd04a8cee5dfac",
            "4f3429e744f54193898fc0376081b8b4",
            "3afbb04fb4764fe0969e74bc284b7319",
            "e8c3a5fb4c09451d96b4c363b20de5fc",
            "3c489440db5c475f8c54bf010f16eea2",
            "332ce99cc73e4eb491dd6678264ae2b7",
            "a27e86324c824fdeb5bf1f877d9bbb6c",
            "6afbc9ed092e4ec1be879c2aeea8229a",
            "6a4f59bbe3e445fdb1e61b4a1601d35c",
            "32faae095e2d4680a1e74d79585b25c3",
            "479f937108424a67afdf6e3673448453",
            "6ff5fde84430405c8167337275727a47",
            "c240cc245a7c4e11a7ec18e2e51d3b81",
            "0a26e9367a5b4c338df0aac310d20335",
            "56106faf386f4845807f750dee43d8e1",
            "3d676eafc289403ead15bc275a28325d",
            "2cca00fcea084c35ab701fbfb4214873",
            "c1100d4742604f12a4990813538236e1",
            "3a2f52f3203447739f1d0dd353d5cc6e",
            "c10cd58cdfaa41aa9154570ae65e0606",
            "339516707b4b41dbac8de3866b501bfd",
            "bdaf4971a3704da887881a2108c34f34",
            "762297441a4a40b288db1b9efb059ea7",
            "7175a56950fe4300acc59012ed3c4c5b",
            "9d3655557a874bcbb95b90f0b20aed5a",
            "271d92120ca74c0e828569c6d743e6af",
            "0fa2fbf8e94f4ac7b187f702e5c33975",
            "29a93d05c67e470d877411b899c1defa",
            "5f37f0092de54af4810cd7595609845c",
            "1d76db54e81c45cc9d6efee3a1e396f2",
            "9b02afa515204b759ae7cfa67f8f5a3f",
            "af9c7623a0224ca9a8d909cbce245407",
            "80dcbb449801489096e6e846ed0a7a73",
            "17176993add2458c857d0ab3eb825c6c",
            "255598938c3b44bc9e12b01e5d9ddcb4",
            "272d6b555b9e4ad58979f8a668e71c9e",
            "6ec59b42ce5740fda88b4af0be925f36",
            "dc37bf12c55541a6b3d0e1fecc47b613"
          ]
        },
        "outputId": "78450150-7a09-441b-e0f4-95d9b2700dae"
      },
      "outputs": [
        {
          "output_type": "display_data",
          "data": {
            "text/plain": [
              "Downloading:   0%|          | 0.00/226k [00:00<?, ?B/s]"
            ],
            "application/vnd.jupyter.widget-view+json": {
              "version_major": 2,
              "version_minor": 0,
              "model_id": "6b70d1a0e1e64538b2b3fcb379f50686"
            }
          },
          "metadata": {}
        },
        {
          "output_type": "display_data",
          "data": {
            "text/plain": [
              "Downloading:   0%|          | 0.00/28.0 [00:00<?, ?B/s]"
            ],
            "application/vnd.jupyter.widget-view+json": {
              "version_major": 2,
              "version_minor": 0,
              "model_id": "332ce99cc73e4eb491dd6678264ae2b7"
            }
          },
          "metadata": {}
        },
        {
          "output_type": "display_data",
          "data": {
            "text/plain": [
              "Downloading:   0%|          | 0.00/570 [00:00<?, ?B/s]"
            ],
            "application/vnd.jupyter.widget-view+json": {
              "version_major": 2,
              "version_minor": 0,
              "model_id": "2cca00fcea084c35ab701fbfb4214873"
            }
          },
          "metadata": {}
        },
        {
          "output_type": "display_data",
          "data": {
            "text/plain": [
              "Downloading:   0%|          | 0.00/420M [00:00<?, ?B/s]"
            ],
            "application/vnd.jupyter.widget-view+json": {
              "version_major": 2,
              "version_minor": 0,
              "model_id": "29a93d05c67e470d877411b899c1defa"
            }
          },
          "metadata": {}
        },
        {
          "output_type": "stream",
          "name": "stderr",
          "text": [
            "Some weights of the model checkpoint at bert-base-uncased were not used when initializing BertModel: ['cls.seq_relationship.bias', 'cls.predictions.transform.dense.weight', 'cls.predictions.transform.LayerNorm.bias', 'cls.predictions.transform.dense.bias', 'cls.seq_relationship.weight', 'cls.predictions.transform.LayerNorm.weight', 'cls.predictions.decoder.weight', 'cls.predictions.bias']\n",
            "- This IS expected if you are initializing BertModel from the checkpoint of a model trained on another task or with another architecture (e.g. initializing a BertForSequenceClassification model from a BertForPreTraining model).\n",
            "- This IS NOT expected if you are initializing BertModel from the checkpoint of a model that you expect to be exactly identical (initializing a BertForSequenceClassification model from a BertForSequenceClassification model).\n"
          ]
        },
        {
          "output_type": "stream",
          "name": "stdout",
          "text": [
            "The token representation in I really enjoyed this movie a lot.is \n",
            " tensor([[[ 0.3582, -0.4257, -0.0340,  ...,  0.0060,  0.3476,  0.1494],\n",
            "         [ 0.4394, -0.4750, -0.3830,  ..., -0.1403,  1.1409,  0.1050],\n",
            "         [ 0.7339, -0.7106, -0.3237,  ..., -0.3432,  0.5855, -0.3660],\n",
            "         ...,\n",
            "         [ 0.3494, -0.5298, -0.0804,  ...,  0.2450,  0.2246, -0.0978],\n",
            "         [ 0.5115, -0.0925, -0.1743,  ...,  0.1119, -0.2674, -0.4251],\n",
            "         [ 0.3200, -0.0759,  0.1520,  ...,  0.5135, -0.2743, -0.2685]]],\n",
            "       grad_fn=<NativeLayerNormBackward0>)\n"
          ]
        }
      ],
      "source": [
        "############# we use BERT for word embedding ##############\n",
        "# source code from https://datascience.stackexchange.com/questions/62658/how-to-get-sentence-embedding-using-bert\n",
        "#an article: https://towardsdatascience.com/how-to-use-bert-from-the-hugging-face-transformer-library-d373a22b0209\n",
        "tokenizer = BertTokenizer.from_pretrained('bert-base-uncased')\n",
        "bert_model = BertModel.from_pretrained('bert-base-uncased')\n",
        "sentence='I really enjoyed this movie a lot.'\n",
        "encoded_input = tokenizer.encode(sentence, return_tensors=\"pt\")\n",
        "output = bert_model(encoded_input)\n",
        "print(\"The token representation in \" + sentence + \"is \\n\", output.last_hidden_state)"
      ]
    },
    {
      "cell_type": "code",
      "source": [
        "#8.4 obtain BERT vector embedding for the first two Twitter data and print them\n",
        "\n",
        "encoded_input = tokenizer.encode(cleaned_tweets[0], return_tensors=\"pt\")\n",
        "output = bert_model(encoded_input)\n",
        "sentence = cleaned_tweets[0]\n",
        "print(\"The token representation for tweet 1 is \\n\", output.last_hidden_state)\n",
        "\n",
        "\n",
        "sentence = cleaned_tweets[1]\n",
        "encoded_input = tokenizer.encode(cleaned_tweets[1], return_tensors=\"pt\")\n",
        "output = bert_model(encoded_input)\n",
        "print(\"The token representation for tweet 2 is \\n\", output.last_hidden_state)"
      ],
      "metadata": {
        "id": "XiUYes_p8VaL",
        "colab": {
          "base_uri": "https://localhost:8080/"
        },
        "outputId": "df5faa06-14a3-49d7-ae86-dd8cc79aae4d"
      },
      "execution_count": 57,
      "outputs": [
        {
          "output_type": "stream",
          "name": "stdout",
          "text": [
            "The token representation for tweet 1 is \n",
            " tensor([[[-0.2258,  0.1785, -0.0879,  ..., -0.2794,  0.4903,  0.1265],\n",
            "         [ 0.3523,  0.0721,  0.5121,  ..., -0.2080,  0.4022, -0.3151],\n",
            "         [-0.1239, -0.0185,  0.7561,  ...,  0.1545,  0.1034,  0.2282],\n",
            "         ...,\n",
            "         [-0.8715, -0.5080,  0.6794,  ...,  0.1494,  0.1064, -0.1004],\n",
            "         [-0.5764, -0.5801,  0.1563,  ...,  0.6489,  0.1286, -0.2256],\n",
            "         [ 0.6480,  0.3481,  0.0917,  ...,  0.4565, -0.6316, -0.2761]]],\n",
            "       grad_fn=<NativeLayerNormBackward0>)\n",
            "The token representation for tweet 2 is \n",
            " tensor([[[-0.4578,  0.4611, -0.4015,  ..., -0.4402,  0.3530,  0.3147],\n",
            "         [ 0.0885,  0.1086, -0.2495,  ..., -0.3429, -0.2463,  0.6791],\n",
            "         [-0.3871, -0.3610, -0.3197,  ..., -0.4592,  0.0887,  0.7253],\n",
            "         ...,\n",
            "         [-0.2753,  0.6812, -0.0257,  ..., -0.7204,  0.2849, -0.3349],\n",
            "         [-0.6587,  0.2800, -0.5471,  ..., -0.3533,  0.2485, -0.3560],\n",
            "         [ 0.4078,  0.2860, -0.3942,  ...,  0.0225, -0.6620, -0.2970]]],\n",
            "       grad_fn=<NativeLayerNormBackward0>)\n"
          ]
        }
      ]
    },
    {
      "cell_type": "code",
      "execution_count": 58,
      "metadata": {
        "id": "0uSt6UJbx_5y",
        "colab": {
          "base_uri": "https://localhost:8080/"
        },
        "outputId": "69875c8e-f159-4951-c22c-655f3184b32b"
      },
      "outputs": [
        {
          "output_type": "stream",
          "name": "stdout",
          "text": [
            "--2023-10-31 16:36:09--  https://www.dropbox.com/s/cmdsttnzr66cpkb/options.json?dl=1\n",
            "Resolving www.dropbox.com (www.dropbox.com)... 162.125.3.18, 2620:100:6018:18::a27d:312\n",
            "Connecting to www.dropbox.com (www.dropbox.com)|162.125.3.18|:443... connected.\n",
            "HTTP request sent, awaiting response... 302 Found\n",
            "Location: /s/dl/cmdsttnzr66cpkb/options.json [following]\n",
            "--2023-10-31 16:36:09--  https://www.dropbox.com/s/dl/cmdsttnzr66cpkb/options.json\n",
            "Reusing existing connection to www.dropbox.com:443.\n",
            "HTTP request sent, awaiting response... 302 Found\n",
            "Location: https://ucf9469d488d31b61a0a9c247749.dl.dropboxusercontent.com/cd/0/get/CGptOwmr0eGC9E9W2PBVkrhsBHNxIXsJu9rdorLomj1acr0tuUgm6DTDEGKrb_aoSPmbJxI8Z_jCCHdzas4y9pFlZvnGJAXwmV0nu92D-ILnBnh3R0AjzMrSVKYWoupKpSPu1xrz8MftTtidfLaRUwgT/file?dl=1# [following]\n",
            "--2023-10-31 16:36:09--  https://ucf9469d488d31b61a0a9c247749.dl.dropboxusercontent.com/cd/0/get/CGptOwmr0eGC9E9W2PBVkrhsBHNxIXsJu9rdorLomj1acr0tuUgm6DTDEGKrb_aoSPmbJxI8Z_jCCHdzas4y9pFlZvnGJAXwmV0nu92D-ILnBnh3R0AjzMrSVKYWoupKpSPu1xrz8MftTtidfLaRUwgT/file?dl=1\n",
            "Resolving ucf9469d488d31b61a0a9c247749.dl.dropboxusercontent.com (ucf9469d488d31b61a0a9c247749.dl.dropboxusercontent.com)... 162.125.80.15, 2620:100:601b:15::a27d:80f\n",
            "Connecting to ucf9469d488d31b61a0a9c247749.dl.dropboxusercontent.com (ucf9469d488d31b61a0a9c247749.dl.dropboxusercontent.com)|162.125.80.15|:443... connected.\n",
            "HTTP request sent, awaiting response... 200 OK\n",
            "Length: 335 [application/binary]\n",
            "Saving to: ‘options.json?dl=1’\n",
            "\n",
            "options.json?dl=1   100%[===================>]     335  --.-KB/s    in 0s      \n",
            "\n",
            "2023-10-31 16:36:10 (87.5 MB/s) - ‘options.json?dl=1’ saved [335/335]\n",
            "\n",
            "--2023-10-31 16:36:10--  https://www.dropbox.com/s/bn1hmusxwq50f2e/weights.hdf5?dl=1\n",
            "Resolving www.dropbox.com (www.dropbox.com)... 162.125.3.18, 2620:100:6018:18::a27d:312\n",
            "Connecting to www.dropbox.com (www.dropbox.com)|162.125.3.18|:443... connected.\n",
            "HTTP request sent, awaiting response... 302 Found\n",
            "Location: /s/dl/bn1hmusxwq50f2e/weights.hdf5 [following]\n",
            "--2023-10-31 16:36:11--  https://www.dropbox.com/s/dl/bn1hmusxwq50f2e/weights.hdf5\n",
            "Reusing existing connection to www.dropbox.com:443.\n",
            "HTTP request sent, awaiting response... 302 Found\n",
            "Location: https://uc793a1e446e7eec405dce1c7436.dl.dropboxusercontent.com/cd/0/get/CGrBItDY9_OFMfQNtEFZQAmgnWLUTRSePvUg8E6157b8C5F4cYd3aGpmNtdpJYIGMwugoXJxdpeLK2qCftyYUS8sYUCQnyw3m5lbzHevnk32wq65bVStzoExrK1kB_UeBJDxmwuwbRIBp7LJuxoI6MKC/file?dl=1# [following]\n",
            "--2023-10-31 16:36:11--  https://uc793a1e446e7eec405dce1c7436.dl.dropboxusercontent.com/cd/0/get/CGrBItDY9_OFMfQNtEFZQAmgnWLUTRSePvUg8E6157b8C5F4cYd3aGpmNtdpJYIGMwugoXJxdpeLK2qCftyYUS8sYUCQnyw3m5lbzHevnk32wq65bVStzoExrK1kB_UeBJDxmwuwbRIBp7LJuxoI6MKC/file?dl=1\n",
            "Resolving uc793a1e446e7eec405dce1c7436.dl.dropboxusercontent.com (uc793a1e446e7eec405dce1c7436.dl.dropboxusercontent.com)... 162.125.3.15, 2620:100:6018:15::a27d:30f\n",
            "Connecting to uc793a1e446e7eec405dce1c7436.dl.dropboxusercontent.com (uc793a1e446e7eec405dce1c7436.dl.dropboxusercontent.com)|162.125.3.15|:443... connected.\n",
            "HTTP request sent, awaiting response... 200 OK\n",
            "Length: 54402456 (52M) [application/binary]\n",
            "Saving to: ‘weights.hdf5?dl=1’\n",
            "\n",
            "weights.hdf5?dl=1   100%[===================>]  51.88M   107MB/s    in 0.5s    \n",
            "\n",
            "2023-10-31 16:36:12 (107 MB/s) - ‘weights.hdf5?dl=1’ saved [54402456/54402456]\n",
            "\n"
          ]
        }
      ],
      "source": [
        "# Get files for elmo from dropbox\n",
        "!wget https://www.dropbox.com/s/cmdsttnzr66cpkb/options.json?dl=1\n",
        "options_file = 'options.json?dl=1'\n",
        "\n",
        "!wget https://www.dropbox.com/s/bn1hmusxwq50f2e/weights.hdf5?dl=1\n",
        "weight_file = 'weights.hdf5?dl=1'"
      ]
    },
    {
      "cell_type": "code",
      "execution_count": 59,
      "metadata": {
        "id": "56AQp6YaS8m-",
        "colab": {
          "base_uri": "https://localhost:8080/"
        },
        "outputId": "02e34ac3-9118-4f80-dca6-0043e78fb804"
      },
      "outputs": [
        {
          "output_type": "stream",
          "name": "stdout",
          "text": [
            "The token representation is  tensor([[[ 0.0000, -0.0000,  0.0828,  ...,  0.1907,  0.3396, -0.0000],\n",
            "         [ 0.0000, -0.1505, -0.0517,  ...,  0.1164, -0.0000,  0.0000],\n",
            "         [-0.6227, -0.3249, -0.1599,  ..., -0.1374, -0.5435,  0.1589],\n",
            "         ...,\n",
            "         [-0.0000, -0.5467, -0.0000,  ...,  0.1904,  0.1475,  0.2457],\n",
            "         [ 0.5665, -0.6002,  0.0000,  ..., -1.4920, -0.3407, -0.7940],\n",
            "         [ 0.0000,  0.2206,  0.4666,  ..., -0.2100,  0.0000,  0.1361]],\n",
            "\n",
            "        [[ 0.6851, -0.7621,  0.0000,  ...,  0.2069, -0.0000,  0.0426],\n",
            "         [ 0.0706, -1.0656, -0.4043,  ..., -0.3354, -0.2849, -0.3982],\n",
            "         [-0.1585, -0.0000,  0.0466,  ...,  0.3179,  0.3930, -0.5786],\n",
            "         ...,\n",
            "         [ 0.0000,  0.0000,  0.0000,  ...,  0.0000,  0.0000,  0.0000],\n",
            "         [ 0.0000,  0.0000,  0.0000,  ...,  0.0000,  0.0000,  0.0000],\n",
            "         [ 0.0000,  0.0000,  0.0000,  ...,  0.0000,  0.0000,  0.0000]]],\n",
            "       grad_fn=<MulBackward0>)\n"
          ]
        }
      ],
      "source": [
        "############# we use ELMO for word embedding #############\n",
        "\n",
        "sentences=['I really enjoyed this movie a lot.', 'I am happy.']\n",
        "elmo_model = Elmo(options_file=options_file, weight_file=weight_file,\n",
        "                num_output_representations=1, dropout=0.3, requires_grad=False,do_layer_norm=True)\n",
        "tokens = [nltk.word_tokenize(text) for text in sentences]\n",
        "\n",
        "character_ids = batch_to_ids(tokens)\n",
        "elmo_embs = elmo_model(character_ids)['elmo_representations']\n",
        "print(\"The token representation is \", elmo_embs[0])"
      ]
    },
    {
      "cell_type": "code",
      "source": [
        "#8.5 obtain Elmo word embedding for the first two Twitter data and print them\n",
        "\n",
        "tokens = [nltk.word_tokenize(text) for text in cleaned_tweets[0]]\n",
        "\n",
        "character_ids = batch_to_ids(tokens)\n",
        "elmo_embs = elmo_model(character_ids)['elmo_representations']\n",
        "print(\"The token representation is \", elmo_embs[0])\n",
        "\n",
        "\n",
        "tokens = [nltk.word_tokenize(text) for text in cleaned_tweets[1]]\n",
        "\n",
        "character_ids = batch_to_ids(tokens)\n",
        "elmo_embs = elmo_model(character_ids)['elmo_representations']\n",
        "print(\"\\nThe token representation is \", elmo_embs[0])"
      ],
      "metadata": {
        "id": "sJnT7IE08jAc",
        "colab": {
          "base_uri": "https://localhost:8080/"
        },
        "outputId": "6faab37f-231a-4bf4-ac9c-98b4689ad49e"
      },
      "execution_count": 63,
      "outputs": [
        {
          "output_type": "stream",
          "name": "stdout",
          "text": [
            "The token representation is  tensor([[[-0.2737,  0.0607, -0.0303,  ...,  0.1215, -0.0000,  0.0000],\n",
            "         [ 0.0000,  0.0000,  0.0000,  ...,  0.0000,  0.0000,  0.0000],\n",
            "         [ 0.0000,  0.0000,  0.0000,  ...,  0.0000,  0.0000,  0.0000]],\n",
            "\n",
            "        [[-0.4526, -0.5747, -0.3534,  ..., -0.1179,  0.0805,  0.5196],\n",
            "         [ 0.9500, -0.1823, -0.1744,  ..., -1.0382,  0.0000,  0.0000],\n",
            "         [-0.0000, -0.0634,  0.0000,  ..., -0.8914, -1.2330,  0.1480]],\n",
            "\n",
            "        [[-0.0019, -0.0653, -0.4154,  ...,  0.0000, -0.1289, -0.1808],\n",
            "         [ 0.0000,  0.0000,  0.0000,  ...,  0.0000,  0.0000,  0.0000],\n",
            "         [ 0.0000,  0.0000,  0.0000,  ...,  0.0000,  0.0000,  0.0000]],\n",
            "\n",
            "        ...,\n",
            "\n",
            "        [[ 0.2534,  0.9938, -0.0000,  ...,  0.0000, -0.0000, -0.0000],\n",
            "         [ 0.0000,  0.0000,  0.0000,  ...,  0.0000,  0.0000,  0.0000],\n",
            "         [ 0.0000,  0.0000,  0.0000,  ...,  0.0000,  0.0000,  0.0000]],\n",
            "\n",
            "        [[ 0.0602, -0.1268, -0.6407,  ..., -0.0000, -0.8108, -0.1436],\n",
            "         [ 0.0000,  0.0000,  0.0000,  ...,  0.0000,  0.0000,  0.0000],\n",
            "         [ 0.0000,  0.0000,  0.0000,  ...,  0.0000,  0.0000,  0.0000]],\n",
            "\n",
            "        [[-0.5863, -1.1596,  0.2866,  ..., -0.9408, -0.0000, -0.1919],\n",
            "         [-0.0229, -0.6173,  0.2372,  ..., -0.0000, -1.4099, -0.0000],\n",
            "         [ 0.0000,  0.0000,  0.0000,  ...,  0.0000,  0.0000,  0.0000]]],\n",
            "       grad_fn=<MulBackward0>)\n",
            "\n",
            "The token representation is  tensor([[[ 0.1514,  0.2391, -0.0000,  ..., -0.0000, -0.2835, -0.0000]],\n",
            "\n",
            "        [[-0.4704, -0.0000,  0.0000,  ...,  0.0233, -0.1240,  0.0060]],\n",
            "\n",
            "        [[-0.6582,  0.0000,  0.3586,  ...,  0.1560, -0.0868, -0.0551]],\n",
            "\n",
            "        ...,\n",
            "\n",
            "        [[-0.0000,  0.2777, -0.0352,  ...,  0.0000,  0.0000, -0.0205]],\n",
            "\n",
            "        [[ 0.0000,  0.7132,  0.5658,  ...,  0.0000, -0.0000, -0.0064]],\n",
            "\n",
            "        [[-0.4762,  0.6977, -1.0539,  ...,  0.0000, -0.1164, -0.0000]]],\n",
            "       grad_fn=<MulBackward0>)\n"
          ]
        }
      ]
    },
    {
      "cell_type": "code",
      "execution_count": 64,
      "metadata": {
        "id": "wPaaOWrNS8m-",
        "colab": {
          "base_uri": "https://localhost:8080/",
          "height": 419,
          "referenced_widgets": [
            "4d86f647cd244a26a191d62e35428148",
            "26b09178174c45f6a32b01bf60bb5d95",
            "5bbe6a7518c24fe4bef8d2c581841e29",
            "0faf268f29d34f4886fddb44dc04b8d9",
            "43261eacf828465baa273e2c08c5d870",
            "f07d0bbd799f4e6fbdbb9c6bbd8e4bbd",
            "8ab80ce8b3024c4282548b30eaef166b",
            "03de4c2f31034ad4b988e9067d2ed631",
            "10f93eb6b87645f882f2c51962b9571a",
            "0b04dced07c34d7eae020f2df8187c27",
            "b08ee9adfd6442e28e4c392a3ad67973",
            "1f595faa16ae4576bbd6d6e669e13434",
            "8365aaad8eec484a92f89f399c2aa729",
            "b79005704f924c0ab691120acb34336c",
            "11523c5b38c34c37a715a1672a913f26",
            "131977b4834a4c7aa445cc5a03dd2fd8",
            "9f51d06c01d14f53b798479922a2c02c",
            "fc784ace5e304087ba71eecfb730bd9a",
            "5d16910fd42f43b285ae9423982ece91",
            "7bbd71e1dac847738226ac56ea5cf72a",
            "81e3b5fdf7ad43068c24b4ba105d17c7",
            "9dc783b2346f4339a61f9bacb8d499f8",
            "0f3cab132deb40ae96cf32ec504f990a",
            "3c598f1231524be09831c589640babde",
            "10dfd6f5f96945fb89c6b3ba72c8c96c",
            "0bbf39e879d34a5fa2b23074bcf49805",
            "ba0b2d21bd53472e9c5311af89a93d94",
            "2af0ea3d7e924f60b0f8975ad7178df1",
            "e61f47422ffd4e2ab8b302e7922abc6a",
            "120f3a6b9fdc44f5a3ea8bb9a9d5767a",
            "d01d40f92d974aca876e5bf5cb93e1aa",
            "03d4e95c922b4bc7b34afa1183c88625",
            "4a3c913e90f14dc4a41f0740da18dd68"
          ]
        },
        "outputId": "f4e17a6c-b2b2-40b4-85f6-5297adf217cc"
      },
      "outputs": [
        {
          "output_type": "display_data",
          "data": {
            "text/plain": [
              "Downloading:   0%|          | 0.00/779k [00:00<?, ?B/s]"
            ],
            "application/vnd.jupyter.widget-view+json": {
              "version_major": 2,
              "version_minor": 0,
              "model_id": "4d86f647cd244a26a191d62e35428148"
            }
          },
          "metadata": {}
        },
        {
          "output_type": "display_data",
          "data": {
            "text/plain": [
              "Downloading:   0%|          | 0.00/760 [00:00<?, ?B/s]"
            ],
            "application/vnd.jupyter.widget-view+json": {
              "version_major": 2,
              "version_minor": 0,
              "model_id": "1f595faa16ae4576bbd6d6e669e13434"
            }
          },
          "metadata": {}
        },
        {
          "output_type": "display_data",
          "data": {
            "text/plain": [
              "Downloading:   0%|          | 0.00/445M [00:00<?, ?B/s]"
            ],
            "application/vnd.jupyter.widget-view+json": {
              "version_major": 2,
              "version_minor": 0,
              "model_id": "0f3cab132deb40ae96cf32ec504f990a"
            }
          },
          "metadata": {}
        },
        {
          "output_type": "stream",
          "name": "stderr",
          "text": [
            "Some weights of the model checkpoint at xlnet-base-cased were not used when initializing XLNetModel: ['lm_loss.weight', 'lm_loss.bias']\n",
            "- This IS expected if you are initializing XLNetModel from the checkpoint of a model trained on another task or with another architecture (e.g. initializing a BertForSequenceClassification model from a BertForPreTraining model).\n",
            "- This IS NOT expected if you are initializing XLNetModel from the checkpoint of a model that you expect to be exactly identical (initializing a BertForSequenceClassification model from a BertForSequenceClassification model).\n"
          ]
        },
        {
          "output_type": "stream",
          "name": "stdout",
          "text": [
            "The token representation in the sentence is  tensor([[[ 2.0336e+00, -2.2855e+00, -3.5177e+00,  ..., -1.4426e+00,\n",
            "           4.4805e-01,  1.7478e+00],\n",
            "         [ 1.7492e+00, -4.1622e+00, -1.9760e+00,  ..., -3.2956e+00,\n",
            "          -5.6335e-02,  1.0577e+00],\n",
            "         [ 2.0526e+00, -3.0355e+00, -9.3958e-01,  ..., -5.1129e+00,\n",
            "           1.8165e-01,  2.9342e+00],\n",
            "         ...,\n",
            "         [ 3.7707e-01, -3.5917e+00, -3.0442e+00,  ..., -6.4846e-01,\n",
            "          -3.7836e-01,  2.6249e+00],\n",
            "         [ 5.0123e+00,  3.0843e-03, -4.3199e+00,  ..., -2.1635e+00,\n",
            "           1.8763e-01,  9.7331e-01],\n",
            "         [ 4.6562e+00,  5.4449e-01, -4.1356e+00,  ..., -1.3859e+00,\n",
            "           6.2713e-02,  1.0305e+00]]], grad_fn=<PermuteBackward0>)\n"
          ]
        }
      ],
      "source": [
        "from numpy.core.fromnumeric import size\n",
        "from transformers import XLNetModel, XLNetTokenizer\n",
        "############ we use XLNet for word embedding ############\n",
        "tokenizer = XLNetTokenizer.from_pretrained('xlnet-base-cased')\n",
        "model = XLNetModel.from_pretrained('xlnet-base-cased')\n",
        "inputs = tokenizer(\"Hello, my dog is cute\", return_tensors=\"pt\")\n",
        "outputs = model(**inputs)\n",
        "print(\"The token representation in the sentence is \", outputs.last_hidden_state)"
      ]
    },
    {
      "cell_type": "code",
      "source": [
        "#8.6 obtain XLNet word embedding for the first two Twitter data and print them\n",
        "\n",
        "\n",
        "inputs = tokenizer(cleaned_tweets[0], return_tensors=\"pt\",padding=True,truncation=True)\n",
        "outputs = model(**inputs)\n",
        "print(\"The token representation in the sentence is \", outputs.last_hidden_state)\n",
        "\n",
        "inputs = tokenizer(cleaned_tweets[1], return_tensors=\"pt\",padding=True,truncation=True)\n",
        "outputs = model(**inputs)\n",
        "print(\"The token representation in the sentence is \", outputs.last_hidden_state)"
      ],
      "metadata": {
        "id": "dYRltehQ8tLb",
        "colab": {
          "base_uri": "https://localhost:8080/"
        },
        "outputId": "99409cae-0a5f-459e-c77e-53f90ffa00d7"
      },
      "execution_count": 67,
      "outputs": [
        {
          "output_type": "stream",
          "name": "stdout",
          "text": [
            "The token representation in the sentence is  tensor([[[ 5.2620, -1.8042, -3.7020,  ..., -2.2855,  0.8659,  2.2533],\n",
            "         [ 5.5903, -1.7784, -4.0208,  ..., -2.6463,  0.6157,  2.2548],\n",
            "         [ 4.5724, -1.5520, -3.8543,  ..., -2.7663,  0.5143,  2.2675],\n",
            "         [ 5.1282, -1.0699, -4.1390,  ..., -2.9645,  0.3071,  1.4127],\n",
            "         [ 4.8004, -1.0357, -4.1585,  ..., -2.7598,  0.3328,  1.4331]],\n",
            "\n",
            "        [[ 0.5919,  1.8768, -0.8192,  ..., -2.0105,  2.0635,  1.7239],\n",
            "         [ 1.0161,  2.4480, -1.3330,  ..., -1.8800,  2.5214,  1.5587],\n",
            "         [ 1.6063,  1.2728, -1.8653,  ..., -1.8814,  2.3869,  1.6844],\n",
            "         [ 1.9738,  1.3621, -1.9110,  ..., -1.4138,  1.8233,  0.7614],\n",
            "         [ 1.3659,  1.6105, -2.0000,  ..., -1.2013,  1.2910,  0.8610]],\n",
            "\n",
            "        [[ 5.5169, -2.6482, -4.1060,  ...,  1.0675,  2.2923,  2.2931],\n",
            "         [ 5.3913, -2.6159, -3.9393,  ...,  0.3277,  2.0713,  2.8296],\n",
            "         [ 3.8395, -1.4216, -2.9526,  ...,  0.5178,  3.3533,  1.6062],\n",
            "         [ 3.4189, -0.6521, -3.0587,  ...,  0.3321,  3.0984,  1.1455],\n",
            "         [ 3.1651, -0.4664, -3.2875,  ...,  0.1767,  2.9181,  1.1222]],\n",
            "\n",
            "        ...,\n",
            "\n",
            "        [[ 3.1773, -1.2285, -2.4851,  ..., -0.9098, -0.1288,  0.7475],\n",
            "         [ 3.4256, -1.4226, -2.8397,  ..., -1.3133,  0.0460,  0.7040],\n",
            "         [ 4.5307, -2.4766, -3.0166,  ..., -0.5033, -0.4638, -0.5953],\n",
            "         [ 4.2208, -1.4684, -2.6083,  ..., -0.1070, -0.2997, -0.7551],\n",
            "         [ 3.6368, -1.2189, -2.6147,  ..., -0.2098, -0.3898, -0.7866]],\n",
            "\n",
            "        [[ 3.3700, -0.4042, -3.0045,  ..., -0.9063, -0.4886,  0.8252],\n",
            "         [ 3.6222, -0.1902, -3.2867,  ..., -1.1956, -0.4808,  0.8672],\n",
            "         [ 3.6881, -0.0150, -2.8440,  ..., -0.8773, -0.1206,  0.0623],\n",
            "         [ 2.8090,  0.8362, -2.2558,  ..., -0.5961, -0.3053,  0.1792],\n",
            "         [ 2.5204,  0.7228, -2.2875,  ..., -0.8248, -0.1638,  0.3147]],\n",
            "\n",
            "        [[ 0.8504, -0.4538, -2.8422,  ..., -0.5254,  0.6233,  0.8470],\n",
            "         [ 1.3716, -0.8152, -2.7775,  ..., -1.3083,  1.1389,  0.0663],\n",
            "         [ 1.5504, -0.3700, -3.2573,  ..., -1.2186,  2.0002,  0.8237],\n",
            "         [ 0.4739, -0.0873, -3.2088,  ..., -1.9830,  0.0901,  1.7439],\n",
            "         [ 0.0374,  0.3868, -3.1013,  ..., -1.8405, -0.1598,  1.7719]]],\n",
            "       grad_fn=<CloneBackward0>)\n",
            "The token representation in the sentence is  tensor([[[ 1.5599, -0.7394, -2.5800,  ...,  0.5155,  0.9543, -0.0087],\n",
            "         [ 2.5812, -0.9027, -2.8006,  ..., -0.0302,  0.7419, -0.0330],\n",
            "         [ 3.0491, -1.0166, -2.9627,  ..., -1.2337,  0.5239,  0.7789],\n",
            "         [ 3.6084, -1.5147, -3.3892,  ..., -1.3576,  0.5029,  0.5008],\n",
            "         [ 4.2867,  0.0747, -3.6358,  ..., -1.8530, -0.0763,  0.6542],\n",
            "         [ 3.8870, -0.2032, -3.6783,  ..., -1.8072, -0.2614,  0.6045]],\n",
            "\n",
            "        [[ 1.2837,  2.8728, -4.1516,  ..., -2.1015,  0.0966, -0.7245],\n",
            "         [ 0.9555,  2.4283, -4.0637,  ..., -2.2217,  0.6316, -0.2048],\n",
            "         [ 1.0289,  1.4389, -2.5538,  ..., -1.7102,  1.2937,  0.2648],\n",
            "         [ 1.9586,  1.6081, -3.3310,  ..., -2.1145,  0.7132, -0.1678],\n",
            "         [ 2.7621,  1.6320, -3.4549,  ..., -2.4444,  0.5832, -0.8102],\n",
            "         [ 2.4232,  1.4670, -3.5402,  ..., -1.9286,  0.0732, -0.8160]],\n",
            "\n",
            "        [[ 2.0660, -0.7193, -0.0073,  ..., -0.3245,  0.8534,  0.5662],\n",
            "         [ 1.1870, -0.3079, -0.4485,  ..., -0.8331,  0.6999, -0.2983],\n",
            "         [ 1.2946,  0.2512, -0.7220,  ..., -0.9482,  0.7611, -0.1356],\n",
            "         [ 1.7190,  0.3024, -1.4724,  ..., -1.0485,  0.7821, -0.3056],\n",
            "         [ 5.2316,  0.5529, -4.1413,  ..., -1.8327,  0.2827,  0.4107],\n",
            "         [ 5.0730,  0.9343, -4.2838,  ..., -1.8428,  0.0070,  0.8717]],\n",
            "\n",
            "        ...,\n",
            "\n",
            "        [[ 1.9123, -1.3052, -1.5543,  ...,  0.5867,  0.3396, -1.3322],\n",
            "         [ 2.4277, -1.3478, -0.5126,  ..., -0.2172,  0.4627, -1.4452],\n",
            "         [ 2.7966, -1.9390, -1.4934,  ..., -0.3318, -0.0897, -1.3227],\n",
            "         [ 3.5261, -1.2154, -2.5286,  ...,  0.1132, -0.0576, -1.1569],\n",
            "         [ 5.0342,  1.0035, -3.4409,  ..., -0.4884, -0.1065, -1.0001],\n",
            "         [ 4.5213,  1.9565, -3.9830,  ..., -1.3851, -1.4490, -0.2446]],\n",
            "\n",
            "        [[-1.9286, -3.2489, -1.6128,  ..., -0.7170,  3.4094,  0.9200],\n",
            "         [-2.0362, -1.9131, -0.4537,  ..., -0.6487,  2.9050, -0.2764],\n",
            "         [-0.2934, -3.7426,  0.8078,  ..., -1.4335,  2.3692, -0.1179],\n",
            "         [ 1.5882, -3.9823, -2.1119,  ..., -0.6747,  1.9023, -0.1537],\n",
            "         [ 3.5118, -1.3007, -3.9256,  ..., -1.1955,  1.1929,  0.0645],\n",
            "         [ 3.2597, -0.1393, -4.2168,  ..., -2.2488,  0.1086,  0.4975]],\n",
            "\n",
            "        [[ 0.3324, -0.0843, -0.9452,  ..., -1.6187,  1.5418,  0.5059],\n",
            "         [ 1.1091, -2.4148, -1.2965,  ..., -2.5330, -0.0695,  0.8906],\n",
            "         [ 1.8184, -2.8316, -0.4691,  ..., -3.1850, -0.2408, -0.0518],\n",
            "         [ 2.4878, -1.3638, -2.1137,  ..., -2.3367, -0.7137,  0.3376],\n",
            "         [ 3.6212,  0.5560, -3.3981,  ..., -3.0594, -1.1103,  0.6470],\n",
            "         [ 3.1417,  1.1461, -3.3929,  ..., -3.2554, -1.7047,  0.5728]]],\n",
            "       grad_fn=<CloneBackward0>)\n"
          ]
        }
      ]
    },
    {
      "cell_type": "markdown",
      "metadata": {
        "id": "5VpTf6OuGYvo"
      },
      "source": [
        "# Word Embedding in spaCy and Cosine Similarity\n",
        "\n",
        "SpaCy language models come in two sizes: small and large. The small models do not contain word vectors - a space saving strategy. So if we want to use word vectors, we need to load the large version of a language model as shown in the next cell. You can see the different available models (and their sizes) here. Note that because of the size of the file, the next code cell may take about three minutes to complete.\n",
        "\n",
        "Word vectors have the interesting property that semantically similar words appear close to each other in multidimensional space. Given any two word vectors, we can calculate the similarity (or distance) between them."
      ]
    },
    {
      "cell_type": "code",
      "execution_count": 68,
      "metadata": {
        "id": "ctXBfNm3Lxww",
        "colab": {
          "base_uri": "https://localhost:8080/"
        },
        "outputId": "cd2b0a8f-9076-4721-ee61-f3ae0ecc0a4a"
      },
      "outputs": [
        {
          "output_type": "stream",
          "name": "stdout",
          "text": [
            "\u001b[38;5;2m✔ Download and installation successful\u001b[0m\n",
            "You can now load the package via spacy.load('en_core_web_lg')\n"
          ]
        },
        {
          "output_type": "execute_result",
          "data": {
            "text/plain": [
              "spacy.lang.en.English"
            ]
          },
          "metadata": {},
          "execution_count": 68
        }
      ],
      "source": [
        "import spacy.cli # Use the command line interface\n",
        "spacy.cli.download(\"en_core_web_lg\") # This imports the large model onto your virtual machines\n",
        "import en_core_web_lg # Now that it is downloaded, we can import it\n",
        "nlp_lg = en_core_web_lg.load() # Create an instance for further use\n",
        "type(nlp_lg)"
      ]
    },
    {
      "cell_type": "code",
      "execution_count": 69,
      "metadata": {
        "id": "qQbg7X-DL14u",
        "colab": {
          "base_uri": "https://localhost:8080/"
        },
        "outputId": "38bfd5ca-69d0-42c0-ca84-d9fbb623e331"
      },
      "outputs": [
        {
          "output_type": "stream",
          "name": "stdout",
          "text": [
            "[-3.6391e-01  4.3771e-01 -2.0447e-01 -2.2889e-01 -1.4227e-01  2.7396e-01\n",
            " -1.1435e-02 -1.8578e-01  3.7361e-01  7.5339e-01 -3.0591e-01  2.3741e-02\n",
            " -7.7876e-01 -1.3802e-01  6.6992e-02 -6.4303e-02 -4.0024e-01  1.5309e+00\n",
            " -1.3897e-02 -1.5657e-01  2.5366e-01  2.1610e-01 -3.2720e-01  3.4974e-01\n",
            " -6.4845e-02 -2.9501e-01 -6.3923e-01 -6.2017e-02  2.4559e-01 -6.9334e-02\n",
            " -3.9967e-01  3.0925e-02  4.9033e-01  6.7524e-01  1.9481e-01  5.1488e-01\n",
            " -3.1149e-01 -7.9939e-02 -6.2096e-01 -5.3277e-03 -1.1264e-01  8.3528e-02\n",
            " -7.6947e-03 -1.0788e-01  1.6628e-01  4.2273e-01 -1.9009e-01 -2.9035e-01\n",
            "  4.5630e-02  1.0120e-01 -4.0855e-01 -3.5000e-01 -3.6175e-01 -4.1396e-01\n",
            "  5.9485e-01 -1.1524e+00  3.2424e-02  3.4364e-01 -1.9209e-01  4.3255e-02\n",
            "  4.9227e-02 -5.4258e-01  9.1275e-01  2.9576e-01  2.3658e-02 -6.8737e-01\n",
            " -1.9503e-01 -1.1059e-01 -2.2567e-01  2.4180e-01 -3.1230e-01  4.2700e-01\n",
            "  8.3952e-02  2.2703e-01  3.0581e-01 -1.7276e-01  3.2536e-01  5.4696e-03\n",
            " -3.2745e-01  1.9439e-01  2.2616e-01  7.4742e-02  2.2033e-01 -4.0301e-01\n",
            " -3.1594e-01 -2.8910e-02  9.7858e-01  7.1860e-01  1.4995e-01  6.3421e-02\n",
            "  2.8332e-01 -1.5231e-01  3.9330e-04  1.8076e-01 -4.0199e-01  6.0187e-02\n",
            " -2.7543e-02  1.6590e-01 -2.5774e-01  1.6150e-01  3.7247e-01 -3.8273e-01\n",
            "  2.4012e-01 -4.2617e-02 -6.6785e-01 -9.4437e-01  2.7916e-01  1.0476e-01\n",
            "  1.3952e+00 -1.4296e-01 -5.5049e-01  5.3982e-02 -7.7524e-01 -2.8255e-01\n",
            " -2.3323e-02  2.4801e-01  2.2855e-01 -3.7408e-01  7.6012e-02  2.4031e-01\n",
            "  1.0746e-01  1.2411e-01 -2.0676e-01 -2.5804e-01 -1.6791e-01  4.3499e-01\n",
            "  6.1762e-01 -2.9955e-02  1.6196e-01 -2.9001e-01 -3.1159e-01 -8.7262e-01\n",
            "  4.3167e-01 -1.5071e-01 -4.1420e-01 -5.3730e-01 -1.9910e-01  1.3270e-01\n",
            " -1.5018e-01 -4.9335e-01 -2.5127e+00  3.1660e-01  3.6396e-01 -5.9248e-02\n",
            "  3.1120e-02  4.1071e-02  1.6917e-02  5.8410e-01 -2.0201e-01  7.0238e-02\n",
            "  8.7547e-01 -2.0114e-01  5.1920e-01  2.6786e-01 -5.5643e-01 -3.1247e-01\n",
            " -3.7992e-01  4.2857e-01  4.1780e-01  3.0608e-01 -2.1657e-01  7.2464e-01\n",
            "  6.1734e-01  5.8085e-02 -6.2708e-01  5.2895e-02 -2.5628e-01 -3.2688e-01\n",
            " -6.1280e-01  6.2609e-01 -1.7965e-01  8.8925e-01  2.1963e-01 -3.4052e-03\n",
            " -7.8663e-02  3.4799e-01 -2.6062e-01  8.0410e-03  1.1721e-01 -4.5147e-01\n",
            " -1.2178e-01 -5.7030e-01  4.6602e-01  2.5059e-02  5.3986e-02 -7.6693e-01\n",
            "  1.3173e-01 -2.8776e-02 -4.1915e-01 -2.4415e-01 -4.0295e-01 -4.1520e-01\n",
            "  3.7643e-02 -1.4843e-01  2.6094e-02  1.5315e-01  3.8310e-01 -5.5825e-01\n",
            " -3.3433e-01 -2.7939e-02 -4.3712e-01 -3.1802e-01 -3.1731e-01  9.2891e-02\n",
            " -9.9397e-02 -1.8846e-01  5.2270e-02  2.9061e-01  1.0639e+00  9.9584e-02\n",
            " -5.6775e-01  2.9446e-01  3.7797e-01 -2.1905e-01 -5.2616e-01 -4.1744e-01\n",
            " -6.5951e-01 -4.0820e-01 -6.0945e-01  1.1759e-02 -2.9122e-01 -3.1457e-01\n",
            "  5.7076e-02  4.1503e-01  3.7345e-01 -4.7119e-02 -7.1996e-02  1.4587e-01\n",
            " -3.0763e-01  1.0759e-01 -5.9447e-01 -4.0205e-01  3.0677e-01 -1.9891e-01\n",
            " -7.0775e-01 -1.1513e-01  3.0866e-01 -6.9235e-01  2.1219e-01  1.0554e-01\n",
            "  2.2617e-01 -2.6145e-01 -3.9298e-01 -2.3585e-01  3.0795e-02 -1.0193e-01\n",
            "  3.2070e-01  3.0505e-01 -5.3470e-01 -7.9272e-02 -1.6817e-01 -2.2115e-01\n",
            " -3.5143e-01 -9.2376e-02  1.4686e-01 -1.9859e-01  2.0460e-01  2.0276e-01\n",
            "  3.6144e-01 -3.5867e-01  4.0095e-01  6.3686e-02 -1.2763e-01 -1.6226e-01\n",
            " -3.1763e-01 -5.8732e-01 -5.4009e-01 -4.9035e-01 -4.6035e-01 -1.9794e-01\n",
            " -2.5209e-01  2.5706e-01  4.0110e-01  5.2830e-02 -3.2079e-01  3.9563e-01\n",
            " -4.4512e-01 -9.1862e-02 -1.9243e-01  1.5397e-01 -2.8923e-01  6.0561e-01\n",
            "  5.8133e-01  3.2268e-01  6.3892e-02  8.5438e-02  1.4956e-01  3.8134e-01\n",
            " -1.1820e-01 -2.3951e-01 -6.7731e-01  2.8090e-01 -5.1770e-01 -4.1098e-01\n",
            " -4.1292e-01 -6.7856e-02 -3.3721e-02 -7.2958e-01 -4.7891e-01  7.2956e-01]\n"
          ]
        }
      ],
      "source": [
        "# Let's get the vectors for three words to examine similarities\n",
        "apple = nlp_lg.vocab[\"apple\"]\n",
        "banana = nlp_lg.vocab[\"banana\"]\n",
        "car = nlp_lg.vocab[\"car\"]\n",
        "\n",
        "print(apple.vector) # Take a look at one of them"
      ]
    },
    {
      "cell_type": "code",
      "execution_count": 70,
      "metadata": {
        "id": "Sh-SntWtL6XI",
        "colab": {
          "base_uri": "https://localhost:8080/"
        },
        "outputId": "005e1fb4-a71a-4241-d339-2fa220bd4fa2"
      },
      "outputs": [
        {
          "output_type": "execute_result",
          "data": {
            "text/plain": [
              "(spacy.lexeme.Lexeme,\n",
              " ['is_alpha',\n",
              "  'is_ascii',\n",
              "  'is_bracket',\n",
              "  'is_currency',\n",
              "  'is_digit',\n",
              "  'is_left_punct',\n",
              "  'is_lower',\n",
              "  'is_oov',\n",
              "  'is_punct',\n",
              "  'is_quote',\n",
              "  'is_right_punct',\n",
              "  'is_space',\n",
              "  'is_stop',\n",
              "  'is_title',\n",
              "  'is_upper'])"
            ]
          },
          "metadata": {},
          "execution_count": 70
        }
      ],
      "source": [
        "# A spaCy lexeme, with a variety of attribute tests available\n",
        "type(apple), [m for m in dir(apple) if m[0:3] == \"is_\"]"
      ]
    },
    {
      "cell_type": "code",
      "execution_count": 71,
      "metadata": {
        "id": "2dzXXVQ8NJG_",
        "colab": {
          "base_uri": "https://localhost:8080/"
        },
        "outputId": "607a3569-74c8-417b-8df5-bd426ce91ea0"
      },
      "outputs": [
        {
          "output_type": "execute_result",
          "data": {
            "text/plain": [
              "True"
            ]
          },
          "metadata": {},
          "execution_count": 71
        }
      ],
      "source": [
        "# We can also confirm that a lexeme has a vector representation available\n",
        "banana.has_vector"
      ]
    },
    {
      "cell_type": "code",
      "execution_count": 73,
      "metadata": {
        "id": "Q2XElVttNLux",
        "colab": {
          "base_uri": "https://localhost:8080/"
        },
        "outputId": "1fb2fc79-b901-465c-c08d-67cfc89d1f85"
      },
      "outputs": [
        {
          "output_type": "execute_result",
          "data": {
            "text/plain": [
              "0.5831844806671143"
            ]
          },
          "metadata": {},
          "execution_count": 73
        }
      ],
      "source": [
        "# The .similarity() bound method allows us to generate a cosine similarity\n",
        "# score for two vectors.\n",
        "apple.similarity(banana)"
      ]
    },
    {
      "cell_type": "code",
      "execution_count": 74,
      "metadata": {
        "id": "muDSy_MtNNf7",
        "colab": {
          "base_uri": "https://localhost:8080/"
        },
        "outputId": "0f6ce1a9-5e3f-4ed4-882f-88cc3aff49f6"
      },
      "outputs": [
        {
          "output_type": "execute_result",
          "data": {
            "text/plain": [
              "0.5831844806671143"
            ]
          },
          "metadata": {},
          "execution_count": 74
        }
      ],
      "source": [
        "# The similarity is transitive, and by the calculation spaCy uses, seems\n",
        "# to result in values in the interval 0 to 1. Higher values indicate\n",
        "# closer similarity.\n",
        "banana.similarity(apple)"
      ]
    },
    {
      "cell_type": "code",
      "execution_count": 75,
      "metadata": {
        "id": "1n3Xk-wLNReG",
        "colab": {
          "base_uri": "https://localhost:8080/"
        },
        "outputId": "e35a2230-d6d9-4a9c-c1e6-42d1629afad3"
      },
      "outputs": [
        {
          "output_type": "execute_result",
          "data": {
            "text/plain": [
              "0.2174709141254425"
            ]
          },
          "metadata": {},
          "execution_count": 75
        }
      ],
      "source": [
        "apple.similarity(car)"
      ]
    },
    {
      "cell_type": "code",
      "execution_count": 76,
      "metadata": {
        "id": "Q-BKduisNTeM",
        "colab": {
          "base_uri": "https://localhost:8080/",
          "height": 448
        },
        "outputId": "4e6d34cb-6cde-4c5f-cbeb-8c48a2ac7c63"
      },
      "outputs": [
        {
          "output_type": "execute_result",
          "data": {
            "text/plain": [
              "<matplotlib.collections.PathCollection at 0x7c0ac27fa560>"
            ]
          },
          "metadata": {},
          "execution_count": 76
        },
        {
          "output_type": "display_data",
          "data": {
            "text/plain": [
              "<Figure size 640x480 with 1 Axes>"
            ],
            "image/png": "[encoded data removed]"
          },
          "metadata": {}
        }
      ],
      "source": [
        "# A scatterplot of two similar vectors should indicate linearity\n",
        "import matplotlib.pyplot as plt # Make a simple plot\n",
        "plt.scatter(apple.vector, banana.vector) # Show the result"
      ]
    },
    {
      "cell_type": "code",
      "execution_count": 77,
      "metadata": {
        "id": "WbGO650vNUnn",
        "colab": {
          "base_uri": "https://localhost:8080/",
          "height": 448
        },
        "outputId": "11cfbbb0-5ced-48b0-fd7c-cfbc5a43684f"
      },
      "outputs": [
        {
          "output_type": "execute_result",
          "data": {
            "text/plain": [
              "<matplotlib.collections.PathCollection at 0x7c0ac26d2230>"
            ]
          },
          "metadata": {},
          "execution_count": 77
        },
        {
          "output_type": "display_data",
          "data": {
            "text/plain": [
              "<Figure size 640x480 with 1 Axes>"
            ],
            "image/png": "[encoded data removed]"
          },
          "metadata": {}
        }
      ],
      "source": [
        "# A scatterplot of two different vectors should be a circular cloud\n",
        "plt.scatter(apple.vector, car.vector)"
      ]
    },
    {
      "cell_type": "code",
      "execution_count": 78,
      "metadata": {
        "id": "3JJ-GhOINYj7"
      },
      "outputs": [],
      "source": [
        "# There are many options for a cosine similarity calculation,\n",
        "# including this one from scipy that we are not using here.\n",
        "\n",
        "#from scipy.spatial.distance import cosine"
      ]
    },
    {
      "cell_type": "code",
      "execution_count": 79,
      "metadata": {
        "id": "sx95rXYONart"
      },
      "outputs": [],
      "source": [
        "# With some help from numpy, we can calculate our own cosine scores\n",
        "# using a vector dot product, computed with np.dot()\n",
        "import numpy as np\n",
        "def cosine(x,y):\n",
        "    return np.dot(x,y) / (np.sqrt(np.dot(x,x)) * np.sqrt(np.dot(y,y)))"
      ]
    },
    {
      "cell_type": "code",
      "execution_count": 80,
      "metadata": {
        "id": "TrDaNNA_Nc52",
        "colab": {
          "base_uri": "https://localhost:8080/"
        },
        "outputId": "d285b409-536b-43d8-bb9e-02e3c51cc6a1"
      },
      "outputs": [
        {
          "output_type": "execute_result",
          "data": {
            "text/plain": [
              "0.78808445"
            ]
          },
          "metadata": {},
          "execution_count": 80
        }
      ],
      "source": [
        "# One of the notable aspects of word vectors is the possibility of\n",
        "# doing simple math to create analogies.\n",
        "man = nlp_lg.vocab[\"man\"].vector\n",
        "woman = nlp_lg.vocab[\"woman\"].vector\n",
        "king = nlp_lg.vocab[\"king\"].vector\n",
        "queen = nlp_lg.vocab[\"queen\"].vector\n",
        "\n",
        "analogy = king - man + woman # Calculate the analogy with vector math\n",
        "cosine(analogy, queen)"
      ]
    },
    {
      "cell_type": "code",
      "execution_count": 81,
      "metadata": {
        "id": "Afb4xTAoNfI0",
        "colab": {
          "base_uri": "https://localhost:8080/"
        },
        "outputId": "63b1033c-1275-4b78-a34d-1ea727f9eed6"
      },
      "outputs": [
        {
          "output_type": "execute_result",
          "data": {
            "text/plain": [
              "0.13843127"
            ]
          },
          "metadata": {},
          "execution_count": 81
        }
      ],
      "source": [
        "# Let's compare the analogy to another vector\n",
        "cosine(analogy, car.vector) # Note how we needed to extract the vector for car"
      ]
    },
    {
      "cell_type": "code",
      "execution_count": 84,
      "metadata": {
        "id": "f_CG66rKNf43",
        "colab": {
          "base_uri": "https://localhost:8080/"
        },
        "outputId": "4c76fd9b-594b-4eac-b4e6-1222c7e086de"
      },
      "outputs": [
        {
          "output_type": "stream",
          "name": "stdout",
          "text": [
            "0.74984705\n",
            "0.17311805\n"
          ]
        }
      ],
      "source": [
        "# Now you compute an anology and see what kind of results you get\n",
        "\n",
        "# 8.7: Obtain the vectors for Paris, France, Berlin, and Germany\n",
        "\n",
        "Paris = nlp_lg.vocab[\"Paris\"].vector\n",
        "France = nlp_lg.vocab[\"France\"].vector\n",
        "Berlin = nlp_lg.vocab[\"Berlin\"].vector\n",
        "Germany = nlp_lg.vocab[\"Germany\"].vector\n",
        "\n",
        "# 8.8: Compute an analogy using three of these vectors\n",
        "analogy = Paris + France + Berlin\n",
        "\n",
        "# 8.9: Find the cosine similarity of the analogy with the fourth vector\n",
        "print(cosine(analogy, Germany))\n",
        "\n",
        "# 8.10: Find the cosine similarity of the analogy with banana\n",
        "print(cosine(analogy, banana.vector))\n"
      ]
    },
    {
      "cell_type": "markdown",
      "metadata": {
        "id": "9FIfZhz67GRd"
      },
      "source": [
        "**Sentence Similarity - spaCy**\n",
        "\n",
        "As you have seen above, word vectors for similar words have similar patterns and though we don't know what each position in a vector signifies, these patterns support simple vector math for analogical reasoning. This suggests the possibility - which research seems to back up - that averaging two or more vectors provides a semantic summary of the vectors. Document and span objects in spaCy have attached vectors that repesents the average of all of the component word vectors."
      ]
    },
    {
      "cell_type": "code",
      "execution_count": 85,
      "metadata": {
        "id": "bkBOuZDW7PQh",
        "colab": {
          "base_uri": "https://localhost:8080/"
        },
        "outputId": "8d9f4b88-15a1-4776-8753-c27729f90c53"
      },
      "outputs": [
        {
          "output_type": "execute_result",
          "data": {
            "text/plain": [
              "1.0"
            ]
          },
          "metadata": {},
          "execution_count": 85
        }
      ],
      "source": [
        "doc1 = nlp_lg(\"The quick brown fox jumps over the lazy dog.\")\n",
        "doc2 = nlp_lg(\"The lazy dog jumps over the quick brown fox.\")\n",
        "doc1.similarity(doc1)"
      ]
    },
    {
      "cell_type": "code",
      "execution_count": 86,
      "metadata": {
        "id": "zwUss6jN7Swa",
        "colab": {
          "base_uri": "https://localhost:8080/"
        },
        "outputId": "93653b76-adc1-4273-c334-5c6fe9e643fa"
      },
      "outputs": [
        {
          "output_type": "execute_result",
          "data": {
            "text/plain": [
              "(1.0, 1.0)"
            ]
          },
          "metadata": {},
          "execution_count": 86
        }
      ],
      "source": [
        "# We can also manually calculate the cosine similarity. It should be transitive\n",
        "# such that cosine(A,B) == cosine(B,A)\n",
        "doc1_vec = doc1.vector\n",
        "doc2_vec = doc2.vector\n",
        "cosine(doc2_vec, doc1_vec), cosine(doc1_vec, doc2_vec)"
      ]
    },
    {
      "cell_type": "code",
      "execution_count": 87,
      "metadata": {
        "id": "C4gsL-u87UW8",
        "colab": {
          "base_uri": "https://localhost:8080/"
        },
        "outputId": "5d4eef55-e738-4c15-deda-24a1dda1e9d4"
      },
      "outputs": [
        {
          "output_type": "execute_result",
          "data": {
            "text/plain": [
              "0.72331554"
            ]
          },
          "metadata": {},
          "execution_count": 87
        }
      ],
      "source": [
        "docdiff = nlp_lg(\"Four score and seven years ago, our fathers brought forth upon this continent a new nation.\")\n",
        "cosine(docdiff.vector, doc1_vec)"
      ]
    },
    {
      "cell_type": "code",
      "execution_count": 88,
      "metadata": {
        "id": "4n7HpgBA7ZzK",
        "colab": {
          "base_uri": "https://localhost:8080/"
        },
        "outputId": "533e96f6-df56-40ad-a849-f2e70a54c46c"
      },
      "outputs": [
        {
          "output_type": "execute_result",
          "data": {
            "text/plain": [
              "0.94878143"
            ]
          },
          "metadata": {},
          "execution_count": 88
        }
      ],
      "source": [
        "# The semantics can be quite muddled by the averaging process. These two\n",
        "# sentences express the opposite sentiment\n",
        "doc3 = nlp_lg(\"I like snow\")\n",
        "doc4 = nlp_lg(\"I hate snow\")\n",
        "cosine(doc3.vector, doc4.vector)"
      ]
    },
    {
      "cell_type": "code",
      "execution_count": 97,
      "metadata": {
        "id": "v0FccFGkAsXm",
        "colab": {
          "base_uri": "https://localhost:8080/"
        },
        "outputId": "c0203eae-e058-434e-8941-2748f20c162a"
      },
      "outputs": [
        {
          "output_type": "stream",
          "name": "stdout",
          "text": [
            "summar vect1:  -0.022122081\n",
            "summar vect1: -0.020601766\n"
          ]
        }
      ],
      "source": [
        "#\n",
        "# Exercise 8.11: Parse the following two sentences to remove stop words and\n",
        "# punctuation. Then create a summary word vector for each sentence by averaging\n",
        "# across the word vectors for each sentence. Use whichever of the word vector\n",
        "# databases from above according to your preference.\n",
        "#\n",
        "\n",
        "sentence1 = \"The lazy brown cow jumped over the moon.\"\n",
        "sentence2 = \"Brown shoes look black in the light of the moon.\"\n",
        "\n",
        "# import spacy\n",
        "\n",
        "# !python -m spacy downlaod en_core_web_sm\n",
        "# nlp = spacy.load('en_core_web_sm')\n",
        "\n",
        "def remove_stop_punct (sent):\n",
        "  doc = nlp_lg(sent)\n",
        "  tokens = [tokens for tokens in doc if not tokens.is_stop and not tokens.is_punct]\n",
        "  word_vectors = [tokens.vector for tokens in tokens]\n",
        "  return word_vectors\n",
        "\n",
        "word_vectors1 = remove_stop_punct (sentence1)\n",
        "word_vectors2 = remove_stop_punct (sentence2)\n",
        "\n",
        "print(\"summar vect1: \", np.mean(word_vectors1))\n",
        "print(\"summar vect1:\" , np.mean(word_vectors2))"
      ]
    },
    {
      "cell_type": "code",
      "execution_count": 98,
      "metadata": {
        "id": "_0zZ8gbYBv1r",
        "colab": {
          "base_uri": "https://localhost:8080/"
        },
        "outputId": "271cb14d-9e4b-49d5-8026-4add23128b72"
      },
      "outputs": [
        {
          "output_type": "execute_result",
          "data": {
            "text/plain": [
              "1.0"
            ]
          },
          "metadata": {},
          "execution_count": 98
        }
      ],
      "source": [
        "#\n",
        "# Exercise 8.12: Calculate the cosine similarity between the two sentence\n",
        "# summaries you computed in the previous step.\n",
        "#\n",
        "\n",
        "cosine(np.mean(word_vectors1),np.mean(word_vectors2))"
      ]
    }
  ],
  "metadata": {
    "colab": {
      "provenance": []
    },
    "kernelspec": {
      "display_name": "Python 3",
      "language": "python",
      "name": "python3"
    },
    "language_info": {
      "codemirror_mode": {
        "name": "ipython",
        "version": 3
      },
      "file_extension": ".py",
      "mimetype": "text/x-python",
      "name": "python",
      "nbconvert_exporter": "python",
      "pygments_lexer": "ipython3",
      "version": "3.7.9"
    },
    "widgets": {
      "application/vnd.jupyter.widget-state+json": {
        "6b70d1a0e1e64538b2b3fcb379f50686": {
          "model_module": "@jupyter-widgets/controls",
          "model_name": "HBoxModel",
          "model_module_version": "1.5.0",
          "state": {
            "_dom_classes": [],
            "_model_module": "@jupyter-widgets/controls",
            "_model_module_version": "1.5.0",
            "_model_name": "HBoxModel",
            "_view_count": null,
            "_view_module": "@jupyter-widgets/controls",
            "_view_module_version": "1.5.0",
            "_view_name": "HBoxView",
            "box_style": "",
            "children": [
              "IPY_MODEL_c3cbae2cb10d4832a62cecfc52991795",
              "IPY_MODEL_3d5744da998c45e7bdadb7da44e436cc",
              "IPY_MODEL_40e22124747e4655aeeeabc136f7a49a"
            ],
            "layout": "IPY_MODEL_ea926d797fb347789e84d5271274db87"
          }
        },
        "c3cbae2cb10d4832a62cecfc52991795": {
          "model_module": "@jupyter-widgets/controls",
          "model_name": "HTMLModel",
          "model_module_version": "1.5.0",
          "state": {
            "_dom_classes": [],
            "_model_module": "@jupyter-widgets/controls",
            "_model_module_version": "1.5.0",
            "_model_name": "HTMLModel",
            "_view_count": null,
            "_view_module": "@jupyter-widgets/controls",
            "_view_module_version": "1.5.0",
            "_view_name": "HTMLView",
            "description": "",
            "description_tooltip": null,
            "layout": "IPY_MODEL_38d128ffd9924349906b8eb3818c42ce",
            "placeholder": "​",
            "style": "IPY_MODEL_7c95f5d42613444fb0bd04a8cee5dfac",
            "value": "Downloading: 100%"
          }
        },
        "3d5744da998c45e7bdadb7da44e436cc": {
          "model_module": "@jupyter-widgets/controls",
          "model_name": "FloatProgressModel",
          "model_module_version": "1.5.0",
          "state": {
            "_dom_classes": [],
            "_model_module": "@jupyter-widgets/controls",
            "_model_module_version": "1.5.0",
            "_model_name": "FloatProgressModel",
            "_view_count": null,
            "_view_module": "@jupyter-widgets/controls",
            "_view_module_version": "1.5.0",
            "_view_name": "ProgressView",
            "bar_style": "success",
            "description": "",
            "description_tooltip": null,
            "layout": "IPY_MODEL_4f3429e744f54193898fc0376081b8b4",
            "max": 231508,
            "min": 0,
            "orientation": "horizontal",
            "style": "IPY_MODEL_3afbb04fb4764fe0969e74bc284b7319",
            "value": 231508
          }
        },
        "40e22124747e4655aeeeabc136f7a49a": {
          "model_module": "@jupyter-widgets/controls",
          "model_name": "HTMLModel",
          "model_module_version": "1.5.0",
          "state": {
            "_dom_classes": [],
            "_model_module": "@jupyter-widgets/controls",
            "_model_module_version": "1.5.0",
            "_model_name": "HTMLModel",
            "_view_count": null,
            "_view_module": "@jupyter-widgets/controls",
            "_view_module_version": "1.5.0",
            "_view_name": "HTMLView",
            "description": "",
            "description_tooltip": null,
            "layout": "IPY_MODEL_e8c3a5fb4c09451d96b4c363b20de5fc",
            "placeholder": "​",
            "style": "IPY_MODEL_3c489440db5c475f8c54bf010f16eea2",
            "value": " 226k/226k [00:00&lt;00:00, 3.46MB/s]"
          }
        },
        "ea926d797fb347789e84d5271274db87": {
          "model_module": "@jupyter-widgets/base",
          "model_name": "LayoutModel",
          "model_module_version": "1.2.0",
          "state": {
            "_model_module": "@jupyter-widgets/base",
            "_model_module_version": "1.2.0",
            "_model_name": "LayoutModel",
            "_view_count": null,
            "_view_module": "@jupyter-widgets/base",
            "_view_module_version": "1.2.0",
            "_view_name": "LayoutView",
            "align_content": null,
            "align_items": null,
            "align_self": null,
            "border": null,
            "bottom": null,
            "display": null,
            "flex": null,
            "flex_flow": null,
            "grid_area": null,
            "grid_auto_columns": null,
            "grid_auto_flow": null,
            "grid_auto_rows": null,
            "grid_column": null,
            "grid_gap": null,
            "grid_row": null,
            "grid_template_areas": null,
            "grid_template_columns": null,
            "grid_template_rows": null,
            "height": null,
            "justify_content": null,
            "justify_items": null,
            "left": null,
            "margin": null,
            "max_height": null,
            "max_width": null,
            "min_height": null,
            "min_width": null,
            "object_fit": null,
            "object_position": null,
            "order": null,
            "overflow": null,
            "overflow_x": null,
            "overflow_y": null,
            "padding": null,
            "right": null,
            "top": null,
            "visibility": null,
            "width": null
          }
        },
        "38d128ffd9924349906b8eb3818c42ce": {
          "model_module": "@jupyter-widgets/base",
          "model_name": "LayoutModel",
          "model_module_version": "1.2.0",
          "state": {
            "_model_module": "@jupyter-widgets/base",
            "_model_module_version": "1.2.0",
            "_model_name": "LayoutModel",
            "_view_count": null,
            "_view_module": "@jupyter-widgets/base",
            "_view_module_version": "1.2.0",
            "_view_name": "LayoutView",
            "align_content": null,
            "align_items": null,
            "align_self": null,
            "border": null,
            "bottom": null,
            "display": null,
            "flex": null,
            "flex_flow": null,
            "grid_area": null,
            "grid_auto_columns": null,
            "grid_auto_flow": null,
            "grid_auto_rows": null,
            "grid_column": null,
            "grid_gap": null,
            "grid_row": null,
            "grid_template_areas": null,
            "grid_template_columns": null,
            "grid_template_rows": null,
            "height": null,
            "justify_content": null,
            "justify_items": null,
            "left": null,
            "margin": null,
            "max_height": null,
            "max_width": null,
            "min_height": null,
            "min_width": null,
            "object_fit": null,
            "object_position": null,
            "order": null,
            "overflow": null,
            "overflow_x": null,
            "overflow_y": null,
            "padding": null,
            "right": null,
            "top": null,
            "visibility": null,
            "width": null
          }
        },
        "7c95f5d42613444fb0bd04a8cee5dfac": {
          "model_module": "@jupyter-widgets/controls",
          "model_name": "DescriptionStyleModel",
          "model_module_version": "1.5.0",
          "state": {
            "_model_module": "@jupyter-widgets/controls",
            "_model_module_version": "1.5.0",
            "_model_name": "DescriptionStyleModel",
            "_view_count": null,
            "_view_module": "@jupyter-widgets/base",
            "_view_module_version": "1.2.0",
            "_view_name": "StyleView",
            "description_width": ""
          }
        },
        "4f3429e744f54193898fc0376081b8b4": {
          "model_module": "@jupyter-widgets/base",
          "model_name": "LayoutModel",
          "model_module_version": "1.2.0",
          "state": {
            "_model_module": "@jupyter-widgets/base",
            "_model_module_version": "1.2.0",
            "_model_name": "LayoutModel",
            "_view_count": null,
            "_view_module": "@jupyter-widgets/base",
            "_view_module_version": "1.2.0",
            "_view_name": "LayoutView",
            "align_content": null,
            "align_items": null,
            "align_self": null,
            "border": null,
            "bottom": null,
            "display": null,
            "flex": null,
            "flex_flow": null,
            "grid_area": null,
            "grid_auto_columns": null,
            "grid_auto_flow": null,
            "grid_auto_rows": null,
            "grid_column": null,
            "grid_gap": null,
            "grid_row": null,
            "grid_template_areas": null,
            "grid_template_columns": null,
            "grid_template_rows": null,
            "height": null,
            "justify_content": null,
            "justify_items": null,
            "left": null,
            "margin": null,
            "max_height": null,
            "max_width": null,
            "min_height": null,
            "min_width": null,
            "object_fit": null,
            "object_position": null,
            "order": null,
            "overflow": null,
            "overflow_x": null,
            "overflow_y": null,
            "padding": null,
            "right": null,
            "top": null,
            "visibility": null,
            "width": null
          }
        },
        "3afbb04fb4764fe0969e74bc284b7319": {
          "model_module": "@jupyter-widgets/controls",
          "model_name": "ProgressStyleModel",
          "model_module_version": "1.5.0",
          "state": {
            "_model_module": "@jupyter-widgets/controls",
            "_model_module_version": "1.5.0",
            "_model_name": "ProgressStyleModel",
            "_view_count": null,
            "_view_module": "@jupyter-widgets/base",
            "_view_module_version": "1.2.0",
            "_view_name": "StyleView",
            "bar_color": null,
            "description_width": ""
          }
        },
        "e8c3a5fb4c09451d96b4c363b20de5fc": {
          "model_module": "@jupyter-widgets/base",
          "model_name": "LayoutModel",
          "model_module_version": "1.2.0",
          "state": {
            "_model_module": "@jupyter-widgets/base",
            "_model_module_version": "1.2.0",
            "_model_name": "LayoutModel",
            "_view_count": null,
            "_view_module": "@jupyter-widgets/base",
            "_view_module_version": "1.2.0",
            "_view_name": "LayoutView",
            "align_content": null,
            "align_items": null,
            "align_self": null,
            "border": null,
            "bottom": null,
            "display": null,
            "flex": null,
            "flex_flow": null,
            "grid_area": null,
            "grid_auto_columns": null,
            "grid_auto_flow": null,
            "grid_auto_rows": null,
            "grid_column": null,
            "grid_gap": null,
            "grid_row": null,
            "grid_template_areas": null,
            "grid_template_columns": null,
            "grid_template_rows": null,
            "height": null,
            "justify_content": null,
            "justify_items": null,
            "left": null,
            "margin": null,
            "max_height": null,
            "max_width": null,
            "min_height": null,
            "min_width": null,
            "object_fit": null,
            "object_position": null,
            "order": null,
            "overflow": null,
            "overflow_x": null,
            "overflow_y": null,
            "padding": null,
            "right": null,
            "top": null,
            "visibility": null,
            "width": null
          }
        },
        "3c489440db5c475f8c54bf010f16eea2": {
          "model_module": "@jupyter-widgets/controls",
          "model_name": "DescriptionStyleModel",
          "model_module_version": "1.5.0",
          "state": {
            "_model_module": "@jupyter-widgets/controls",
            "_model_module_version": "1.5.0",
            "_model_name": "DescriptionStyleModel",
            "_view_count": null,
            "_view_module": "@jupyter-widgets/base",
            "_view_module_version": "1.2.0",
            "_view_name": "StyleView",
            "description_width": ""
          }
        },
        "332ce99cc73e4eb491dd6678264ae2b7": {
          "model_module": "@jupyter-widgets/controls",
          "model_name": "HBoxModel",
          "model_module_version": "1.5.0",
          "state": {
            "_dom_classes": [],
            "_model_module": "@jupyter-widgets/controls",
            "_model_module_version": "1.5.0",
            "_model_name": "HBoxModel",
            "_view_count": null,
            "_view_module": "@jupyter-widgets/controls",
            "_view_module_version": "1.5.0",
            "_view_name": "HBoxView",
            "box_style": "",
            "children": [
              "IPY_MODEL_a27e86324c824fdeb5bf1f877d9bbb6c",
              "IPY_MODEL_6afbc9ed092e4ec1be879c2aeea8229a",
              "IPY_MODEL_6a4f59bbe3e445fdb1e61b4a1601d35c"
            ],
            "layout": "IPY_MODEL_32faae095e2d4680a1e74d79585b25c3"
          }
        },
        "a27e86324c824fdeb5bf1f877d9bbb6c": {
          "model_module": "@jupyter-widgets/controls",
          "model_name": "HTMLModel",
          "model_module_version": "1.5.0",
          "state": {
            "_dom_classes": [],
            "_model_module": "@jupyter-widgets/controls",
            "_model_module_version": "1.5.0",
            "_model_name": "HTMLModel",
            "_view_count": null,
            "_view_module": "@jupyter-widgets/controls",
            "_view_module_version": "1.5.0",
            "_view_name": "HTMLView",
            "description": "",
            "description_tooltip": null,
            "layout": "IPY_MODEL_479f937108424a67afdf6e3673448453",
            "placeholder": "​",
            "style": "IPY_MODEL_6ff5fde84430405c8167337275727a47",
            "value": "Downloading: 100%"
          }
        },
        "6afbc9ed092e4ec1be879c2aeea8229a": {
          "model_module": "@jupyter-widgets/controls",
          "model_name": "FloatProgressModel",
          "model_module_version": "1.5.0",
          "state": {
            "_dom_classes": [],
            "_model_module": "@jupyter-widgets/controls",
            "_model_module_version": "1.5.0",
            "_model_name": "FloatProgressModel",
            "_view_count": null,
            "_view_module": "@jupyter-widgets/controls",
            "_view_module_version": "1.5.0",
            "_view_name": "ProgressView",
            "bar_style": "success",
            "description": "",
            "description_tooltip": null,
            "layout": "IPY_MODEL_c240cc245a7c4e11a7ec18e2e51d3b81",
            "max": 28,
            "min": 0,
            "orientation": "horizontal",
            "style": "IPY_MODEL_0a26e9367a5b4c338df0aac310d20335",
            "value": 28
          }
        },
        "6a4f59bbe3e445fdb1e61b4a1601d35c": {
          "model_module": "@jupyter-widgets/controls",
          "model_name": "HTMLModel",
          "model_module_version": "1.5.0",
          "state": {
            "_dom_classes": [],
            "_model_module": "@jupyter-widgets/controls",
            "_model_module_version": "1.5.0",
            "_model_name": "HTMLModel",
            "_view_count": null,
            "_view_module": "@jupyter-widgets/controls",
            "_view_module_version": "1.5.0",
            "_view_name": "HTMLView",
            "description": "",
            "description_tooltip": null,
            "layout": "IPY_MODEL_56106faf386f4845807f750dee43d8e1",
            "placeholder": "​",
            "style": "IPY_MODEL_3d676eafc289403ead15bc275a28325d",
            "value": " 28.0/28.0 [00:00&lt;00:00, 1.43kB/s]"
          }
        },
        "32faae095e2d4680a1e74d79585b25c3": {
          "model_module": "@jupyter-widgets/base",
          "model_name": "LayoutModel",
          "model_module_version": "1.2.0",
          "state": {
            "_model_module": "@jupyter-widgets/base",
            "_model_module_version": "1.2.0",
            "_model_name": "LayoutModel",
            "_view_count": null,
            "_view_module": "@jupyter-widgets/base",
            "_view_module_version": "1.2.0",
            "_view_name": "LayoutView",
            "align_content": null,
            "align_items": null,
            "align_self": null,
            "border": null,
            "bottom": null,
            "display": null,
            "flex": null,
            "flex_flow": null,
            "grid_area": null,
            "grid_auto_columns": null,
            "grid_auto_flow": null,
            "grid_auto_rows": null,
            "grid_column": null,
            "grid_gap": null,
            "grid_row": null,
            "grid_template_areas": null,
            "grid_template_columns": null,
            "grid_template_rows": null,
            "height": null,
            "justify_content": null,
            "justify_items": null,
            "left": null,
            "margin": null,
            "max_height": null,
            "max_width": null,
            "min_height": null,
            "min_width": null,
            "object_fit": null,
            "object_position": null,
            "order": null,
            "overflow": null,
            "overflow_x": null,
            "overflow_y": null,
            "padding": null,
            "right": null,
            "top": null,
            "visibility": null,
            "width": null
          }
        },
        "479f937108424a67afdf6e3673448453": {
          "model_module": "@jupyter-widgets/base",
          "model_name": "LayoutModel",
          "model_module_version": "1.2.0",
          "state": {
            "_model_module": "@jupyter-widgets/base",
            "_model_module_version": "1.2.0",
            "_model_name": "LayoutModel",
            "_view_count": null,
            "_view_module": "@jupyter-widgets/base",
            "_view_module_version": "1.2.0",
            "_view_name": "LayoutView",
            "align_content": null,
            "align_items": null,
            "align_self": null,
            "border": null,
            "bottom": null,
            "display": null,
            "flex": null,
            "flex_flow": null,
            "grid_area": null,
            "grid_auto_columns": null,
            "grid_auto_flow": null,
            "grid_auto_rows": null,
            "grid_column": null,
            "grid_gap": null,
            "grid_row": null,
            "grid_template_areas": null,
            "grid_template_columns": null,
            "grid_template_rows": null,
            "height": null,
            "justify_content": null,
            "justify_items": null,
            "left": null,
            "margin": null,
            "max_height": null,
            "max_width": null,
            "min_height": null,
            "min_width": null,
            "object_fit": null,
            "object_position": null,
            "order": null,
            "overflow": null,
            "overflow_x": null,
            "overflow_y": null,
            "padding": null,
            "right": null,
            "top": null,
            "visibility": null,
            "width": null
          }
        },
        "6ff5fde84430405c8167337275727a47": {
          "model_module": "@jupyter-widgets/controls",
          "model_name": "DescriptionStyleModel",
          "model_module_version": "1.5.0",
          "state": {
            "_model_module": "@jupyter-widgets/controls",
            "_model_module_version": "1.5.0",
            "_model_name": "DescriptionStyleModel",
            "_view_count": null,
            "_view_module": "@jupyter-widgets/base",
            "_view_module_version": "1.2.0",
            "_view_name": "StyleView",
            "description_width": ""
          }
        },
        "c240cc245a7c4e11a7ec18e2e51d3b81": {
          "model_module": "@jupyter-widgets/base",
          "model_name": "LayoutModel",
          "model_module_version": "1.2.0",
          "state": {
            "_model_module": "@jupyter-widgets/base",
            "_model_module_version": "1.2.0",
            "_model_name": "LayoutModel",
            "_view_count": null,
            "_view_module": "@jupyter-widgets/base",
            "_view_module_version": "1.2.0",
            "_view_name": "LayoutView",
            "align_content": null,
            "align_items": null,
            "align_self": null,
            "border": null,
            "bottom": null,
            "display": null,
            "flex": null,
            "flex_flow": null,
            "grid_area": null,
            "grid_auto_columns": null,
            "grid_auto_flow": null,
            "grid_auto_rows": null,
            "grid_column": null,
            "grid_gap": null,
            "grid_row": null,
            "grid_template_areas": null,
            "grid_template_columns": null,
            "grid_template_rows": null,
            "height": null,
            "justify_content": null,
            "justify_items": null,
            "left": null,
            "margin": null,
            "max_height": null,
            "max_width": null,
            "min_height": null,
            "min_width": null,
            "object_fit": null,
            "object_position": null,
            "order": null,
            "overflow": null,
            "overflow_x": null,
            "overflow_y": null,
            "padding": null,
            "right": null,
            "top": null,
            "visibility": null,
            "width": null
          }
        },
        "0a26e9367a5b4c338df0aac310d20335": {
          "model_module": "@jupyter-widgets/controls",
          "model_name": "ProgressStyleModel",
          "model_module_version": "1.5.0",
          "state": {
            "_model_module": "@jupyter-widgets/controls",
            "_model_module_version": "1.5.0",
            "_model_name": "ProgressStyleModel",
            "_view_count": null,
            "_view_module": "@jupyter-widgets/base",
            "_view_module_version": "1.2.0",
            "_view_name": "StyleView",
            "bar_color": null,
            "description_width": ""
          }
        },
        "56106faf386f4845807f750dee43d8e1": {
          "model_module": "@jupyter-widgets/base",
          "model_name": "LayoutModel",
          "model_module_version": "1.2.0",
          "state": {
            "_model_module": "@jupyter-widgets/base",
            "_model_module_version": "1.2.0",
            "_model_name": "LayoutModel",
            "_view_count": null,
            "_view_module": "@jupyter-widgets/base",
            "_view_module_version": "1.2.0",
            "_view_name": "LayoutView",
            "align_content": null,
            "align_items": null,
            "align_self": null,
            "border": null,
            "bottom": null,
            "display": null,
            "flex": null,
            "flex_flow": null,
            "grid_area": null,
            "grid_auto_columns": null,
            "grid_auto_flow": null,
            "grid_auto_rows": null,
            "grid_column": null,
            "grid_gap": null,
            "grid_row": null,
            "grid_template_areas": null,
            "grid_template_columns": null,
            "grid_template_rows": null,
            "height": null,
            "justify_content": null,
            "justify_items": null,
            "left": null,
            "margin": null,
            "max_height": null,
            "max_width": null,
            "min_height": null,
            "min_width": null,
            "object_fit": null,
            "object_position": null,
            "order": null,
            "overflow": null,
            "overflow_x": null,
            "overflow_y": null,
            "padding": null,
            "right": null,
            "top": null,
            "visibility": null,
            "width": null
          }
        },
        "3d676eafc289403ead15bc275a28325d": {
          "model_module": "@jupyter-widgets/controls",
          "model_name": "DescriptionStyleModel",
          "model_module_version": "1.5.0",
          "state": {
            "_model_module": "@jupyter-widgets/controls",
            "_model_module_version": "1.5.0",
            "_model_name": "DescriptionStyleModel",
            "_view_count": null,
            "_view_module": "@jupyter-widgets/base",
            "_view_module_version": "1.2.0",
            "_view_name": "StyleView",
            "description_width": ""
          }
        },
        "2cca00fcea084c35ab701fbfb4214873": {
          "model_module": "@jupyter-widgets/controls",
          "model_name": "HBoxModel",
          "model_module_version": "1.5.0",
          "state": {
            "_dom_classes": [],
            "_model_module": "@jupyter-widgets/controls",
            "_model_module_version": "1.5.0",
            "_model_name": "HBoxModel",
            "_view_count": null,
            "_view_module": "@jupyter-widgets/controls",
            "_view_module_version": "1.5.0",
            "_view_name": "HBoxView",
            "box_style": "",
            "children": [
              "IPY_MODEL_c1100d4742604f12a4990813538236e1",
              "IPY_MODEL_3a2f52f3203447739f1d0dd353d5cc6e",
              "IPY_MODEL_c10cd58cdfaa41aa9154570ae65e0606"
            ],
            "layout": "IPY_MODEL_339516707b4b41dbac8de3866b501bfd"
          }
        },
        "c1100d4742604f12a4990813538236e1": {
          "model_module": "@jupyter-widgets/controls",
          "model_name": "HTMLModel",
          "model_module_version": "1.5.0",
          "state": {
            "_dom_classes": [],
            "_model_module": "@jupyter-widgets/controls",
            "_model_module_version": "1.5.0",
            "_model_name": "HTMLModel",
            "_view_count": null,
            "_view_module": "@jupyter-widgets/controls",
            "_view_module_version": "1.5.0",
            "_view_name": "HTMLView",
            "description": "",
            "description_tooltip": null,
            "layout": "IPY_MODEL_bdaf4971a3704da887881a2108c34f34",
            "placeholder": "​",
            "style": "IPY_MODEL_762297441a4a40b288db1b9efb059ea7",
            "value": "Downloading: 100%"
          }
        },
        "3a2f52f3203447739f1d0dd353d5cc6e": {
          "model_module": "@jupyter-widgets/controls",
          "model_name": "FloatProgressModel",
          "model_module_version": "1.5.0",
          "state": {
            "_dom_classes": [],
            "_model_module": "@jupyter-widgets/controls",
            "_model_module_version": "1.5.0",
            "_model_name": "FloatProgressModel",
            "_view_count": null,
            "_view_module": "@jupyter-widgets/controls",
            "_view_module_version": "1.5.0",
            "_view_name": "ProgressView",
            "bar_style": "success",
            "description": "",
            "description_tooltip": null,
            "layout": "IPY_MODEL_7175a56950fe4300acc59012ed3c4c5b",
            "max": 570,
            "min": 0,
            "orientation": "horizontal",
            "style": "IPY_MODEL_9d3655557a874bcbb95b90f0b20aed5a",
            "value": 570
          }
        },
        "c10cd58cdfaa41aa9154570ae65e0606": {
          "model_module": "@jupyter-widgets/controls",
          "model_name": "HTMLModel",
          "model_module_version": "1.5.0",
          "state": {
            "_dom_classes": [],
            "_model_module": "@jupyter-widgets/controls",
            "_model_module_version": "1.5.0",
            "_model_name": "HTMLModel",
            "_view_count": null,
            "_view_module": "@jupyter-widgets/controls",
            "_view_module_version": "1.5.0",
            "_view_name": "HTMLView",
            "description": "",
            "description_tooltip": null,
            "layout": "IPY_MODEL_271d92120ca74c0e828569c6d743e6af",
            "placeholder": "​",
            "style": "IPY_MODEL_0fa2fbf8e94f4ac7b187f702e5c33975",
            "value": " 570/570 [00:00&lt;00:00, 23.8kB/s]"
          }
        },
        "339516707b4b41dbac8de3866b501bfd": {
          "model_module": "@jupyter-widgets/base",
          "model_name": "LayoutModel",
          "model_module_version": "1.2.0",
          "state": {
            "_model_module": "@jupyter-widgets/base",
            "_model_module_version": "1.2.0",
            "_model_name": "LayoutModel",
            "_view_count": null,
            "_view_module": "@jupyter-widgets/base",
            "_view_module_version": "1.2.0",
            "_view_name": "LayoutView",
            "align_content": null,
            "align_items": null,
            "align_self": null,
            "border": null,
            "bottom": null,
            "display": null,
            "flex": null,
            "flex_flow": null,
            "grid_area": null,
            "grid_auto_columns": null,
            "grid_auto_flow": null,
            "grid_auto_rows": null,
            "grid_column": null,
            "grid_gap": null,
            "grid_row": null,
            "grid_template_areas": null,
            "grid_template_columns": null,
            "grid_template_rows": null,
            "height": null,
            "justify_content": null,
            "justify_items": null,
            "left": null,
            "margin": null,
            "max_height": null,
            "max_width": null,
            "min_height": null,
            "min_width": null,
            "object_fit": null,
            "object_position": null,
            "order": null,
            "overflow": null,
            "overflow_x": null,
            "overflow_y": null,
            "padding": null,
            "right": null,
            "top": null,
            "visibility": null,
            "width": null
          }
        },
        "bdaf4971a3704da887881a2108c34f34": {
          "model_module": "@jupyter-widgets/base",
          "model_name": "LayoutModel",
          "model_module_version": "1.2.0",
          "state": {
            "_model_module": "@jupyter-widgets/base",
            "_model_module_version": "1.2.0",
            "_model_name": "LayoutModel",
            "_view_count": null,
            "_view_module": "@jupyter-widgets/base",
            "_view_module_version": "1.2.0",
            "_view_name": "LayoutView",
            "align_content": null,
            "align_items": null,
            "align_self": null,
            "border": null,
            "bottom": null,
            "display": null,
            "flex": null,
            "flex_flow": null,
            "grid_area": null,
            "grid_auto_columns": null,
            "grid_auto_flow": null,
            "grid_auto_rows": null,
            "grid_column": null,
            "grid_gap": null,
            "grid_row": null,
            "grid_template_areas": null,
            "grid_template_columns": null,
            "grid_template_rows": null,
            "height": null,
            "justify_content": null,
            "justify_items": null,
            "left": null,
            "margin": null,
            "max_height": null,
            "max_width": null,
            "min_height": null,
            "min_width": null,
            "object_fit": null,
            "object_position": null,
            "order": null,
            "overflow": null,
            "overflow_x": null,
            "overflow_y": null,
            "padding": null,
            "right": null,
            "top": null,
            "visibility": null,
            "width": null
          }
        },
        "762297441a4a40b288db1b9efb059ea7": {
          "model_module": "@jupyter-widgets/controls",
          "model_name": "DescriptionStyleModel",
          "model_module_version": "1.5.0",
          "state": {
            "_model_module": "@jupyter-widgets/controls",
            "_model_module_version": "1.5.0",
            "_model_name": "DescriptionStyleModel",
            "_view_count": null,
            "_view_module": "@jupyter-widgets/base",
            "_view_module_version": "1.2.0",
            "_view_name": "StyleView",
            "description_width": ""
          }
        },
        "7175a56950fe4300acc59012ed3c4c5b": {
          "model_module": "@jupyter-widgets/base",
          "model_name": "LayoutModel",
          "model_module_version": "1.2.0",
          "state": {
            "_model_module": "@jupyter-widgets/base",
            "_model_module_version": "1.2.0",
            "_model_name": "LayoutModel",
            "_view_count": null,
            "_view_module": "@jupyter-widgets/base",
            "_view_module_version": "1.2.0",
            "_view_name": "LayoutView",
            "align_content": null,
            "align_items": null,
            "align_self": null,
            "border": null,
            "bottom": null,
            "display": null,
            "flex": null,
            "flex_flow": null,
            "grid_area": null,
            "grid_auto_columns": null,
            "grid_auto_flow": null,
            "grid_auto_rows": null,
            "grid_column": null,
            "grid_gap": null,
            "grid_row": null,
            "grid_template_areas": null,
            "grid_template_columns": null,
            "grid_template_rows": null,
            "height": null,
            "justify_content": null,
            "justify_items": null,
            "left": null,
            "margin": null,
            "max_height": null,
            "max_width": null,
            "min_height": null,
            "min_width": null,
            "object_fit": null,
            "object_position": null,
            "order": null,
            "overflow": null,
            "overflow_x": null,
            "overflow_y": null,
            "padding": null,
            "right": null,
            "top": null,
            "visibility": null,
            "width": null
          }
        },
        "9d3655557a874bcbb95b90f0b20aed5a": {
          "model_module": "@jupyter-widgets/controls",
          "model_name": "ProgressStyleModel",
          "model_module_version": "1.5.0",
          "state": {
            "_model_module": "@jupyter-widgets/controls",
            "_model_module_version": "1.5.0",
            "_model_name": "ProgressStyleModel",
            "_view_count": null,
            "_view_module": "@jupyter-widgets/base",
            "_view_module_version": "1.2.0",
            "_view_name": "StyleView",
            "bar_color": null,
            "description_width": ""
          }
        },
        "271d92120ca74c0e828569c6d743e6af": {
          "model_module": "@jupyter-widgets/base",
          "model_name": "LayoutModel",
          "model_module_version": "1.2.0",
          "state": {
            "_model_module": "@jupyter-widgets/base",
            "_model_module_version": "1.2.0",
            "_model_name": "LayoutModel",
            "_view_count": null,
            "_view_module": "@jupyter-widgets/base",
            "_view_module_version": "1.2.0",
            "_view_name": "LayoutView",
            "align_content": null,
            "align_items": null,
            "align_self": null,
            "border": null,
            "bottom": null,
            "display": null,
            "flex": null,
            "flex_flow": null,
            "grid_area": null,
            "grid_auto_columns": null,
            "grid_auto_flow": null,
            "grid_auto_rows": null,
            "grid_column": null,
            "grid_gap": null,
            "grid_row": null,
            "grid_template_areas": null,
            "grid_template_columns": null,
            "grid_template_rows": null,
            "height": null,
            "justify_content": null,
            "justify_items": null,
            "left": null,
            "margin": null,
            "max_height": null,
            "max_width": null,
            "min_height": null,
            "min_width": null,
            "object_fit": null,
            "object_position": null,
            "order": null,
            "overflow": null,
            "overflow_x": null,
            "overflow_y": null,
            "padding": null,
            "right": null,
            "top": null,
            "visibility": null,
            "width": null
          }
        },
        "0fa2fbf8e94f4ac7b187f702e5c33975": {
          "model_module": "@jupyter-widgets/controls",
          "model_name": "DescriptionStyleModel",
          "model_module_version": "1.5.0",
          "state": {
            "_model_module": "@jupyter-widgets/controls",
            "_model_module_version": "1.5.0",
            "_model_name": "DescriptionStyleModel",
            "_view_count": null,
            "_view_module": "@jupyter-widgets/base",
            "_view_module_version": "1.2.0",
            "_view_name": "StyleView",
            "description_width": ""
          }
        },
        "29a93d05c67e470d877411b899c1defa": {
          "model_module": "@jupyter-widgets/controls",
          "model_name": "HBoxModel",
          "model_module_version": "1.5.0",
          "state": {
            "_dom_classes": [],
            "_model_module": "@jupyter-widgets/controls",
            "_model_module_version": "1.5.0",
            "_model_name": "HBoxModel",
            "_view_count": null,
            "_view_module": "@jupyter-widgets/controls",
            "_view_module_version": "1.5.0",
            "_view_name": "HBoxView",
            "box_style": "",
            "children": [
              "IPY_MODEL_5f37f0092de54af4810cd7595609845c",
              "IPY_MODEL_1d76db54e81c45cc9d6efee3a1e396f2",
              "IPY_MODEL_9b02afa515204b759ae7cfa67f8f5a3f"
            ],
            "layout": "IPY_MODEL_af9c7623a0224ca9a8d909cbce245407"
          }
        },
        "5f37f0092de54af4810cd7595609845c": {
          "model_module": "@jupyter-widgets/controls",
          "model_name": "HTMLModel",
          "model_module_version": "1.5.0",
          "state": {
            "_dom_classes": [],
            "_model_module": "@jupyter-widgets/controls",
            "_model_module_version": "1.5.0",
            "_model_name": "HTMLModel",
            "_view_count": null,
            "_view_module": "@jupyter-widgets/controls",
            "_view_module_version": "1.5.0",
            "_view_name": "HTMLView",
            "description": "",
            "description_tooltip": null,
            "layout": "IPY_MODEL_80dcbb449801489096e6e846ed0a7a73",
            "placeholder": "​",
            "style": "IPY_MODEL_17176993add2458c857d0ab3eb825c6c",
            "value": "Downloading: 100%"
          }
        },
        "1d76db54e81c45cc9d6efee3a1e396f2": {
          "model_module": "@jupyter-widgets/controls",
          "model_name": "FloatProgressModel",
          "model_module_version": "1.5.0",
          "state": {
            "_dom_classes": [],
            "_model_module": "@jupyter-widgets/controls",
            "_model_module_version": "1.5.0",
            "_model_name": "FloatProgressModel",
            "_view_count": null,
            "_view_module": "@jupyter-widgets/controls",
            "_view_module_version": "1.5.0",
            "_view_name": "ProgressView",
            "bar_style": "success",
            "description": "",
            "description_tooltip": null,
            "layout": "IPY_MODEL_255598938c3b44bc9e12b01e5d9ddcb4",
            "max": 440473133,
            "min": 0,
            "orientation": "horizontal",
            "style": "IPY_MODEL_272d6b555b9e4ad58979f8a668e71c9e",
            "value": 440473133
          }
        },
        "9b02afa515204b759ae7cfa67f8f5a3f": {
          "model_module": "@jupyter-widgets/controls",
          "model_name": "HTMLModel",
          "model_module_version": "1.5.0",
          "state": {
            "_dom_classes": [],
            "_model_module": "@jupyter-widgets/controls",
            "_model_module_version": "1.5.0",
            "_model_name": "HTMLModel",
            "_view_count": null,
            "_view_module": "@jupyter-widgets/controls",
            "_view_module_version": "1.5.0",
            "_view_name": "HTMLView",
            "description": "",
            "description_tooltip": null,
            "layout": "IPY_MODEL_6ec59b42ce5740fda88b4af0be925f36",
            "placeholder": "​",
            "style": "IPY_MODEL_dc37bf12c55541a6b3d0e1fecc47b613",
            "value": " 420M/420M [00:07&lt;00:00, 60.7MB/s]"
          }
        },
        "af9c7623a0224ca9a8d909cbce245407": {
          "model_module": "@jupyter-widgets/base",
          "model_name": "LayoutModel",
          "model_module_version": "1.2.0",
          "state": {
            "_model_module": "@jupyter-widgets/base",
            "_model_module_version": "1.2.0",
            "_model_name": "LayoutModel",
            "_view_count": null,
            "_view_module": "@jupyter-widgets/base",
            "_view_module_version": "1.2.0",
            "_view_name": "LayoutView",
            "align_content": null,
            "align_items": null,
            "align_self": null,
            "border": null,
            "bottom": null,
            "display": null,
            "flex": null,
            "flex_flow": null,
            "grid_area": null,
            "grid_auto_columns": null,
            "grid_auto_flow": null,
            "grid_auto_rows": null,
            "grid_column": null,
            "grid_gap": null,
            "grid_row": null,
            "grid_template_areas": null,
            "grid_template_columns": null,
            "grid_template_rows": null,
            "height": null,
            "justify_content": null,
            "justify_items": null,
            "left": null,
            "margin": null,
            "max_height": null,
            "max_width": null,
            "min_height": null,
            "min_width": null,
            "object_fit": null,
            "object_position": null,
            "order": null,
            "overflow": null,
            "overflow_x": null,
            "overflow_y": null,
            "padding": null,
            "right": null,
            "top": null,
            "visibility": null,
            "width": null
          }
        },
        "80dcbb449801489096e6e846ed0a7a73": {
          "model_module": "@jupyter-widgets/base",
          "model_name": "LayoutModel",
          "model_module_version": "1.2.0",
          "state": {
            "_model_module": "@jupyter-widgets/base",
            "_model_module_version": "1.2.0",
            "_model_name": "LayoutModel",
            "_view_count": null,
            "_view_module": "@jupyter-widgets/base",
            "_view_module_version": "1.2.0",
            "_view_name": "LayoutView",
            "align_content": null,
            "align_items": null,
            "align_self": null,
            "border": null,
            "bottom": null,
            "display": null,
            "flex": null,
            "flex_flow": null,
            "grid_area": null,
            "grid_auto_columns": null,
            "grid_auto_flow": null,
            "grid_auto_rows": null,
            "grid_column": null,
            "grid_gap": null,
            "grid_row": null,
            "grid_template_areas": null,
            "grid_template_columns": null,
            "grid_template_rows": null,
            "height": null,
            "justify_content": null,
            "justify_items": null,
            "left": null,
            "margin": null,
            "max_height": null,
            "max_width": null,
            "min_height": null,
            "min_width": null,
            "object_fit": null,
            "object_position": null,
            "order": null,
            "overflow": null,
            "overflow_x": null,
            "overflow_y": null,
            "padding": null,
            "right": null,
            "top": null,
            "visibility": null,
            "width": null
          }
        },
        "17176993add2458c857d0ab3eb825c6c": {
          "model_module": "@jupyter-widgets/controls",
          "model_name": "DescriptionStyleModel",
          "model_module_version": "1.5.0",
          "state": {
            "_model_module": "@jupyter-widgets/controls",
            "_model_module_version": "1.5.0",
            "_model_name": "DescriptionStyleModel",
            "_view_count": null,
            "_view_module": "@jupyter-widgets/base",
            "_view_module_version": "1.2.0",
            "_view_name": "StyleView",
            "description_width": ""
          }
        },
        "255598938c3b44bc9e12b01e5d9ddcb4": {
          "model_module": "@jupyter-widgets/base",
          "model_name": "LayoutModel",
          "model_module_version": "1.2.0",
          "state": {
            "_model_module": "@jupyter-widgets/base",
            "_model_module_version": "1.2.0",
            "_model_name": "LayoutModel",
            "_view_count": null,
            "_view_module": "@jupyter-widgets/base",
            "_view_module_version": "1.2.0",
            "_view_name": "LayoutView",
            "align_content": null,
            "align_items": null,
            "align_self": null,
            "border": null,
            "bottom": null,
            "display": null,
            "flex": null,
            "flex_flow": null,
            "grid_area": null,
            "grid_auto_columns": null,
            "grid_auto_flow": null,
            "grid_auto_rows": null,
            "grid_column": null,
            "grid_gap": null,
            "grid_row": null,
            "grid_template_areas": null,
            "grid_template_columns": null,
            "grid_template_rows": null,
            "height": null,
            "justify_content": null,
            "justify_items": null,
            "left": null,
            "margin": null,
            "max_height": null,
            "max_width": null,
            "min_height": null,
            "min_width": null,
            "object_fit": null,
            "object_position": null,
            "order": null,
            "overflow": null,
            "overflow_x": null,
            "overflow_y": null,
            "padding": null,
            "right": null,
            "top": null,
            "visibility": null,
            "width": null
          }
        },
        "272d6b555b9e4ad58979f8a668e71c9e": {
          "model_module": "@jupyter-widgets/controls",
          "model_name": "ProgressStyleModel",
          "model_module_version": "1.5.0",
          "state": {
            "_model_module": "@jupyter-widgets/controls",
            "_model_module_version": "1.5.0",
            "_model_name": "ProgressStyleModel",
            "_view_count": null,
            "_view_module": "@jupyter-widgets/base",
            "_view_module_version": "1.2.0",
            "_view_name": "StyleView",
            "bar_color": null,
            "description_width": ""
          }
        },
        "6ec59b42ce5740fda88b4af0be925f36": {
          "model_module": "@jupyter-widgets/base",
          "model_name": "LayoutModel",
          "model_module_version": "1.2.0",
          "state": {
            "_model_module": "@jupyter-widgets/base",
            "_model_module_version": "1.2.0",
            "_model_name": "LayoutModel",
            "_view_count": null,
            "_view_module": "@jupyter-widgets/base",
            "_view_module_version": "1.2.0",
            "_view_name": "LayoutView",
            "align_content": null,
            "align_items": null,
            "align_self": null,
            "border": null,
            "bottom": null,
            "display": null,
            "flex": null,
            "flex_flow": null,
            "grid_area": null,
            "grid_auto_columns": null,
            "grid_auto_flow": null,
            "grid_auto_rows": null,
            "grid_column": null,
            "grid_gap": null,
            "grid_row": null,
            "grid_template_areas": null,
            "grid_template_columns": null,
            "grid_template_rows": null,
            "height": null,
            "justify_content": null,
            "justify_items": null,
            "left": null,
            "margin": null,
            "max_height": null,
            "max_width": null,
            "min_height": null,
            "min_width": null,
            "object_fit": null,
            "object_position": null,
            "order": null,
            "overflow": null,
            "overflow_x": null,
            "overflow_y": null,
            "padding": null,
            "right": null,
            "top": null,
            "visibility": null,
            "width": null
          }
        },
        "dc37bf12c55541a6b3d0e1fecc47b613": {
          "model_module": "@jupyter-widgets/controls",
          "model_name": "DescriptionStyleModel",
          "model_module_version": "1.5.0",
          "state": {
            "_model_module": "@jupyter-widgets/controls",
            "_model_module_version": "1.5.0",
            "_model_name": "DescriptionStyleModel",
            "_view_count": null,
            "_view_module": "@jupyter-widgets/base",
            "_view_module_version": "1.2.0",
            "_view_name": "StyleView",
            "description_width": ""
          }
        },
        "4d86f647cd244a26a191d62e35428148": {
          "model_module": "@jupyter-widgets/controls",
          "model_name": "HBoxModel",
          "model_module_version": "1.5.0",
          "state": {
            "_dom_classes": [],
            "_model_module": "@jupyter-widgets/controls",
            "_model_module_version": "1.5.0",
            "_model_name": "HBoxModel",
            "_view_count": null,
            "_view_module": "@jupyter-widgets/controls",
            "_view_module_version": "1.5.0",
            "_view_name": "HBoxView",
            "box_style": "",
            "children": [
              "IPY_MODEL_26b09178174c45f6a32b01bf60bb5d95",
              "IPY_MODEL_5bbe6a7518c24fe4bef8d2c581841e29",
              "IPY_MODEL_0faf268f29d34f4886fddb44dc04b8d9"
            ],
            "layout": "IPY_MODEL_43261eacf828465baa273e2c08c5d870"
          }
        },
        "26b09178174c45f6a32b01bf60bb5d95": {
          "model_module": "@jupyter-widgets/controls",
          "model_name": "HTMLModel",
          "model_module_version": "1.5.0",
          "state": {
            "_dom_classes": [],
            "_model_module": "@jupyter-widgets/controls",
            "_model_module_version": "1.5.0",
            "_model_name": "HTMLModel",
            "_view_count": null,
            "_view_module": "@jupyter-widgets/controls",
            "_view_module_version": "1.5.0",
            "_view_name": "HTMLView",
            "description": "",
            "description_tooltip": null,
            "layout": "IPY_MODEL_f07d0bbd799f4e6fbdbb9c6bbd8e4bbd",
            "placeholder": "​",
            "style": "IPY_MODEL_8ab80ce8b3024c4282548b30eaef166b",
            "value": "Downloading: 100%"
          }
        },
        "5bbe6a7518c24fe4bef8d2c581841e29": {
          "model_module": "@jupyter-widgets/controls",
          "model_name": "FloatProgressModel",
          "model_module_version": "1.5.0",
          "state": {
            "_dom_classes": [],
            "_model_module": "@jupyter-widgets/controls",
            "_model_module_version": "1.5.0",
            "_model_name": "FloatProgressModel",
            "_view_count": null,
            "_view_module": "@jupyter-widgets/controls",
            "_view_module_version": "1.5.0",
            "_view_name": "ProgressView",
            "bar_style": "success",
            "description": "",
            "description_tooltip": null,
            "layout": "IPY_MODEL_03de4c2f31034ad4b988e9067d2ed631",
            "max": 798011,
            "min": 0,
            "orientation": "horizontal",
            "style": "IPY_MODEL_10f93eb6b87645f882f2c51962b9571a",
            "value": 798011
          }
        },
        "0faf268f29d34f4886fddb44dc04b8d9": {
          "model_module": "@jupyter-widgets/controls",
          "model_name": "HTMLModel",
          "model_module_version": "1.5.0",
          "state": {
            "_dom_classes": [],
            "_model_module": "@jupyter-widgets/controls",
            "_model_module_version": "1.5.0",
            "_model_name": "HTMLModel",
            "_view_count": null,
            "_view_module": "@jupyter-widgets/controls",
            "_view_module_version": "1.5.0",
            "_view_name": "HTMLView",
            "description": "",
            "description_tooltip": null,
            "layout": "IPY_MODEL_0b04dced07c34d7eae020f2df8187c27",
            "placeholder": "​",
            "style": "IPY_MODEL_b08ee9adfd6442e28e4c392a3ad67973",
            "value": " 779k/779k [00:00&lt;00:00, 2.61MB/s]"
          }
        },
        "43261eacf828465baa273e2c08c5d870": {
          "model_module": "@jupyter-widgets/base",
          "model_name": "LayoutModel",
          "model_module_version": "1.2.0",
          "state": {
            "_model_module": "@jupyter-widgets/base",
            "_model_module_version": "1.2.0",
            "_model_name": "LayoutModel",
            "_view_count": null,
            "_view_module": "@jupyter-widgets/base",
            "_view_module_version": "1.2.0",
            "_view_name": "LayoutView",
            "align_content": null,
            "align_items": null,
            "align_self": null,
            "border": null,
            "bottom": null,
            "display": null,
            "flex": null,
            "flex_flow": null,
            "grid_area": null,
            "grid_auto_columns": null,
            "grid_auto_flow": null,
            "grid_auto_rows": null,
            "grid_column": null,
            "grid_gap": null,
            "grid_row": null,
            "grid_template_areas": null,
            "grid_template_columns": null,
            "grid_template_rows": null,
            "height": null,
            "justify_content": null,
            "justify_items": null,
            "left": null,
            "margin": null,
            "max_height": null,
            "max_width": null,
            "min_height": null,
            "min_width": null,
            "object_fit": null,
            "object_position": null,
            "order": null,
            "overflow": null,
            "overflow_x": null,
            "overflow_y": null,
            "padding": null,
            "right": null,
            "top": null,
            "visibility": null,
            "width": null
          }
        },
        "f07d0bbd799f4e6fbdbb9c6bbd8e4bbd": {
          "model_module": "@jupyter-widgets/base",
          "model_name": "LayoutModel",
          "model_module_version": "1.2.0",
          "state": {
            "_model_module": "@jupyter-widgets/base",
            "_model_module_version": "1.2.0",
            "_model_name": "LayoutModel",
            "_view_count": null,
            "_view_module": "@jupyter-widgets/base",
            "_view_module_version": "1.2.0",
            "_view_name": "LayoutView",
            "align_content": null,
            "align_items": null,
            "align_self": null,
            "border": null,
            "bottom": null,
            "display": null,
            "flex": null,
            "flex_flow": null,
            "grid_area": null,
            "grid_auto_columns": null,
            "grid_auto_flow": null,
            "grid_auto_rows": null,
            "grid_column": null,
            "grid_gap": null,
            "grid_row": null,
            "grid_template_areas": null,
            "grid_template_columns": null,
            "grid_template_rows": null,
            "height": null,
            "justify_content": null,
            "justify_items": null,
            "left": null,
            "margin": null,
            "max_height": null,
            "max_width": null,
            "min_height": null,
            "min_width": null,
            "object_fit": null,
            "object_position": null,
            "order": null,
            "overflow": null,
            "overflow_x": null,
            "overflow_y": null,
            "padding": null,
            "right": null,
            "top": null,
            "visibility": null,
            "width": null
          }
        },
        "8ab80ce8b3024c4282548b30eaef166b": {
          "model_module": "@jupyter-widgets/controls",
          "model_name": "DescriptionStyleModel",
          "model_module_version": "1.5.0",
          "state": {
            "_model_module": "@jupyter-widgets/controls",
            "_model_module_version": "1.5.0",
            "_model_name": "DescriptionStyleModel",
            "_view_count": null,
            "_view_module": "@jupyter-widgets/base",
            "_view_module_version": "1.2.0",
            "_view_name": "StyleView",
            "description_width": ""
          }
        },
        "03de4c2f31034ad4b988e9067d2ed631": {
          "model_module": "@jupyter-widgets/base",
          "model_name": "LayoutModel",
          "model_module_version": "1.2.0",
          "state": {
            "_model_module": "@jupyter-widgets/base",
            "_model_module_version": "1.2.0",
            "_model_name": "LayoutModel",
            "_view_count": null,
            "_view_module": "@jupyter-widgets/base",
            "_view_module_version": "1.2.0",
            "_view_name": "LayoutView",
            "align_content": null,
            "align_items": null,
            "align_self": null,
            "border": null,
            "bottom": null,
            "display": null,
            "flex": null,
            "flex_flow": null,
            "grid_area": null,
            "grid_auto_columns": null,
            "grid_auto_flow": null,
            "grid_auto_rows": null,
            "grid_column": null,
            "grid_gap": null,
            "grid_row": null,
            "grid_template_areas": null,
            "grid_template_columns": null,
            "grid_template_rows": null,
            "height": null,
            "justify_content": null,
            "justify_items": null,
            "left": null,
            "margin": null,
            "max_height": null,
            "max_width": null,
            "min_height": null,
            "min_width": null,
            "object_fit": null,
            "object_position": null,
            "order": null,
            "overflow": null,
            "overflow_x": null,
            "overflow_y": null,
            "padding": null,
            "right": null,
            "top": null,
            "visibility": null,
            "width": null
          }
        },
        "10f93eb6b87645f882f2c51962b9571a": {
          "model_module": "@jupyter-widgets/controls",
          "model_name": "ProgressStyleModel",
          "model_module_version": "1.5.0",
          "state": {
            "_model_module": "@jupyter-widgets/controls",
            "_model_module_version": "1.5.0",
            "_model_name": "ProgressStyleModel",
            "_view_count": null,
            "_view_module": "@jupyter-widgets/base",
            "_view_module_version": "1.2.0",
            "_view_name": "StyleView",
            "bar_color": null,
            "description_width": ""
          }
        },
        "0b04dced07c34d7eae020f2df8187c27": {
          "model_module": "@jupyter-widgets/base",
          "model_name": "LayoutModel",
          "model_module_version": "1.2.0",
          "state": {
            "_model_module": "@jupyter-widgets/base",
            "_model_module_version": "1.2.0",
            "_model_name": "LayoutModel",
            "_view_count": null,
            "_view_module": "@jupyter-widgets/base",
            "_view_module_version": "1.2.0",
            "_view_name": "LayoutView",
            "align_content": null,
            "align_items": null,
            "align_self": null,
            "border": null,
            "bottom": null,
            "display": null,
            "flex": null,
            "flex_flow": null,
            "grid_area": null,
            "grid_auto_columns": null,
            "grid_auto_flow": null,
            "grid_auto_rows": null,
            "grid_column": null,
            "grid_gap": null,
            "grid_row": null,
            "grid_template_areas": null,
            "grid_template_columns": null,
            "grid_template_rows": null,
            "height": null,
            "justify_content": null,
            "justify_items": null,
            "left": null,
            "margin": null,
            "max_height": null,
            "max_width": null,
            "min_height": null,
            "min_width": null,
            "object_fit": null,
            "object_position": null,
            "order": null,
            "overflow": null,
            "overflow_x": null,
            "overflow_y": null,
            "padding": null,
            "right": null,
            "top": null,
            "visibility": null,
            "width": null
          }
        },
        "b08ee9adfd6442e28e4c392a3ad67973": {
          "model_module": "@jupyter-widgets/controls",
          "model_name": "DescriptionStyleModel",
          "model_module_version": "1.5.0",
          "state": {
            "_model_module": "@jupyter-widgets/controls",
            "_model_module_version": "1.5.0",
            "_model_name": "DescriptionStyleModel",
            "_view_count": null,
            "_view_module": "@jupyter-widgets/base",
            "_view_module_version": "1.2.0",
            "_view_name": "StyleView",
            "description_width": ""
          }
        },
        "1f595faa16ae4576bbd6d6e669e13434": {
          "model_module": "@jupyter-widgets/controls",
          "model_name": "HBoxModel",
          "model_module_version": "1.5.0",
          "state": {
            "_dom_classes": [],
            "_model_module": "@jupyter-widgets/controls",
            "_model_module_version": "1.5.0",
            "_model_name": "HBoxModel",
            "_view_count": null,
            "_view_module": "@jupyter-widgets/controls",
            "_view_module_version": "1.5.0",
            "_view_name": "HBoxView",
            "box_style": "",
            "children": [
              "IPY_MODEL_8365aaad8eec484a92f89f399c2aa729",
              "IPY_MODEL_b79005704f924c0ab691120acb34336c",
              "IPY_MODEL_11523c5b38c34c37a715a1672a913f26"
            ],
            "layout": "IPY_MODEL_131977b4834a4c7aa445cc5a03dd2fd8"
          }
        },
        "8365aaad8eec484a92f89f399c2aa729": {
          "model_module": "@jupyter-widgets/controls",
          "model_name": "HTMLModel",
          "model_module_version": "1.5.0",
          "state": {
            "_dom_classes": [],
            "_model_module": "@jupyter-widgets/controls",
            "_model_module_version": "1.5.0",
            "_model_name": "HTMLModel",
            "_view_count": null,
            "_view_module": "@jupyter-widgets/controls",
            "_view_module_version": "1.5.0",
            "_view_name": "HTMLView",
            "description": "",
            "description_tooltip": null,
            "layout": "IPY_MODEL_9f51d06c01d14f53b798479922a2c02c",
            "placeholder": "​",
            "style": "IPY_MODEL_fc784ace5e304087ba71eecfb730bd9a",
            "value": "Downloading: 100%"
          }
        },
        "b79005704f924c0ab691120acb34336c": {
          "model_module": "@jupyter-widgets/controls",
          "model_name": "FloatProgressModel",
          "model_module_version": "1.5.0",
          "state": {
            "_dom_classes": [],
            "_model_module": "@jupyter-widgets/controls",
            "_model_module_version": "1.5.0",
            "_model_name": "FloatProgressModel",
            "_view_count": null,
            "_view_module": "@jupyter-widgets/controls",
            "_view_module_version": "1.5.0",
            "_view_name": "ProgressView",
            "bar_style": "success",
            "description": "",
            "description_tooltip": null,
            "layout": "IPY_MODEL_5d16910fd42f43b285ae9423982ece91",
            "max": 760,
            "min": 0,
            "orientation": "horizontal",
            "style": "IPY_MODEL_7bbd71e1dac847738226ac56ea5cf72a",
            "value": 760
          }
        },
        "11523c5b38c34c37a715a1672a913f26": {
          "model_module": "@jupyter-widgets/controls",
          "model_name": "HTMLModel",
          "model_module_version": "1.5.0",
          "state": {
            "_dom_classes": [],
            "_model_module": "@jupyter-widgets/controls",
            "_model_module_version": "1.5.0",
            "_model_name": "HTMLModel",
            "_view_count": null,
            "_view_module": "@jupyter-widgets/controls",
            "_view_module_version": "1.5.0",
            "_view_name": "HTMLView",
            "description": "",
            "description_tooltip": null,
            "layout": "IPY_MODEL_81e3b5fdf7ad43068c24b4ba105d17c7",
            "placeholder": "​",
            "style": "IPY_MODEL_9dc783b2346f4339a61f9bacb8d499f8",
            "value": " 760/760 [00:00&lt;00:00, 36.7kB/s]"
          }
        },
        "131977b4834a4c7aa445cc5a03dd2fd8": {
          "model_module": "@jupyter-widgets/base",
          "model_name": "LayoutModel",
          "model_module_version": "1.2.0",
          "state": {
            "_model_module": "@jupyter-widgets/base",
            "_model_module_version": "1.2.0",
            "_model_name": "LayoutModel",
            "_view_count": null,
            "_view_module": "@jupyter-widgets/base",
            "_view_module_version": "1.2.0",
            "_view_name": "LayoutView",
            "align_content": null,
            "align_items": null,
            "align_self": null,
            "border": null,
            "bottom": null,
            "display": null,
            "flex": null,
            "flex_flow": null,
            "grid_area": null,
            "grid_auto_columns": null,
            "grid_auto_flow": null,
            "grid_auto_rows": null,
            "grid_column": null,
            "grid_gap": null,
            "grid_row": null,
            "grid_template_areas": null,
            "grid_template_columns": null,
            "grid_template_rows": null,
            "height": null,
            "justify_content": null,
            "justify_items": null,
            "left": null,
            "margin": null,
            "max_height": null,
            "max_width": null,
            "min_height": null,
            "min_width": null,
            "object_fit": null,
            "object_position": null,
            "order": null,
            "overflow": null,
            "overflow_x": null,
            "overflow_y": null,
            "padding": null,
            "right": null,
            "top": null,
            "visibility": null,
            "width": null
          }
        },
        "9f51d06c01d14f53b798479922a2c02c": {
          "model_module": "@jupyter-widgets/base",
          "model_name": "LayoutModel",
          "model_module_version": "1.2.0",
          "state": {
            "_model_module": "@jupyter-widgets/base",
            "_model_module_version": "1.2.0",
            "_model_name": "LayoutModel",
            "_view_count": null,
            "_view_module": "@jupyter-widgets/base",
            "_view_module_version": "1.2.0",
            "_view_name": "LayoutView",
            "align_content": null,
            "align_items": null,
            "align_self": null,
            "border": null,
            "bottom": null,
            "display": null,
            "flex": null,
            "flex_flow": null,
            "grid_area": null,
            "grid_auto_columns": null,
            "grid_auto_flow": null,
            "grid_auto_rows": null,
            "grid_column": null,
            "grid_gap": null,
            "grid_row": null,
            "grid_template_areas": null,
            "grid_template_columns": null,
            "grid_template_rows": null,
            "height": null,
            "justify_content": null,
            "justify_items": null,
            "left": null,
            "margin": null,
            "max_height": null,
            "max_width": null,
            "min_height": null,
            "min_width": null,
            "object_fit": null,
            "object_position": null,
            "order": null,
            "overflow": null,
            "overflow_x": null,
            "overflow_y": null,
            "padding": null,
            "right": null,
            "top": null,
            "visibility": null,
            "width": null
          }
        },
        "fc784ace5e304087ba71eecfb730bd9a": {
          "model_module": "@jupyter-widgets/controls",
          "model_name": "DescriptionStyleModel",
          "model_module_version": "1.5.0",
          "state": {
            "_model_module": "@jupyter-widgets/controls",
            "_model_module_version": "1.5.0",
            "_model_name": "DescriptionStyleModel",
            "_view_count": null,
            "_view_module": "@jupyter-widgets/base",
            "_view_module_version": "1.2.0",
            "_view_name": "StyleView",
            "description_width": ""
          }
        },
        "5d16910fd42f43b285ae9423982ece91": {
          "model_module": "@jupyter-widgets/base",
          "model_name": "LayoutModel",
          "model_module_version": "1.2.0",
          "state": {
            "_model_module": "@jupyter-widgets/base",
            "_model_module_version": "1.2.0",
            "_model_name": "LayoutModel",
            "_view_count": null,
            "_view_module": "@jupyter-widgets/base",
            "_view_module_version": "1.2.0",
            "_view_name": "LayoutView",
            "align_content": null,
            "align_items": null,
            "align_self": null,
            "border": null,
            "bottom": null,
            "display": null,
            "flex": null,
            "flex_flow": null,
            "grid_area": null,
            "grid_auto_columns": null,
            "grid_auto_flow": null,
            "grid_auto_rows": null,
            "grid_column": null,
            "grid_gap": null,
            "grid_row": null,
            "grid_template_areas": null,
            "grid_template_columns": null,
            "grid_template_rows": null,
            "height": null,
            "justify_content": null,
            "justify_items": null,
            "left": null,
            "margin": null,
            "max_height": null,
            "max_width": null,
            "min_height": null,
            "min_width": null,
            "object_fit": null,
            "object_position": null,
            "order": null,
            "overflow": null,
            "overflow_x": null,
            "overflow_y": null,
            "padding": null,
            "right": null,
            "top": null,
            "visibility": null,
            "width": null
          }
        },
        "7bbd71e1dac847738226ac56ea5cf72a": {
          "model_module": "@jupyter-widgets/controls",
          "model_name": "ProgressStyleModel",
          "model_module_version": "1.5.0",
          "state": {
            "_model_module": "@jupyter-widgets/controls",
            "_model_module_version": "1.5.0",
            "_model_name": "ProgressStyleModel",
            "_view_count": null,
            "_view_module": "@jupyter-widgets/base",
            "_view_module_version": "1.2.0",
            "_view_name": "StyleView",
            "bar_color": null,
            "description_width": ""
          }
        },
        "81e3b5fdf7ad43068c24b4ba105d17c7": {
          "model_module": "@jupyter-widgets/base",
          "model_name": "LayoutModel",
          "model_module_version": "1.2.0",
          "state": {
            "_model_module": "@jupyter-widgets/base",
            "_model_module_version": "1.2.0",
            "_model_name": "LayoutModel",
            "_view_count": null,
            "_view_module": "@jupyter-widgets/base",
            "_view_module_version": "1.2.0",
            "_view_name": "LayoutView",
            "align_content": null,
            "align_items": null,
            "align_self": null,
            "border": null,
            "bottom": null,
            "display": null,
            "flex": null,
            "flex_flow": null,
            "grid_area": null,
            "grid_auto_columns": null,
            "grid_auto_flow": null,
            "grid_auto_rows": null,
            "grid_column": null,
            "grid_gap": null,
            "grid_row": null,
            "grid_template_areas": null,
            "grid_template_columns": null,
            "grid_template_rows": null,
            "height": null,
            "justify_content": null,
            "justify_items": null,
            "left": null,
            "margin": null,
            "max_height": null,
            "max_width": null,
            "min_height": null,
            "min_width": null,
            "object_fit": null,
            "object_position": null,
            "order": null,
            "overflow": null,
            "overflow_x": null,
            "overflow_y": null,
            "padding": null,
            "right": null,
            "top": null,
            "visibility": null,
            "width": null
          }
        },
        "9dc783b2346f4339a61f9bacb8d499f8": {
          "model_module": "@jupyter-widgets/controls",
          "model_name": "DescriptionStyleModel",
          "model_module_version": "1.5.0",
          "state": {
            "_model_module": "@jupyter-widgets/controls",
            "_model_module_version": "1.5.0",
            "_model_name": "DescriptionStyleModel",
            "_view_count": null,
            "_view_module": "@jupyter-widgets/base",
            "_view_module_version": "1.2.0",
            "_view_name": "StyleView",
            "description_width": ""
          }
        },
        "0f3cab132deb40ae96cf32ec504f990a": {
          "model_module": "@jupyter-widgets/controls",
          "model_name": "HBoxModel",
          "model_module_version": "1.5.0",
          "state": {
            "_dom_classes": [],
            "_model_module": "@jupyter-widgets/controls",
            "_model_module_version": "1.5.0",
            "_model_name": "HBoxModel",
            "_view_count": null,
            "_view_module": "@jupyter-widgets/controls",
            "_view_module_version": "1.5.0",
            "_view_name": "HBoxView",
            "box_style": "",
            "children": [
              "IPY_MODEL_3c598f1231524be09831c589640babde",
              "IPY_MODEL_10dfd6f5f96945fb89c6b3ba72c8c96c",
              "IPY_MODEL_0bbf39e879d34a5fa2b23074bcf49805"
            ],
            "layout": "IPY_MODEL_ba0b2d21bd53472e9c5311af89a93d94"
          }
        },
        "3c598f1231524be09831c589640babde": {
          "model_module": "@jupyter-widgets/controls",
          "model_name": "HTMLModel",
          "model_module_version": "1.5.0",
          "state": {
            "_dom_classes": [],
            "_model_module": "@jupyter-widgets/controls",
            "_model_module_version": "1.5.0",
            "_model_name": "HTMLModel",
            "_view_count": null,
            "_view_module": "@jupyter-widgets/controls",
            "_view_module_version": "1.5.0",
            "_view_name": "HTMLView",
            "description": "",
            "description_tooltip": null,
            "layout": "IPY_MODEL_2af0ea3d7e924f60b0f8975ad7178df1",
            "placeholder": "​",
            "style": "IPY_MODEL_e61f47422ffd4e2ab8b302e7922abc6a",
            "value": "Downloading: 100%"
          }
        },
        "10dfd6f5f96945fb89c6b3ba72c8c96c": {
          "model_module": "@jupyter-widgets/controls",
          "model_name": "FloatProgressModel",
          "model_module_version": "1.5.0",
          "state": {
            "_dom_classes": [],
            "_model_module": "@jupyter-widgets/controls",
            "_model_module_version": "1.5.0",
            "_model_name": "FloatProgressModel",
            "_view_count": null,
            "_view_module": "@jupyter-widgets/controls",
            "_view_module_version": "1.5.0",
            "_view_name": "ProgressView",
            "bar_style": "success",
            "description": "",
            "description_tooltip": null,
            "layout": "IPY_MODEL_120f3a6b9fdc44f5a3ea8bb9a9d5767a",
            "max": 467042463,
            "min": 0,
            "orientation": "horizontal",
            "style": "IPY_MODEL_d01d40f92d974aca876e5bf5cb93e1aa",
            "value": 467042463
          }
        },
        "0bbf39e879d34a5fa2b23074bcf49805": {
          "model_module": "@jupyter-widgets/controls",
          "model_name": "HTMLModel",
          "model_module_version": "1.5.0",
          "state": {
            "_dom_classes": [],
            "_model_module": "@jupyter-widgets/controls",
            "_model_module_version": "1.5.0",
            "_model_name": "HTMLModel",
            "_view_count": null,
            "_view_module": "@jupyter-widgets/controls",
            "_view_module_version": "1.5.0",
            "_view_name": "HTMLView",
            "description": "",
            "description_tooltip": null,
            "layout": "IPY_MODEL_03d4e95c922b4bc7b34afa1183c88625",
            "placeholder": "​",
            "style": "IPY_MODEL_4a3c913e90f14dc4a41f0740da18dd68",
            "value": " 445M/445M [00:12&lt;00:00, 36.8MB/s]"
          }
        },
        "ba0b2d21bd53472e9c5311af89a93d94": {
          "model_module": "@jupyter-widgets/base",
          "model_name": "LayoutModel",
          "model_module_version": "1.2.0",
          "state": {
            "_model_module": "@jupyter-widgets/base",
            "_model_module_version": "1.2.0",
            "_model_name": "LayoutModel",
            "_view_count": null,
            "_view_module": "@jupyter-widgets/base",
            "_view_module_version": "1.2.0",
            "_view_name": "LayoutView",
            "align_content": null,
            "align_items": null,
            "align_self": null,
            "border": null,
            "bottom": null,
            "display": null,
            "flex": null,
            "flex_flow": null,
            "grid_area": null,
            "grid_auto_columns": null,
            "grid_auto_flow": null,
            "grid_auto_rows": null,
            "grid_column": null,
            "grid_gap": null,
            "grid_row": null,
            "grid_template_areas": null,
            "grid_template_columns": null,
            "grid_template_rows": null,
            "height": null,
            "justify_content": null,
            "justify_items": null,
            "left": null,
            "margin": null,
            "max_height": null,
            "max_width": null,
            "min_height": null,
            "min_width": null,
            "object_fit": null,
            "object_position": null,
            "order": null,
            "overflow": null,
            "overflow_x": null,
            "overflow_y": null,
            "padding": null,
            "right": null,
            "top": null,
            "visibility": null,
            "width": null
          }
        },
        "2af0ea3d7e924f60b0f8975ad7178df1": {
          "model_module": "@jupyter-widgets/base",
          "model_name": "LayoutModel",
          "model_module_version": "1.2.0",
          "state": {
            "_model_module": "@jupyter-widgets/base",
            "_model_module_version": "1.2.0",
            "_model_name": "LayoutModel",
            "_view_count": null,
            "_view_module": "@jupyter-widgets/base",
            "_view_module_version": "1.2.0",
            "_view_name": "LayoutView",
            "align_content": null,
            "align_items": null,
            "align_self": null,
            "border": null,
            "bottom": null,
            "display": null,
            "flex": null,
            "flex_flow": null,
            "grid_area": null,
            "grid_auto_columns": null,
            "grid_auto_flow": null,
            "grid_auto_rows": null,
            "grid_column": null,
            "grid_gap": null,
            "grid_row": null,
            "grid_template_areas": null,
            "grid_template_columns": null,
            "grid_template_rows": null,
            "height": null,
            "justify_content": null,
            "justify_items": null,
            "left": null,
            "margin": null,
            "max_height": null,
            "max_width": null,
            "min_height": null,
            "min_width": null,
            "object_fit": null,
            "object_position": null,
            "order": null,
            "overflow": null,
            "overflow_x": null,
            "overflow_y": null,
            "padding": null,
            "right": null,
            "top": null,
            "visibility": null,
            "width": null
          }
        },
        "e61f47422ffd4e2ab8b302e7922abc6a": {
          "model_module": "@jupyter-widgets/controls",
          "model_name": "DescriptionStyleModel",
          "model_module_version": "1.5.0",
          "state": {
            "_model_module": "@jupyter-widgets/controls",
            "_model_module_version": "1.5.0",
            "_model_name": "DescriptionStyleModel",
            "_view_count": null,
            "_view_module": "@jupyter-widgets/base",
            "_view_module_version": "1.2.0",
            "_view_name": "StyleView",
            "description_width": ""
          }
        },
        "120f3a6b9fdc44f5a3ea8bb9a9d5767a": {
          "model_module": "@jupyter-widgets/base",
          "model_name": "LayoutModel",
          "model_module_version": "1.2.0",
          "state": {
            "_model_module": "@jupyter-widgets/base",
            "_model_module_version": "1.2.0",
            "_model_name": "LayoutModel",
            "_view_count": null,
            "_view_module": "@jupyter-widgets/base",
            "_view_module_version": "1.2.0",
            "_view_name": "LayoutView",
            "align_content": null,
            "align_items": null,
            "align_self": null,
            "border": null,
            "bottom": null,
            "display": null,
            "flex": null,
            "flex_flow": null,
            "grid_area": null,
            "grid_auto_columns": null,
            "grid_auto_flow": null,
            "grid_auto_rows": null,
            "grid_column": null,
            "grid_gap": null,
            "grid_row": null,
            "grid_template_areas": null,
            "grid_template_columns": null,
            "grid_template_rows": null,
            "height": null,
            "justify_content": null,
            "justify_items": null,
            "left": null,
            "margin": null,
            "max_height": null,
            "max_width": null,
            "min_height": null,
            "min_width": null,
            "object_fit": null,
            "object_position": null,
            "order": null,
            "overflow": null,
            "overflow_x": null,
            "overflow_y": null,
            "padding": null,
            "right": null,
            "top": null,
            "visibility": null,
            "width": null
          }
        },
        "d01d40f92d974aca876e5bf5cb93e1aa": {
          "model_module": "@jupyter-widgets/controls",
          "model_name": "ProgressStyleModel",
          "model_module_version": "1.5.0",
          "state": {
            "_model_module": "@jupyter-widgets/controls",
            "_model_module_version": "1.5.0",
            "_model_name": "ProgressStyleModel",
            "_view_count": null,
            "_view_module": "@jupyter-widgets/base",
            "_view_module_version": "1.2.0",
            "_view_name": "StyleView",
            "bar_color": null,
            "description_width": ""
          }
        },
        "03d4e95c922b4bc7b34afa1183c88625": {
          "model_module": "@jupyter-widgets/base",
          "model_name": "LayoutModel",
          "model_module_version": "1.2.0",
          "state": {
            "_model_module": "@jupyter-widgets/base",
            "_model_module_version": "1.2.0",
            "_model_name": "LayoutModel",
            "_view_count": null,
            "_view_module": "@jupyter-widgets/base",
            "_view_module_version": "1.2.0",
            "_view_name": "LayoutView",
            "align_content": null,
            "align_items": null,
            "align_self": null,
            "border": null,
            "bottom": null,
            "display": null,
            "flex": null,
            "flex_flow": null,
            "grid_area": null,
            "grid_auto_columns": null,
            "grid_auto_flow": null,
            "grid_auto_rows": null,
            "grid_column": null,
            "grid_gap": null,
            "grid_row": null,
            "grid_template_areas": null,
            "grid_template_columns": null,
            "grid_template_rows": null,
            "height": null,
            "justify_content": null,
            "justify_items": null,
            "left": null,
            "margin": null,
            "max_height": null,
            "max_width": null,
            "min_height": null,
            "min_width": null,
            "object_fit": null,
            "object_position": null,
            "order": null,
            "overflow": null,
            "overflow_x": null,
            "overflow_y": null,
            "padding": null,
            "right": null,
            "top": null,
            "visibility": null,
            "width": null
          }
        },
        "4a3c913e90f14dc4a41f0740da18dd68": {
          "model_module": "@jupyter-widgets/controls",
          "model_name": "DescriptionStyleModel",
          "model_module_version": "1.5.0",
          "state": {
            "_model_module": "@jupyter-widgets/controls",
            "_model_module_version": "1.5.0",
            "_model_name": "DescriptionStyleModel",
            "_view_count": null,
            "_view_module": "@jupyter-widgets/base",
            "_view_module_version": "1.2.0",
            "_view_name": "StyleView",
            "description_width": ""
          }
        }
      }
    }
  },
  "nbformat": 4,
  "nbformat_minor": 0
}