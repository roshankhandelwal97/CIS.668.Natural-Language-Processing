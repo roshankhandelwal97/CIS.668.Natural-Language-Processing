{
  "nbformat": 4,
  "nbformat_minor": 0,
  "metadata": {
    "kernelspec": {
      "display_name": "Python 3",
      "language": "python",
      "name": "python3"
    },
    "language_info": {
      "codemirror_mode": {
        "name": "ipython",
        "version": 3
      },
      "file_extension": ".py",
      "mimetype": "text/x-python",
      "name": "python",
      "nbconvert_exporter": "python",
      "pygments_lexer": "ipython3",
      "version": "3.6.3"
    },
    "colab": {
      "provenance": []
    }
  },
  "cells": [
    {
      "cell_type": "markdown",
      "metadata": {
        "id": "nS9PgCum8rto"
      },
      "source": [
        "**IST664 - Lab for Week 2**\n",
        "\n",
        "As a reminder, a corpus (plural: corpora) is simply a  body of text. Corpus-linguistic analyses are often based on the evaluation of word occurrence frequencies within a corpus or across corpora. Conducting corpus-linguistic analyses usually begins with pre-processing and tokenizing the texts.\n",
        "\n",
        "In this lab session, we will use NLTK to do some of these tasks. Similarly to last week, we will use some text from Project Gutenberg texts. This time, however, we are going to work with \"raw\" text rather than the pre-processed data structures that NLTK also provides, so that we can do some more detailed work. In particular, we are going to make our own token lists, filter them, and use some tools that calculate ocurrence frequencies. Note that documentation on how to create and manipulate corpora appears in this chapter of the NLTK book: http://www.nltk.org/book/ch02.html"
      ]
    },
    {
      "cell_type": "code",
      "metadata": {
        "id": "fkSqzelnaIJc",
        "colab": {
          "base_uri": "https://localhost:8080/"
        },
        "outputId": "4044b14f-fdf2-4101-ab94-15fb5597b5f7"
      },
      "source": [
        "# In this code, we import the NLTK, download the Gutenberg texts, extract a\n",
        "# list of file identifiers from the downloaded material and show the filename\n",
        "# for the first file in the list, Emma, by Jane Austen.\n",
        "\n",
        "import nltk # Bring in the NLP toolkit\n",
        "nltk.download('gutenberg') # Then import the Gutenberg library, which has books\n",
        "print(nltk.corpus.gutenberg.fileids())\n",
        "file0 = nltk.corpus.gutenberg.fileids()[0] # Extract the book names\n",
        "print(file0)"
      ],
      "execution_count": 1,
      "outputs": [
        {
          "output_type": "stream",
          "name": "stderr",
          "text": [
            "[nltk_data] Downloading package gutenberg to /root/nltk_data...\n",
            "[nltk_data]   Unzipping corpora/gutenberg.zip.\n"
          ]
        },
        {
          "output_type": "stream",
          "name": "stdout",
          "text": [
            "['austen-emma.txt', 'austen-persuasion.txt', 'austen-sense.txt', 'bible-kjv.txt', 'blake-poems.txt', 'bryant-stories.txt', 'burgess-busterbrown.txt', 'carroll-alice.txt', 'chesterton-ball.txt', 'chesterton-brown.txt', 'chesterton-thursday.txt', 'edgeworth-parents.txt', 'melville-moby_dick.txt', 'milton-paradise.txt', 'shakespeare-caesar.txt', 'shakespeare-hamlet.txt', 'shakespeare-macbeth.txt', 'whitman-leaves.txt']\n",
            "austen-emma.txt\n"
          ]
        }
      ]
    },
    {
      "cell_type": "code",
      "metadata": {
        "id": "Ma5yfWkI9zeq",
        "colab": {
          "base_uri": "https://localhost:8080/"
        },
        "outputId": "26e503c6-d0b6-4b9e-f43b-b8521c2890a6"
      },
      "source": [
        "emmatext = nltk.corpus.gutenberg.raw(file0) # Get the raw text of the book\n",
        "print (len(emmatext)) # This tells the length of the string\n",
        "type(emmatext) # And this shows the type of the emmatext object.\n",
        "\n",
        "# What function call could we add to get a \"directory\" of all of the attributes\n",
        "# of emmatext, including the bound methods?\n",
        "\n",
        "dir(emmatext)\n",
        "# 2.1: Add the function call above and then rerun this cell.\n"
      ],
      "execution_count": 3,
      "outputs": [
        {
          "output_type": "stream",
          "name": "stdout",
          "text": [
            "887071\n"
          ]
        },
        {
          "output_type": "execute_result",
          "data": {
            "text/plain": [
              "['__add__',\n",
              " '__class__',\n",
              " '__contains__',\n",
              " '__delattr__',\n",
              " '__dir__',\n",
              " '__doc__',\n",
              " '__eq__',\n",
              " '__format__',\n",
              " '__ge__',\n",
              " '__getattribute__',\n",
              " '__getitem__',\n",
              " '__getnewargs__',\n",
              " '__gt__',\n",
              " '__hash__',\n",
              " '__init__',\n",
              " '__init_subclass__',\n",
              " '__iter__',\n",
              " '__le__',\n",
              " '__len__',\n",
              " '__lt__',\n",
              " '__mod__',\n",
              " '__mul__',\n",
              " '__ne__',\n",
              " '__new__',\n",
              " '__reduce__',\n",
              " '__reduce_ex__',\n",
              " '__repr__',\n",
              " '__rmod__',\n",
              " '__rmul__',\n",
              " '__setattr__',\n",
              " '__sizeof__',\n",
              " '__str__',\n",
              " '__subclasshook__',\n",
              " 'capitalize',\n",
              " 'casefold',\n",
              " 'center',\n",
              " 'count',\n",
              " 'encode',\n",
              " 'endswith',\n",
              " 'expandtabs',\n",
              " 'find',\n",
              " 'format',\n",
              " 'format_map',\n",
              " 'index',\n",
              " 'isalnum',\n",
              " 'isalpha',\n",
              " 'isascii',\n",
              " 'isdecimal',\n",
              " 'isdigit',\n",
              " 'isidentifier',\n",
              " 'islower',\n",
              " 'isnumeric',\n",
              " 'isprintable',\n",
              " 'isspace',\n",
              " 'istitle',\n",
              " 'isupper',\n",
              " 'join',\n",
              " 'ljust',\n",
              " 'lower',\n",
              " 'lstrip',\n",
              " 'maketrans',\n",
              " 'partition',\n",
              " 'removeprefix',\n",
              " 'removesuffix',\n",
              " 'replace',\n",
              " 'rfind',\n",
              " 'rindex',\n",
              " 'rjust',\n",
              " 'rpartition',\n",
              " 'rsplit',\n",
              " 'rstrip',\n",
              " 'split',\n",
              " 'splitlines',\n",
              " 'startswith',\n",
              " 'strip',\n",
              " 'swapcase',\n",
              " 'title',\n",
              " 'translate',\n",
              " 'upper',\n",
              " 'zfill']"
            ]
          },
          "metadata": {},
          "execution_count": 3
        }
      ]
    },
    {
      "cell_type": "markdown",
      "metadata": {
        "id": "vR7v8dGo-CcP"
      },
      "source": [
        "We now have the text as a string of characters, and the len() function has told us how many characters are in that text. The type() function has shown us that the data type is \"str\" for string. Remember that in Python a string is an immutable type that we can \"slice\" using the square brackets slicing technique."
      ]
    },
    {
      "cell_type": "code",
      "metadata": {
        "id": "Z5hmrNQaaIJi",
        "colab": {
          "base_uri": "https://localhost:8080/",
          "height": 35
        },
        "outputId": "0b89b867-e739-461f-f345-0008bf423988"
      },
      "source": [
        "emmatext[:120] # Show the first 120 characters"
      ],
      "execution_count": 4,
      "outputs": [
        {
          "output_type": "execute_result",
          "data": {
            "text/plain": [
              "'[Emma by Jane Austen 1816]\\n\\nVOLUME I\\n\\nCHAPTER I\\n\\n\\nEmma Woodhouse, handsome, clever, and rich, with a comfortable home\\nan'"
            ],
            "application/vnd.google.colaboratory.intrinsic+json": {
              "type": "string"
            }
          },
          "metadata": {},
          "execution_count": 4
        }
      ]
    },
    {
      "cell_type": "markdown",
      "metadata": {
        "id": "MnySamjD_H4R"
      },
      "source": [
        "**Part 1 - Tokenization**\n",
        "\n",
        "As you know from the readings, tokenizing seems easy but has many complications. There are many code implementations of tokenization (in a variety of programming languages). NLTK has several tokenizers available to break  raw text into tokens; we will start by using one called \"punkt,\" that was trained on news articles. This tokenizer separates by white space and by special characters (punctuation), but also is smart enough to avoid certain splits that should probably not occur, such as \"Mr.\""
      ]
    },
    {
      "cell_type": "code",
      "metadata": {
        "id": "6y1EAHzQaIJi",
        "colab": {
          "base_uri": "https://localhost:8080/"
        },
        "outputId": "6da4c22c-eb35-41bb-8738-df136e80502d"
      },
      "source": [
        "nltk.download('punkt') # Punkt is a sentence tokenizer\n",
        "emmatokens = nltk.word_tokenize(emmatext) # Break the string into tokens\n",
        "\n",
        "type(emmatokens)"
      ],
      "execution_count": 5,
      "outputs": [
        {
          "output_type": "stream",
          "name": "stderr",
          "text": [
            "[nltk_data] Downloading package punkt to /root/nltk_data...\n",
            "[nltk_data]   Unzipping tokenizers/punkt.zip.\n"
          ]
        },
        {
          "output_type": "execute_result",
          "data": {
            "text/plain": [
              "list"
            ]
          },
          "metadata": {},
          "execution_count": 5
        }
      ]
    },
    {
      "cell_type": "code",
      "metadata": {
        "id": "Ju1SULQojT17",
        "colab": {
          "base_uri": "https://localhost:8080/"
        },
        "outputId": "7e54524c-625b-4ff5-f7e8-5fdcb17bdacd"
      },
      "source": [
        "len(emmatokens) # How many tokens before we do any other transformations?\n"
      ],
      "execution_count": 6,
      "outputs": [
        {
          "output_type": "execute_result",
          "data": {
            "text/plain": [
              "191785"
            ]
          },
          "metadata": {},
          "execution_count": 6
        }
      ]
    },
    {
      "cell_type": "code",
      "metadata": {
        "id": "5L2wPRUp_86p",
        "colab": {
          "base_uri": "https://localhost:8080/"
        },
        "outputId": "58ed079f-253c-42c5-81fb-85a139088c02"
      },
      "source": [
        "# Now just out of curiosity, what is the average number of characters in\n",
        "# each token? Add a line of code that divides the total number of characters\n",
        "# in the book by the total number of tokens.\n",
        "\n",
        "# 2.2: Add a computation for the average number of characters per token.\n",
        "len(emmatext)/len(emmatokens)"
      ],
      "execution_count": 7,
      "outputs": [
        {
          "output_type": "execute_result",
          "data": {
            "text/plain": [
              "4.625340876502333"
            ]
          },
          "metadata": {},
          "execution_count": 7
        }
      ]
    },
    {
      "cell_type": "code",
      "metadata": {
        "id": "3wUuDGunaIJi",
        "colab": {
          "base_uri": "https://localhost:8080/"
        },
        "outputId": "c84960d0-5c56-461c-89cd-e4da40e69ea8"
      },
      "source": [
        "# Next, we will use a list comprehension to process each token into lowercase.\n",
        "emmawords = [w.lower() for w in emmatokens]\n",
        "len(emmawords) # How many after the lowercase transformation?\n"
      ],
      "execution_count": 8,
      "outputs": [
        {
          "output_type": "execute_result",
          "data": {
            "text/plain": [
              "191785"
            ]
          },
          "metadata": {},
          "execution_count": 8
        }
      ]
    },
    {
      "cell_type": "code",
      "metadata": {
        "id": "jDrzXcufjncx",
        "colab": {
          "base_uri": "https://localhost:8080/"
        },
        "outputId": "4f5ead05-388f-4baa-e0a5-cafda72c5c90"
      },
      "source": [
        "emmawords[:20] # What are the first 20 tokens (unsorted)"
      ],
      "execution_count": 9,
      "outputs": [
        {
          "output_type": "execute_result",
          "data": {
            "text/plain": [
              "['[',\n",
              " 'emma',\n",
              " 'by',\n",
              " 'jane',\n",
              " 'austen',\n",
              " '1816',\n",
              " ']',\n",
              " 'volume',\n",
              " 'i',\n",
              " 'chapter',\n",
              " 'i',\n",
              " 'emma',\n",
              " 'woodhouse',\n",
              " ',',\n",
              " 'handsome',\n",
              " ',',\n",
              " 'clever',\n",
              " ',',\n",
              " 'and',\n",
              " 'rich']"
            ]
          },
          "metadata": {},
          "execution_count": 9
        }
      ]
    },
    {
      "cell_type": "code",
      "source": [
        "emmatextText = nltk.Text(emmawords)\n",
        "emmatextText.dispersion_plot(['emma', 'comfortable', 'happy'])"
      ],
      "metadata": {
        "colab": {
          "base_uri": "https://localhost:8080/",
          "height": 472
        },
        "id": "O_kbWc6zgiib",
        "outputId": "be7b34c3-1688-43c4-b903-af1ec3b81dd1"
      },
      "execution_count": 10,
      "outputs": [
        {
          "output_type": "display_data",
          "data": {
            "text/plain": [
              "<Figure size 640x480 with 1 Axes>"
            ],
            "image/png": "[encoded data removed]"
          },
          "metadata": {}
        }
      ]
    },
    {
      "cell_type": "markdown",
      "metadata": {
        "id": "llM5yQ4NEGTX"
      },
      "source": [
        "Check out the items shown above: We will probably want to get rid of the tokens containing punctuation and other special characters. We can do a simple treatment here based on Python’s string methods. One of the methods is s.isalpha() that checks if s is non-empty and all characters in s are alphabetic. If s meets this condition, then s.isalpha() has a True value, otherwise its value is False. So we can fill the list revisedemmawords as follows:"
      ]
    },
    {
      "cell_type": "code",
      "metadata": {
        "id": "GPCCdpgpaIJj",
        "colab": {
          "base_uri": "https://localhost:8080/"
        },
        "outputId": "101f43c3-54c1-4c57-fd5b-8c5354581869"
      },
      "source": [
        "# Here's another list comprehension: This one retains a token only if it\n",
        "# passes the isalpha() test. Note that we use emmawords as our source list\n",
        "# here, so we will (intentionally) not end up with a unique vocabulary list.\n",
        "revisedemmawords = [w for w in emmawords if w.isalpha()] # Only keep alpha tokens\n",
        "revisedemmawords[:20]"
      ],
      "execution_count": 11,
      "outputs": [
        {
          "output_type": "execute_result",
          "data": {
            "text/plain": [
              "['emma',\n",
              " 'by',\n",
              " 'jane',\n",
              " 'austen',\n",
              " 'volume',\n",
              " 'i',\n",
              " 'chapter',\n",
              " 'i',\n",
              " 'emma',\n",
              " 'woodhouse',\n",
              " 'handsome',\n",
              " 'clever',\n",
              " 'and',\n",
              " 'rich',\n",
              " 'with',\n",
              " 'a',\n",
              " 'comfortable',\n",
              " 'home',\n",
              " 'and',\n",
              " 'happy']"
            ]
          },
          "metadata": {},
          "execution_count": 11
        }
      ]
    },
    {
      "cell_type": "code",
      "source": [
        "# Here we use the set() function to create a list of unique\n",
        "# token values. We will call this \"emmavocab\" because this is the\n",
        "# unique vocabulary of words, numbers, and punctuation from the book.\n",
        "emmavocab = sorted(set(revisedemmawords)) # Now sort them\n",
        "emmavocab[:20] # And look at the first 20 in sorted order"
      ],
      "metadata": {
        "colab": {
          "base_uri": "https://localhost:8080/"
        },
        "id": "1yqoxoc4gwaE",
        "outputId": "91efc32a-8546-4164-eb53-1071716b16d8"
      },
      "execution_count": 12,
      "outputs": [
        {
          "output_type": "execute_result",
          "data": {
            "text/plain": [
              "['a',\n",
              " 'abbey',\n",
              " 'abbots',\n",
              " 'abdy',\n",
              " 'abhor',\n",
              " 'abhorred',\n",
              " 'abide',\n",
              " 'abilities',\n",
              " 'able',\n",
              " 'abode',\n",
              " 'abolition',\n",
              " 'abominable',\n",
              " 'about',\n",
              " 'above',\n",
              " 'abroad',\n",
              " 'abrupt',\n",
              " 'abruptly',\n",
              " 'abruptness',\n",
              " 'absence',\n",
              " 'absences']"
            ]
          },
          "metadata": {},
          "execution_count": 12
        }
      ]
    },
    {
      "cell_type": "code",
      "metadata": {
        "id": "NR3UV3L0BwVN",
        "colab": {
          "base_uri": "https://localhost:8080/"
        },
        "outputId": "acfb389d-1d21-42a5-afa0-056fe2200044"
      },
      "source": [
        "# Next, try a list comprehension and the s.isnumeric() test to create a new list\n",
        "# of all the tokens in emmawords that are purely numeric. Show a list of\n",
        "# all of those tokens. You can borrow and modify the code from the previous\n",
        "# cell, but make sure to assign to a new variable name such as emmanumbers.\n",
        "\n",
        "# 2.3: Create and show a list of tokens that are numbers.\n",
        "\n",
        "revisedemmanumbers = [w for w in emmawords if w.isnumeric()] # Only keep alpha tokens\n",
        "revisedemmanumbers[:20]"
      ],
      "execution_count": 13,
      "outputs": [
        {
          "output_type": "execute_result",
          "data": {
            "text/plain": [
              "['1816']"
            ]
          },
          "metadata": {},
          "execution_count": 13
        }
      ]
    },
    {
      "cell_type": "markdown",
      "metadata": {
        "id": "AJT5SYBNFAom"
      },
      "source": [
        "**Part 2 - Frequency Distribution**\n",
        "\n",
        "NLTK offers a set of functions that create and manipulate a data structure called a Frequency Distribution or FreqDist. This structure is a specialized class that is an extension of the powerful Python dictionary data type.  We can import it from the nltk probability module. This class allows you to make a Frequency Distribution just by initializing it with a list of words.  It will do all the counting for you and create a distribution in which the set of keys are all the words, and the set of values are the frequency (count) of each word. See Table 2.1 in this chapter of the NLTK book:\n",
        "http://www.nltk.org/book_1ed/ch01.html\n"
      ]
    },
    {
      "cell_type": "code",
      "metadata": {
        "id": "MmNfDQ_1aIJj",
        "colab": {
          "base_uri": "https://localhost:8080/"
        },
        "outputId": "81965bba-2b2e-461e-c2a4-0fb865915e06"
      },
      "source": [
        "from nltk import FreqDist\n",
        "fdist = FreqDist(revisedemmawords) # This creates a list of frequencies for words\n",
        "type(fdist)"
      ],
      "execution_count": 14,
      "outputs": [
        {
          "output_type": "execute_result",
          "data": {
            "text/plain": [
              "nltk.probability.FreqDist"
            ]
          },
          "metadata": {},
          "execution_count": 14
        }
      ]
    },
    {
      "cell_type": "code",
      "source": [
        "dir(fdist) # These are the attributes of the object\n",
        "# Check out how the end of the list shows all of the methods"
      ],
      "metadata": {
        "colab": {
          "base_uri": "https://localhost:8080/"
        },
        "id": "vAIEH9mME3Ru",
        "outputId": "77c18396-cb5e-466e-bcd4-3998804a8df5"
      },
      "execution_count": 15,
      "outputs": [
        {
          "output_type": "execute_result",
          "data": {
            "text/plain": [
              "['B',\n",
              " 'N',\n",
              " 'Nr',\n",
              " '_N',\n",
              " '__add__',\n",
              " '__and__',\n",
              " '__class__',\n",
              " '__class_getitem__',\n",
              " '__contains__',\n",
              " '__delattr__',\n",
              " '__delitem__',\n",
              " '__dict__',\n",
              " '__dir__',\n",
              " '__doc__',\n",
              " '__eq__',\n",
              " '__format__',\n",
              " '__ge__',\n",
              " '__getattribute__',\n",
              " '__getitem__',\n",
              " '__gt__',\n",
              " '__hash__',\n",
              " '__iadd__',\n",
              " '__iand__',\n",
              " '__init__',\n",
              " '__init_subclass__',\n",
              " '__ior__',\n",
              " '__isub__',\n",
              " '__iter__',\n",
              " '__le__',\n",
              " '__len__',\n",
              " '__lt__',\n",
              " '__missing__',\n",
              " '__module__',\n",
              " '__ne__',\n",
              " '__neg__',\n",
              " '__new__',\n",
              " '__or__',\n",
              " '__pos__',\n",
              " '__reduce__',\n",
              " '__reduce_ex__',\n",
              " '__repr__',\n",
              " '__reversed__',\n",
              " '__ror__',\n",
              " '__setattr__',\n",
              " '__setitem__',\n",
              " '__sizeof__',\n",
              " '__str__',\n",
              " '__sub__',\n",
              " '__subclasshook__',\n",
              " '__weakref__',\n",
              " '_cumulative_frequencies',\n",
              " '_keep_positive',\n",
              " 'clear',\n",
              " 'copy',\n",
              " 'elements',\n",
              " 'freq',\n",
              " 'fromkeys',\n",
              " 'get',\n",
              " 'hapaxes',\n",
              " 'items',\n",
              " 'keys',\n",
              " 'max',\n",
              " 'most_common',\n",
              " 'pformat',\n",
              " 'plot',\n",
              " 'pop',\n",
              " 'popitem',\n",
              " 'pprint',\n",
              " 'r_Nr',\n",
              " 'setdefault',\n",
              " 'subtract',\n",
              " 'tabulate',\n",
              " 'total',\n",
              " 'update',\n",
              " 'values']"
            ]
          },
          "metadata": {},
          "execution_count": 15
        }
      ]
    },
    {
      "cell_type": "code",
      "metadata": {
        "id": "ASpe1-uHFfvx",
        "colab": {
          "base_uri": "https://localhost:8080/"
        },
        "outputId": "caecfa46-09be-4ace-9fe7-3be3beecfa91"
      },
      "source": [
        " # Let's see the bound methods associated with this type.\n",
        "[m for m in dir(fdist) if m[0:1]!='_'] # Ignore the private attributes"
      ],
      "execution_count": 16,
      "outputs": [
        {
          "output_type": "execute_result",
          "data": {
            "text/plain": [
              "['B',\n",
              " 'N',\n",
              " 'Nr',\n",
              " 'clear',\n",
              " 'copy',\n",
              " 'elements',\n",
              " 'freq',\n",
              " 'fromkeys',\n",
              " 'get',\n",
              " 'hapaxes',\n",
              " 'items',\n",
              " 'keys',\n",
              " 'max',\n",
              " 'most_common',\n",
              " 'pformat',\n",
              " 'plot',\n",
              " 'pop',\n",
              " 'popitem',\n",
              " 'pprint',\n",
              " 'r_Nr',\n",
              " 'setdefault',\n",
              " 'subtract',\n",
              " 'tabulate',\n",
              " 'total',\n",
              " 'update',\n",
              " 'values']"
            ]
          },
          "metadata": {},
          "execution_count": 16
        }
      ]
    },
    {
      "cell_type": "code",
      "metadata": {
        "id": "CPDCFIDbFTFd",
        "colab": {
          "base_uri": "https://localhost:8080/"
        },
        "outputId": "1838c731-fc68-4642-e843-ffeca5311d2b"
      },
      "source": [
        "# Note that the list of bound methods above includes \"keys().\" In Python\n",
        "# a dictionary has \"key-value\" pairs. Python uses highly efficient\n",
        "# methods to help you find a \"key\" and return the associated \"value.\"\n",
        "fdistkeys = list(fdist.keys()) # The keys are the words/tokens\n",
        "fdistkeys[:20] # Look at the first 20 keys/words"
      ],
      "execution_count": 17,
      "outputs": [
        {
          "output_type": "execute_result",
          "data": {
            "text/plain": [
              "['emma',\n",
              " 'by',\n",
              " 'jane',\n",
              " 'austen',\n",
              " 'volume',\n",
              " 'i',\n",
              " 'chapter',\n",
              " 'woodhouse',\n",
              " 'handsome',\n",
              " 'clever',\n",
              " 'and',\n",
              " 'rich',\n",
              " 'with',\n",
              " 'a',\n",
              " 'comfortable',\n",
              " 'home',\n",
              " 'happy',\n",
              " 'disposition',\n",
              " 'seemed',\n",
              " 'to']"
            ]
          },
          "metadata": {},
          "execution_count": 17
        }
      ]
    },
    {
      "cell_type": "code",
      "metadata": {
        "id": "112UxUFHaIJj",
        "colab": {
          "base_uri": "https://localhost:8080/"
        },
        "outputId": "90b26014-84c3-460b-ffc7-7703ff28ff45"
      },
      "source": [
        "# Because this class behaves like a dictionary, we can supply the\n",
        "# name of a key and Python will return the associated value.\n",
        "\n",
        "fdist['the'] # Look at the frequency of one word"
      ],
      "execution_count": 18,
      "outputs": [
        {
          "output_type": "execute_result",
          "data": {
            "text/plain": [
              "5201"
            ]
          },
          "metadata": {},
          "execution_count": 18
        }
      ]
    },
    {
      "cell_type": "code",
      "metadata": {
        "id": "y5sx2E3gaIJk",
        "colab": {
          "base_uri": "https://localhost:8080/"
        },
        "outputId": "fde937e5-d0cf-41e1-8a1d-edecb6d3c04b"
      },
      "source": [
        "# Look back a couple of cells for the bound method list and you will also\n",
        "# see most_common, which will give us a list of the key-value pairs with\n",
        "# the highest frequencies.\n",
        "topkeys = fdist.most_common(20)\n",
        "\n",
        "# In this for loop, \"pair\" refers to the word together with its frequency value\n",
        "for pair in topkeys:\n",
        "    print (pair)"
      ],
      "execution_count": 19,
      "outputs": [
        {
          "output_type": "stream",
          "name": "stdout",
          "text": [
            "('the', 5201)\n",
            "('to', 5181)\n",
            "('and', 4877)\n",
            "('of', 4284)\n",
            "('i', 3177)\n",
            "('a', 3124)\n",
            "('it', 2503)\n",
            "('her', 2448)\n",
            "('was', 2396)\n",
            "('she', 2336)\n",
            "('not', 2281)\n",
            "('in', 2173)\n",
            "('be', 1970)\n",
            "('you', 1967)\n",
            "('he', 1806)\n",
            "('that', 1805)\n",
            "('had', 1623)\n",
            "('but', 1441)\n",
            "('as', 1436)\n",
            "('for', 1346)\n"
          ]
        }
      ]
    },
    {
      "cell_type": "code",
      "metadata": {
        "id": "u6ioOIu_aIJk",
        "colab": {
          "base_uri": "https://localhost:8080/"
        },
        "outputId": "24a4342d-a849-4323-8134-b80acae80f91"
      },
      "source": [
        "# You can tell by the parentheses above that each entry in topkeys is a tuple.\n",
        "# Remember that tuples are immutable, so each key is \"glued\" to its\n",
        "# corresponding frequency value, which can't be changed.\n",
        "type(topkeys[0])"
      ],
      "execution_count": 20,
      "outputs": [
        {
          "output_type": "execute_result",
          "data": {
            "text/plain": [
              "tuple"
            ]
          },
          "metadata": {},
          "execution_count": 20
        }
      ]
    },
    {
      "cell_type": "code",
      "metadata": {
        "id": "l_IDNul2JVjF",
        "colab": {
          "base_uri": "https://localhost:8080/"
        },
        "outputId": "33953de2-9f93-4870-c264-8d5bdaf1b264"
      },
      "source": [
        "# We can use slicing to get at the individual elements in this list of tuples\n",
        "# but it is often more convenient to use the bound methods to analyze\n",
        "# our frequency data.\n",
        "for item in topkeys:\n",
        "  print(\"The word\", item[0], \"occurs\", item[1], \"times.\")"
      ],
      "execution_count": 21,
      "outputs": [
        {
          "output_type": "stream",
          "name": "stdout",
          "text": [
            "The word the occurs 5201 times.\n",
            "The word to occurs 5181 times.\n",
            "The word and occurs 4877 times.\n",
            "The word of occurs 4284 times.\n",
            "The word i occurs 3177 times.\n",
            "The word a occurs 3124 times.\n",
            "The word it occurs 2503 times.\n",
            "The word her occurs 2448 times.\n",
            "The word was occurs 2396 times.\n",
            "The word she occurs 2336 times.\n",
            "The word not occurs 2281 times.\n",
            "The word in occurs 2173 times.\n",
            "The word be occurs 1970 times.\n",
            "The word you occurs 1967 times.\n",
            "The word he occurs 1806 times.\n",
            "The word that occurs 1805 times.\n",
            "The word had occurs 1623 times.\n",
            "The word but occurs 1441 times.\n",
            "The word as occurs 1436 times.\n",
            "The word for occurs 1346 times.\n"
          ]
        }
      ]
    },
    {
      "cell_type": "markdown",
      "metadata": {
        "id": "goKDPHZBh2p7"
      },
      "source": [
        "In corpus linguistics, a hapax legomenon is a word or an expression that occurs just once within a corpus. NLTK provides a bound method for accessing the list of hapaxes. For certain kinds of text analysis, these might be good words to ignore, because they are so rare, but on the other hand they could be useful for searches because of their uniqueness!"
      ]
    },
    {
      "cell_type": "code",
      "metadata": {
        "id": "OzEM5xm6Mf5Z",
        "colab": {
          "base_uri": "https://localhost:8080/"
        },
        "outputId": "56ef6dfc-8bd8-4e4c-8234-c2d97da338af"
      },
      "source": [
        "len(fdist.hapaxes()) # How many tokens occur just once?"
      ],
      "execution_count": 22,
      "outputs": [
        {
          "output_type": "execute_result",
          "data": {
            "text/plain": [
              "2685"
            ]
          },
          "metadata": {},
          "execution_count": 22
        }
      ]
    },
    {
      "cell_type": "code",
      "metadata": {
        "id": "x8zhCLqYNPTu",
        "colab": {
          "base_uri": "https://localhost:8080/",
          "height": 35
        },
        "outputId": "c3ff17b0-adcf-4fcc-f5c7-2e829145c781"
      },
      "source": [
        "fdist.max() # Which is the most frequent token?"
      ],
      "execution_count": 23,
      "outputs": [
        {
          "output_type": "execute_result",
          "data": {
            "text/plain": [
              "'the'"
            ],
            "application/vnd.google.colaboratory.intrinsic+json": {
              "type": "string"
            }
          },
          "metadata": {},
          "execution_count": 23
        }
      ]
    },
    {
      "cell_type": "code",
      "metadata": {
        "id": "MG5242NyLlCm",
        "colab": {
          "base_uri": "https://localhost:8080/",
          "height": 520
        },
        "outputId": "75c5bae3-04a9-4508-fe5b-49b62adf85dd"
      },
      "source": [
        "# Using the bound method plot(), we can make a frequency plot:\n",
        "fdist.plot(30, title=\"Top 30 Tokens by Frequency\")"
      ],
      "execution_count": 27,
      "outputs": [
        {
          "output_type": "display_data",
          "data": {
            "text/plain": [
              "<Figure size 640x480 with 1 Axes>"
            ],
            "image/png": "[encoded data removed]"
          },
          "metadata": {}
        },
        {
          "output_type": "execute_result",
          "data": {
            "text/plain": [
              "<Axes: title={'center': 'Top 30 Tokens by Frequency'}, xlabel='Samples', ylabel='Counts'>"
            ]
          },
          "metadata": {},
          "execution_count": 27
        }
      ]
    },
    {
      "cell_type": "code",
      "metadata": {
        "id": "aK-XrtmFN6QG",
        "colab": {
          "base_uri": "https://localhost:8080/",
          "height": 448
        },
        "outputId": "d7ebb136-e4da-47c4-9c4c-1b0e83d9ef0b"
      },
      "source": [
        "# A brief illustration of Zipf's law\n",
        "import math # We will need the log() function\n",
        "import matplotlib.pyplot as plt # And we will make a simple plot\n",
        "\n",
        "# Calculate a list of the logs of the word frequency values using\n",
        "# a list comprehension and sorting from largest to smallest.\n",
        "log_freqs = [math.log(v) for v in sorted(fdist.values(), reverse=True)]\n",
        "\n",
        "# Make a list of integers (i.e., ranks) and calculate their logs\n",
        "log_ranks = [math.log(r+1) for r in range(len(log_freqs))]\n",
        "\n",
        "plt.plot(log_ranks, log_freqs) # Show the result"
      ],
      "execution_count": 28,
      "outputs": [
        {
          "output_type": "execute_result",
          "data": {
            "text/plain": [
              "[<matplotlib.lines.Line2D at 0x7e2fd9419ff0>]"
            ]
          },
          "metadata": {},
          "execution_count": 28
        },
        {
          "output_type": "display_data",
          "data": {
            "text/plain": [
              "<Figure size 640x480 with 1 Axes>"
            ],
            "image/png": "[encoded data removed]"
          },
          "metadata": {}
        }
      ]
    },
    {
      "cell_type": "markdown",
      "metadata": {
        "id": "uvv7nFbRCq2X"
      },
      "source": [
        "Now you repeat the word frequency analysis process with a new book, Jane Austen's *Persuasion*. This is the last complete book Austen wrote and it is considerably shorter than *Emma*. Even so, Zipf's law should still hold! The setup code for producing a list of lowercase, alpha-only tokens, appears below. Add some lines of code in the next block to conduct the frequency analysis and finish up with a Zipf plot."
      ]
    },
    {
      "cell_type": "code",
      "metadata": {
        "id": "rtXw9z6eaIJl",
        "colab": {
          "base_uri": "https://localhost:8080/"
        },
        "outputId": "cf844185-4509-4fb4-8c34-18783026a1dc"
      },
      "source": [
        "file1 = nltk.corpus.gutenberg.fileids()[1] # Extract the second book name\n",
        "persuasiontext = nltk.corpus.gutenberg.raw(file1) # Get the raw text\n",
        "persuasiontokens = nltk.word_tokenize(persuasiontext) # Tokenize\n",
        "persuasionwords = [w.lower() for w in persuasiontokens]\n",
        "alphapersuasion = [w for w in persuasionwords if w.isalpha()]\n",
        "len(alphapersuasion)"
      ],
      "execution_count": 29,
      "outputs": [
        {
          "output_type": "execute_result",
          "data": {
            "text/plain": [
              "83013"
            ]
          },
          "metadata": {},
          "execution_count": 29
        }
      ]
    },
    {
      "cell_type": "code",
      "metadata": {
        "id": "6EYpPphdDtTp",
        "colab": {
          "base_uri": "https://localhost:8080/",
          "height": 1000
        },
        "outputId": "00c64e89-0096-4032-a8c4-c50643875175"
      },
      "source": [
        "# Use alphapersuasion in these analyses. Contrast the results of these\n",
        "# analyses with those above for Emma.\n",
        "\n",
        "# 2.4: Create a FreqDist using NLTK's function for this purpose\n",
        "\n",
        "from nltk import FreqDist\n",
        "fdist = FreqDist(alphapersuasion)\n",
        "\n",
        "# 2.5: Show the 20 most common words in the FreqDist dictionary\n",
        "topkeys = fdist.most_common(20)\n",
        "\n",
        "print(\"2.5: \")\n",
        "for pair in topkeys:\n",
        "    print (pair)\n",
        "\n",
        "# 2.6: Show the frequency of the word \"the\"\n",
        "print(\"\\n2.6: \", fdist['the'] )\n",
        "\n",
        "\n",
        "# 2.7: Plot the top 20 tokens by frequency\n",
        "\n",
        "print(\"\\n2.7\")\n",
        "fdist.plot(20, title=\"Top 20 Tokens by Frequency\")\n",
        "\n",
        "# 2.8: Develop a Zipf plot and write a comment describing its shape.\n",
        "\n",
        "# A brief illustration of Zipf's law\n",
        "print(\"\\n2.8\")\n",
        "import math # We will need the log() function\n",
        "import matplotlib.pyplot as plt # And we will make a simple plot\n",
        "\n",
        "# Calculate a list of the logs of the word frequency values using\n",
        "# a list comprehension and sorting from largest to smallest.\n",
        "log_freqs = [math.log(v) for v in sorted(fdist.values(), reverse=True)]\n",
        "\n",
        "# Make a list of integers (i.e., ranks) and calculate their logs\n",
        "log_ranks = [math.log(r+1) for r in range(len(log_freqs))]\n",
        "\n",
        "plt.plot(log_ranks, log_freqs) # Show the result\n",
        "\n",
        "\n",
        "# Does the plot for Persuasion seem to conform to Zipf's law?"
      ],
      "execution_count": 47,
      "outputs": [
        {
          "output_type": "stream",
          "name": "stdout",
          "text": [
            "2.5: \n",
            "('the', 3328)\n",
            "('and', 2786)\n",
            "('to', 2782)\n",
            "('of', 2568)\n",
            "('a', 1592)\n",
            "('in', 1383)\n",
            "('was', 1337)\n",
            "('her', 1203)\n",
            "('had', 1186)\n",
            "('she', 1146)\n",
            "('i', 1123)\n",
            "('it', 1038)\n",
            "('not', 976)\n",
            "('he', 961)\n",
            "('be', 950)\n",
            "('that', 882)\n",
            "('as', 809)\n",
            "('for', 707)\n",
            "('but', 664)\n",
            "('his', 659)\n",
            "\n",
            "2.6:  3328\n",
            "\n",
            "2.7\n"
          ]
        },
        {
          "output_type": "display_data",
          "data": {
            "text/plain": [
              "<Figure size 640x480 with 1 Axes>"
            ],
            "image/png": "[encoded data removed]"
          },
          "metadata": {}
        },
        {
          "output_type": "stream",
          "name": "stdout",
          "text": [
            "\n",
            "2.8\n"
          ]
        },
        {
          "output_type": "execute_result",
          "data": {
            "text/plain": [
              "[<matplotlib.lines.Line2D at 0x7e2fd816a830>]"
            ]
          },
          "metadata": {},
          "execution_count": 47
        },
        {
          "output_type": "display_data",
          "data": {
            "text/plain": [
              "<Figure size 640x480 with 1 Axes>"
            ],
            "image/png": "[encoded data removed]"
          },
          "metadata": {}
        }
      ]
    },
    {
      "cell_type": "markdown",
      "metadata": {
        "id": "Vq-ba9YlHPy8"
      },
      "source": [
        "**Part 3 - Regular Expression and Tokenization**\n",
        "\n",
        "In this next phase of the lab, we will begin a deeper exploration of tokenization. Additionally, we will continue our exploration of corpus liguistics by looking at bigrams. We will start with a simple introduction to regular expressions - a kind of language-within-a-language for pattern matching. We will use Python's \"re\" package for regular expressions. The re.compile() function preprocesses our pattern so that it can easily be reused."
      ]
    },
    {
      "cell_type": "code",
      "metadata": {
        "id": "id9HAkCUHPCH",
        "colab": {
          "base_uri": "https://localhost:8080/"
        },
        "outputId": "d9f04171-f5d6-4077-af29-3a17caafc3b2"
      },
      "source": [
        "# Rather than a whole book, let's just work with one sentence:\n",
        "sentence = \"thomas jefferson began building monticello at the age of twenty-six.\"\n",
        "\n",
        "# Now get set up to build a regular expression\n",
        "import re\n",
        "pattern = re.compile('^[a-z]+')\n",
        "type(pattern) # What is it?"
      ],
      "execution_count": 48,
      "outputs": [
        {
          "output_type": "execute_result",
          "data": {
            "text/plain": [
              "re.Pattern"
            ]
          },
          "metadata": {},
          "execution_count": 48
        }
      ]
    },
    {
      "cell_type": "code",
      "metadata": {
        "id": "cvcnIFLqHO1p",
        "colab": {
          "base_uri": "https://localhost:8080/"
        },
        "outputId": "6f5823b7-2349-4527-911b-085dae6856dd"
      },
      "source": [
        "# Let's see what this pattern can do for us\n",
        "print(pattern.match(sentence)) # Show the details of when a match occurs"
      ],
      "execution_count": 54,
      "outputs": [
        {
          "output_type": "stream",
          "name": "stdout",
          "text": [
            "<re.Match object; span=(0, 6), match='thomas'>\n"
          ]
        }
      ]
    },
    {
      "cell_type": "markdown",
      "metadata": {
        "id": "gFVH2dM1L9F1"
      },
      "source": [
        "So the pattern that we saved using this command, re.compile('^[a-z]+'), looks for the start of a string with the ^ character, followed by any number of the characters a through z (lowercase). This yielded one match that starts at character zero and goes for six characters in total. So we have successfully parsed the first word of the sentence, but what about the rest? Let's do two things: first, if we get rid of the ^ then we won't just match at the beginning of the sentence. Second, if we use findall() instead of match(), we can get a complete list of matches rather than just the first one."
      ]
    },
    {
      "cell_type": "code",
      "metadata": {
        "id": "8S0RPYJlMhmL",
        "colab": {
          "base_uri": "https://localhost:8080/"
        },
        "outputId": "7be62a96-6386-4b5a-ad20-22da6f1ed151"
      },
      "source": [
        "pattern = re.compile('[a-z]+')\n",
        "print(pattern.findall(sentence))"
      ],
      "execution_count": 52,
      "outputs": [
        {
          "output_type": "stream",
          "name": "stdout",
          "text": [
            "['thomas', 'jefferson', 'began', 'building', 'monticello', 'at', 'the', 'age', 'of', 'twenty', 'six']\n"
          ]
        }
      ]
    },
    {
      "cell_type": "markdown",
      "metadata": {
        "id": "t6oF-c6gNr3l"
      },
      "source": [
        "Note that we have saved all the words and discarded the spaces and the punctuation, including the dash in the hyphenated phrase, twenty-six. Python provides a similar capability with the .split() bound method that can be applied to any string:"
      ]
    },
    {
      "cell_type": "code",
      "metadata": {
        "id": "CTUdUO57OAuh",
        "colab": {
          "base_uri": "https://localhost:8080/"
        },
        "outputId": "fbcad437-9884-43d2-f660-c266a573c85f"
      },
      "source": [
        "# Space is the default for the splitting character, but we provide it explicitly\n",
        "# here just to make the point that this is what the method does.\n",
        "sentence.split(sep=' ')\n"
      ],
      "execution_count": 55,
      "outputs": [
        {
          "output_type": "execute_result",
          "data": {
            "text/plain": [
              "['thomas',\n",
              " 'jefferson',\n",
              " 'began',\n",
              " 'building',\n",
              " 'monticello',\n",
              " 'at',\n",
              " 'the',\n",
              " 'age',\n",
              " 'of',\n",
              " 'twenty-six.']"
            ]
          },
          "metadata": {},
          "execution_count": 55
        }
      ]
    },
    {
      "cell_type": "code",
      "metadata": {
        "id": "0yElCQG6Pgs0",
        "colab": {
          "base_uri": "https://localhost:8080/"
        },
        "outputId": "508146c2-2b69-4718-cf1c-08b2b9a7c420"
      },
      "source": [
        "# Note how the punctuation is retained in the example above and here.\n",
        "# A regular expression can also be used to do splits, like this pattern\n",
        "# that matches any number of whitespace characters and performs splits\n",
        "# using those matches:\n",
        "spattern = re.compile('\\s+')\n",
        "spattern.split(sentence)"
      ],
      "execution_count": 56,
      "outputs": [
        {
          "output_type": "execute_result",
          "data": {
            "text/plain": [
              "['thomas',\n",
              " 'jefferson',\n",
              " 'began',\n",
              " 'building',\n",
              " 'monticello',\n",
              " 'at',\n",
              " 'the',\n",
              " 'age',\n",
              " 'of',\n",
              " 'twenty-six.']"
            ]
          },
          "metadata": {},
          "execution_count": 56
        }
      ]
    },
    {
      "cell_type": "markdown",
      "metadata": {
        "id": "FsIcE42nkA3u"
      },
      "source": [
        "In both of the preceding examples, you should be able to explain why the final token contains both the dash character and the period. What do you think of this result? Is it better to keep dashes in hyphenated phrases? Should punctuation tokens like periods be peeled off into separate tokens?"
      ]
    },
    {
      "cell_type": "code",
      "metadata": {
        "id": "OdtpfXlmVrWr",
        "colab": {
          "base_uri": "https://localhost:8080/"
        },
        "outputId": "2e070066-f4fc-4f8a-f504-fc3f49f33cc0"
      },
      "source": [
        "# The NLTK package also contains a tokenizer that can use regular expressions\n",
        "# to do the splitting. Here's an example:\n",
        "from nltk.tokenize import RegexpTokenizer\n",
        "\n",
        "# This matches \\w (any word character) or any number of characters that are not a space.\n",
        "my_tokenizer = RegexpTokenizer(r'\\w+|\\S+')\n",
        "my_tokenizer.tokenize(sentence)"
      ],
      "execution_count": 57,
      "outputs": [
        {
          "output_type": "execute_result",
          "data": {
            "text/plain": [
              "['thomas',\n",
              " 'jefferson',\n",
              " 'began',\n",
              " 'building',\n",
              " 'monticello',\n",
              " 'at',\n",
              " 'the',\n",
              " 'age',\n",
              " 'of',\n",
              " 'twenty',\n",
              " '-six.']"
            ]
          },
          "metadata": {},
          "execution_count": 57
        }
      ]
    },
    {
      "cell_type": "code",
      "source": [
        "sentence = \"thomas jefferson began building monticello at the age of twenty-six \"\n",
        "my_tokenizer = RegexpTokenizer(r'\\w+|\\s+')\n",
        "my_tokenizer.tokenize(sentence)"
      ],
      "metadata": {
        "colab": {
          "base_uri": "https://localhost:8080/"
        },
        "id": "8-Oa5IkUhzMw",
        "outputId": "d2f25e00-561f-40dd-8f11-095130661aa8"
      },
      "execution_count": 58,
      "outputs": [
        {
          "output_type": "execute_result",
          "data": {
            "text/plain": [
              "['thomas',\n",
              " ' ',\n",
              " 'jefferson',\n",
              " ' ',\n",
              " 'began',\n",
              " ' ',\n",
              " 'building',\n",
              " ' ',\n",
              " 'monticello',\n",
              " ' ',\n",
              " 'at',\n",
              " ' ',\n",
              " 'the',\n",
              " ' ',\n",
              " 'age',\n",
              " ' ',\n",
              " 'of',\n",
              " ' ',\n",
              " 'twenty',\n",
              " 'six',\n",
              " ' ']"
            ]
          },
          "metadata": {},
          "execution_count": 58
        }
      ]
    },
    {
      "cell_type": "markdown",
      "metadata": {
        "id": "Wy2XPpacsEgP"
      },
      "source": [
        "**Part 4 - Ngram and Mutual Information**\n",
        "\n",
        "The complete set of examples above demonstrate that even for this one relatively simple sentence, a tokenizer can be programmed to behave in many different ways. We see variation, in particular, around the handling of hyphenated words and punctuation. Other important issues surround the handling of contractions, abbreviations, numeric strings, and multi-word noun phrases such as New york or New York City. One way of capturing more contextual information in our token lists is to group tokens in sets of two or more. Two tokens together is called a bigram, three is called a trigram, and more generally any number \"n\" is called an ngram. NLTK and other language packages contain numerous tools for working with bigrams. Let's look at the output of the NLTK ngrams() function:"
      ]
    },
    {
      "cell_type": "code",
      "metadata": {
        "id": "UYJhhRlSY7re",
        "colab": {
          "base_uri": "https://localhost:8080/"
        },
        "outputId": "81bf988a-38cb-4fdf-b975-9977ead38ac7"
      },
      "source": [
        "from nltk.util import ngrams\n",
        "pattern = re.compile('[a-z]+')\n",
        "tokens = pattern.findall(sentence)\n",
        "list(ngrams(tokens, 2))"
      ],
      "execution_count": 59,
      "outputs": [
        {
          "output_type": "execute_result",
          "data": {
            "text/plain": [
              "[('thomas', 'jefferson'),\n",
              " ('jefferson', 'began'),\n",
              " ('began', 'building'),\n",
              " ('building', 'monticello'),\n",
              " ('monticello', 'at'),\n",
              " ('at', 'the'),\n",
              " ('the', 'age'),\n",
              " ('age', 'of'),\n",
              " ('of', 'twenty'),\n",
              " ('twenty', 'six')]"
            ]
          },
          "metadata": {},
          "execution_count": 59
        }
      ]
    },
    {
      "cell_type": "code",
      "metadata": {
        "id": "cKmt5ZdEk-tf",
        "colab": {
          "base_uri": "https://localhost:8080/"
        },
        "outputId": "f5ce67b7-4f18-4043-b5cc-a69fa707e22b"
      },
      "source": [
        "# We can easily repeat the process for trigrams:\n",
        "list(ngrams(tokens, 3))"
      ],
      "execution_count": 60,
      "outputs": [
        {
          "output_type": "execute_result",
          "data": {
            "text/plain": [
              "[('thomas', 'jefferson', 'began'),\n",
              " ('jefferson', 'began', 'building'),\n",
              " ('began', 'building', 'monticello'),\n",
              " ('building', 'monticello', 'at'),\n",
              " ('monticello', 'at', 'the'),\n",
              " ('at', 'the', 'age'),\n",
              " ('the', 'age', 'of'),\n",
              " ('age', 'of', 'twenty'),\n",
              " ('of', 'twenty', 'six')]"
            ]
          },
          "metadata": {},
          "execution_count": 60
        }
      ]
    },
    {
      "cell_type": "markdown",
      "metadata": {
        "id": "BmUjdga5lLQS"
      },
      "source": [
        "It should be pretty clear what's happening in both of the previous cells. Also, it may not seem especially useful, but research has shown that there is great value in understanding the context around words - i.e., the other words that occur nearby. In fact, this was an idea called \"the distributional hypothesis\" imagined by linguist Zellig Harris, that words with similar meanings tend to occur in similar contexts."
      ]
    },
    {
      "cell_type": "code",
      "metadata": {
        "id": "HGCMffd7mw6W",
        "colab": {
          "base_uri": "https://localhost:8080/"
        },
        "outputId": "a4709c88-a2f3-4d87-a5e2-fa2f62a513aa"
      },
      "source": [
        "# We can make ngram tokens from these lists.\n",
        "bigrams = [\" \".join(w) for w in ngrams(tokens, 2)]\n",
        "print(bigrams)"
      ],
      "execution_count": 61,
      "outputs": [
        {
          "output_type": "stream",
          "name": "stdout",
          "text": [
            "['thomas jefferson', 'jefferson began', 'began building', 'building monticello', 'monticello at', 'at the', 'the age', 'age of', 'of twenty', 'twenty six']\n"
          ]
        }
      ]
    },
    {
      "cell_type": "code",
      "metadata": {
        "id": "K9KpQYPDnYF0",
        "colab": {
          "base_uri": "https://localhost:8080/"
        },
        "outputId": "d9d549d7-4c0c-45a3-f166-8f349ab1523b"
      },
      "source": [
        "# Given only one sentence, that result is not very exciting, but what if\n",
        "# we did a whole book?\n",
        "\n",
        "#Note that we use emmawords as input when creating bigrams not revisedemmawords\n",
        "emmabigrams = [\" \".join(w) for w in ngrams(emmawords, 2)]\n",
        "\n",
        "fdist = FreqDist(emmabigrams) # This creates a list of frequencies for bigrams\n",
        "len(fdist) # This is the total number of unique bigrams"
      ],
      "execution_count": 62,
      "outputs": [
        {
          "output_type": "execute_result",
          "data": {
            "text/plain": [
              "63236"
            ]
          },
          "metadata": {},
          "execution_count": 62
        }
      ]
    },
    {
      "cell_type": "code",
      "metadata": {
        "id": "XUlRh37_n7N9",
        "colab": {
          "base_uri": "https://localhost:8080/"
        },
        "outputId": "710a4507-151e-4570-bea0-f6d5776636c9"
      },
      "source": [
        "fdist.most_common(20)"
      ],
      "execution_count": 63,
      "outputs": [
        {
          "output_type": "execute_result",
          "data": {
            "text/plain": [
              "[(', and', 1882),\n",
              " (\". ''\", 1157),\n",
              " (\"'' ``\", 959),\n",
              " ('; and', 867),\n",
              " ('to be', 605),\n",
              " (\", ''\", 584),\n",
              " ('. i', 570),\n",
              " (', i', 569),\n",
              " ('of the', 559),\n",
              " ('in the', 445),\n",
              " ('it was', 442),\n",
              " ('; but', 427),\n",
              " ('. ``', 416),\n",
              " ('. she', 413),\n",
              " ('i am', 394),\n",
              " (', that', 360),\n",
              " ('! --', 344),\n",
              " ('-- and', 334),\n",
              " ('she had', 332),\n",
              " ('she was', 328)]"
            ]
          },
          "metadata": {},
          "execution_count": 63
        }
      ]
    },
    {
      "cell_type": "markdown",
      "metadata": {
        "id": "iIutIk7co3ar"
      },
      "source": [
        "Give some thought to what many of those most frequent bigrams have in common. If our main goal was to understand key meanings or themes in the text, would this help us at all? How could we preprocess our book differently to produce a more interesting result?"
      ]
    },
    {
      "cell_type": "code",
      "metadata": {
        "id": "mRjhdRfipRuZ",
        "colab": {
          "base_uri": "https://localhost:8080/"
        },
        "outputId": "4e88a730-9b33-4fb4-a920-5dd87f1cf9f2"
      },
      "source": [
        "nltk.download('stopwords') # Let's try taking out the stopwords beforehand"
      ],
      "execution_count": 64,
      "outputs": [
        {
          "output_type": "stream",
          "name": "stderr",
          "text": [
            "[nltk_data] Downloading package stopwords to /root/nltk_data...\n",
            "[nltk_data]   Unzipping corpora/stopwords.zip.\n"
          ]
        },
        {
          "output_type": "execute_result",
          "data": {
            "text/plain": [
              "True"
            ]
          },
          "metadata": {},
          "execution_count": 64
        }
      ]
    },
    {
      "cell_type": "code",
      "metadata": {
        "id": "KEvLG0FDpuHs",
        "colab": {
          "base_uri": "https://localhost:8080/"
        },
        "outputId": "ca91501b-dc36-449a-dd58-e260672d73c7"
      },
      "source": [
        "nltk_stops = nltk.corpus.stopwords.words('english')\n",
        "nltk_stops[:10] # Examine the first few"
      ],
      "execution_count": 65,
      "outputs": [
        {
          "output_type": "execute_result",
          "data": {
            "text/plain": [
              "['i', 'me', 'my', 'myself', 'we', 'our', 'ours', 'ourselves', 'you', \"you're\"]"
            ]
          },
          "metadata": {},
          "execution_count": 65
        }
      ]
    },
    {
      "cell_type": "code",
      "metadata": {
        "id": "QRLFwIg5plLb",
        "colab": {
          "base_uri": "https://localhost:8080/"
        },
        "outputId": "6cd1b79d-272c-4bc3-9f99-a3879acde838"
      },
      "source": [
        "# Add a line of code to show how many stop words are in our list. Do an online\n",
        "# search to see how this compares with other stop word lists.\n",
        "\n",
        "# 2.9: How many stop words in nltk_stops?\n",
        "len(nltk_stops)"
      ],
      "execution_count": 68,
      "outputs": [
        {
          "output_type": "execute_result",
          "data": {
            "text/plain": [
              "179"
            ]
          },
          "metadata": {},
          "execution_count": 68
        }
      ]
    },
    {
      "cell_type": "code",
      "metadata": {
        "id": "cthTvTTTqeh7",
        "colab": {
          "base_uri": "https://localhost:8080/"
        },
        "outputId": "dd677893-d9c3-49cb-8636-0981cf08bbb9"
      },
      "source": [
        "# Use a list comprehension to remove stop words\n",
        "emmanostops = [w for w in revisedemmawords if w not in nltk_stops]\n",
        "\n",
        "# Compare the lengths of the token lists before and after stop word removal\n",
        "print(len(revisedemmawords) - len(emmanostops))\n",
        "print(\"1\",len(revisedemmawords))\n",
        "print(\"2\",len(emmanostops))"
      ],
      "execution_count": 74,
      "outputs": [
        {
          "output_type": "stream",
          "name": "stdout",
          "text": [
            "87421\n",
            "1 157044\n",
            "2 69623\n"
          ]
        }
      ]
    },
    {
      "cell_type": "markdown",
      "metadata": {
        "id": "kRcLw4BarJ6V"
      },
      "source": [
        "Crikey! We've taken out more than 87,000 tokens from our original set of about 191,000. That's quite a reduction. What remains is just the bare bones of each sentence, but if we create a new batch of bigrams, they might be better for not having all of those stop words. HOWEVER, we cannot create bigrams out of the list that has stopwords removed, just as above we cannot create bigrams out of the list that has punctuation marks removed. We need to first create bigrams from the raw list (i.e., the one that just has lowercase function applied) and we filter the bigrams that include the punctuation marks or other non-alphabetic tokens and filter those that include the stopwords."
      ]
    },
    {
      "cell_type": "code",
      "metadata": {
        "id": "vFP8a_FirIJt",
        "colab": {
          "base_uri": "https://localhost:8080/"
        },
        "outputId": "a23280fb-b852-4525-f8c4-026ddb395eab"
      },
      "source": [
        "from nltk.collocations import *\n",
        "bigram_measures = nltk.collocations.BigramAssocMeasures()\n",
        "finder = BigramCollocationFinder.from_words(emmawords)\n",
        "scored = finder.score_ngrams(bigram_measures.raw_freq)\n",
        "dir(finder)\n"
      ],
      "execution_count": 75,
      "outputs": [
        {
          "output_type": "execute_result",
          "data": {
            "text/plain": [
              "['N',\n",
              " '__class__',\n",
              " '__delattr__',\n",
              " '__dict__',\n",
              " '__dir__',\n",
              " '__doc__',\n",
              " '__eq__',\n",
              " '__format__',\n",
              " '__ge__',\n",
              " '__getattribute__',\n",
              " '__gt__',\n",
              " '__hash__',\n",
              " '__init__',\n",
              " '__init_subclass__',\n",
              " '__le__',\n",
              " '__lt__',\n",
              " '__module__',\n",
              " '__ne__',\n",
              " '__new__',\n",
              " '__reduce__',\n",
              " '__reduce_ex__',\n",
              " '__repr__',\n",
              " '__setattr__',\n",
              " '__sizeof__',\n",
              " '__str__',\n",
              " '__subclasshook__',\n",
              " '__weakref__',\n",
              " '_apply_filter',\n",
              " '_build_new_documents',\n",
              " '_ngram_freqdist',\n",
              " '_score_ngrams',\n",
              " 'above_score',\n",
              " 'apply_freq_filter',\n",
              " 'apply_ngram_filter',\n",
              " 'apply_word_filter',\n",
              " 'default_ws',\n",
              " 'from_documents',\n",
              " 'from_words',\n",
              " 'nbest',\n",
              " 'ngram_fd',\n",
              " 'score_ngram',\n",
              " 'score_ngrams',\n",
              " 'window_size',\n",
              " 'word_fd']"
            ]
          },
          "metadata": {},
          "execution_count": 75
        }
      ]
    },
    {
      "cell_type": "code",
      "source": [
        "def alpha_filter(w):\n",
        "  # pattern to match word of non-alphabetical characters\n",
        "  pattern = re.compile('^[^a-z]+$')\n",
        "  if (pattern.match(w)):\n",
        "    return True\n",
        "  else:\n",
        "    return False\n",
        "\n",
        "finder.apply_word_filter(alpha_filter)\n",
        "scored = finder.score_ngrams(bigram_measures.raw_freq)\n",
        "for bscore in scored[:30]:\n",
        "    print (bscore)"
      ],
      "metadata": {
        "colab": {
          "base_uri": "https://localhost:8080/"
        },
        "id": "MTisKSsKw2nG",
        "outputId": "a9cb40e5-9efe-456b-877e-5312ddea7109"
      },
      "execution_count": 77,
      "outputs": [
        {
          "output_type": "stream",
          "name": "stdout",
          "text": [
            "(('to', 'be'), 0.0031545741324921135)\n",
            "(('of', 'the'), 0.0029147222149803163)\n",
            "(('in', 'the'), 0.0023203065933206455)\n",
            "(('it', 'was'), 0.0023046640769611806)\n",
            "(('i', 'am'), 0.00205438381520974)\n",
            "(('she', 'had'), 0.0017311051437807962)\n",
            "(('she', 'was'), 0.0017102484553015095)\n",
            "(('had', 'been'), 0.0016007508407852543)\n",
            "(('it', 'is'), 0.0015538232917068592)\n",
            "(('i', 'have'), 0.0014651823656698908)\n",
            "(('could', 'not'), 0.0014495398493104257)\n",
            "(('mr.', 'knightley'), 0.0014234689887113175)\n",
            "(('of', 'her'), 0.0013556847511536356)\n",
            "(('mrs.', 'weston'), 0.0012826863414761322)\n",
            "(('have', 'been'), 0.0012566154808770237)\n",
            "(('he', 'had'), 0.0012514013087572022)\n",
            "(('to', 'the'), 0.001235758792397737)\n",
            "(('do', 'not'), 0.0012253304481580937)\n",
            "(('and', 'the'), 0.0011679745548400552)\n",
            "(('he', 'was'), 0.0011575462106004119)\n",
            "(('would', 'be'), 0.0011210470057616603)\n",
            "(('mr.', 'elton'), 0.0011001903172823736)\n",
            "(('such', 'a'), 0.001042834423964335)\n",
            "(('a', 'very'), 0.0010324060797246917)\n",
            "(('of', 'his'), 0.0009906927027661184)\n",
            "(('that', 'she'), 0.0009594076700471882)\n",
            "(('to', 'have'), 0.0009594076700471882)\n",
            "(('to', 'her'), 0.0009594076700471882)\n",
            "(('did', 'not'), 0.0009541934979273665)\n",
            "(('and', 'i'), 0.0009489793258075449)\n"
          ]
        }
      ]
    },
    {
      "cell_type": "code",
      "source": [
        "finder.apply_word_filter(lambda w: w in nltk_stops)\n",
        "scored = finder.score_ngrams(bigram_measures.raw_freq)\n",
        "for bscore in scored[:30]:\n",
        "    print (bscore)"
      ],
      "metadata": {
        "colab": {
          "base_uri": "https://localhost:8080/"
        },
        "id": "Ucw4y6gCxU1U",
        "outputId": "8439d4ba-3d56-45bc-ad04-e59e7c2520d8"
      },
      "execution_count": 78,
      "outputs": [
        {
          "output_type": "stream",
          "name": "stdout",
          "text": [
            "(('mr.', 'knightley'), 0.0014234689887113175)\n",
            "(('mrs.', 'weston'), 0.0012826863414761322)\n",
            "(('mr.', 'elton'), 0.0011001903172823736)\n",
            "(('miss', 'woodhouse'), 0.0008864092603696848)\n",
            "(('mr.', 'weston'), 0.0008238391949318247)\n",
            "(('frank', 'churchill'), 0.0007508407852543212)\n",
            "(('mrs.', 'elton'), 0.0007299840967750345)\n",
            "(('mr.', 'woodhouse'), 0.0006830565476966395)\n",
            "(('every', 'thing'), 0.0006465573428578878)\n",
            "(('miss', 'fairfax'), 0.0006361289986182444)\n",
            "(('miss', 'bates'), 0.0005787731053002059)\n",
            "(('every', 'body'), 0.0005683447610605626)\n",
            "(('jane', 'fairfax'), 0.0005474880725812759)\n",
            "(('harriet', \"'s\"), 0.00044841880230466407)\n",
            "(('young', 'man'), 0.00043277628594519906)\n",
            "(('emma', \"'s\"), 0.00038584873686680395)\n",
            "(('great', 'deal'), 0.00033370701566858723)\n",
            "(('elton', \"'s\"), 0.0003232786714289439)\n",
            "(('emma', 'could'), 0.0003180644993091222)\n",
            "(('said', 'emma'), 0.0003076361550694788)\n",
            "(('miss', 'smith'), 0.00029720781082983547)\n",
            "(('john', 'knightley'), 0.00028677946659019213)\n",
            "(('mrs.', 'goddard'), 0.0002711369502307271)\n",
            "(('dare', 'say'), 0.00026592277811090544)\n",
            "(('mr.', 'frank'), 0.0002554944338712621)\n",
            "(('miss', 'taylor'), 0.00024506608963161875)\n",
            "(('weston', \"'s\"), 0.0002294235732721537)\n",
            "(('mrs.', 'churchill'), 0.00020335271267304535)\n",
            "(('said', 'mr.'), 0.00019813854055322365)\n",
            "(('mr.', 'martin'), 0.00019292436843340198)\n"
          ]
        }
      ]
    },
    {
      "cell_type": "markdown",
      "metadata": {
        "id": "0bfnqSaxr810"
      },
      "source": [
        "Several of these bigrams now show us many major characters from the book. Here's an incomplete list excerpted from Sparknotes.com:\n",
        "\n",
        "* Emma Woodhouse: The protagonist of the novel.\n",
        "* John Knightley: Emma’s brother-in-law.\n",
        "* Harriet Smith: Emma’s protégé and the object of her matchmaking schemes.\n",
        "* Miss Bates: A middle-aged spinster.\n",
        "* Jane Fairfax: Miss Bates’s niece.\n",
        "* Frank Churchill: Mr. Weston’s son and Mrs. Weston’s stepson.\n",
        "\n",
        "So the upshot of removing stop words and conducting a very simple frequency analysis of the remaiing bigrams is that we now have a meaningful insight into the contents of the book. As an exercise, let's extend this analysis to trigrams. You can copy some of the code above and make some minor changes to create a frequency distribution of trigrams."
      ]
    },
    {
      "cell_type": "code",
      "metadata": {
        "id": "wi-ti_aSuAVR",
        "colab": {
          "base_uri": "https://localhost:8080/"
        },
        "outputId": "82b382ba-74d3-47e9-abfd-b7b4b924186d"
      },
      "source": [
        "# Copy the code from the cell above where we create emmabigrams\n",
        "# and modify it to create trigrams. Create a frequency distribution and\n",
        "# show the top 20 results.\n",
        "\n",
        "# 2.10: Create trigrams\n",
        "emmatrigrams = [\" \".join(w) for w in ngrams(emmawords, 3)]\n",
        "\n",
        " # This creates a list of frequencies for bigrams\n",
        "len(fdist)\n",
        "\n",
        "# 2.11: Create frequency distribution\n",
        "\n",
        "fdist = FreqDist(emmatrigrams)\n",
        "\n",
        "# 2.12: Show top 20 results\n",
        "fdist.most_common(20)\n"
      ],
      "execution_count": 84,
      "outputs": [
        {
          "output_type": "execute_result",
          "data": {
            "text/plain": [
              "[(\". '' ``\", 758),\n",
              " (\", '' said\", 225),\n",
              " (\"? '' ``\", 147),\n",
              " (\"'' `` i\", 136),\n",
              " ('i do not', 135),\n",
              " ('. it was', 117),\n",
              " ('i am sure', 107),\n",
              " (', however ,', 89),\n",
              " (', and the', 89),\n",
              " (', my dear', 87),\n",
              " ('miss woodhouse ,', 86),\n",
              " ('. she was', 85),\n",
              " (\". '' emma\", 79),\n",
              " ('. `` i', 78),\n",
              " (', i am', 78),\n",
              " ('`` oh !', 76),\n",
              " ('. i am', 75),\n",
              " ('mr. knightley ,', 75),\n",
              " ('mrs. weston ,', 73),\n",
              " ('she could not', 72)]"
            ]
          },
          "metadata": {},
          "execution_count": 84
        }
      ]
    },
    {
      "cell_type": "markdown",
      "metadata": {
        "id": "M9ypMnNtgeU8"
      },
      "source": [
        "Take note of how small the frequencies have gotten. Do these three word phrases add to your understanding of the text? As you look at this list, would you consider any of these trigrams to be \"nuisance\" instances (i.e., they are contaminated by words we might not want to see)? Are there any additional steps you could take to \"clean up\" these results?  \n",
        "\n",
        "The final step for this lab is to consider the concept of \"pointwise mutual information\" (PMI). When we are dealing with data such as lists of bigrams or trigrams, we often would like to have a method of sifting the data to find the most interesting examples. PMI calculates the probability of the co-occurence of two words versus the probability of each word independently. Here's an example: Let's say that \"fish\" occurs five times in 100 words, while \"cake\" appears eight times. The combination \"fish cake\" appears 3 times. Now run the code below:"
      ]
    },
    {
      "cell_type": "code",
      "metadata": {
        "id": "_RPqef8ri7CL",
        "colab": {
          "base_uri": "https://localhost:8080/"
        },
        "outputId": "2707e72a-9308-44e6-9dd7-d3ecf3827375"
      },
      "source": [
        "pfish = 5/100\n",
        "pcake = 8/100\n",
        "pfishcake = 3/100\n",
        "\n",
        "import math # We will need the log() function\n",
        "pmi = math.log( pfishcake / (pfish * pcake))\n",
        "print(pmi)"
      ],
      "execution_count": 86,
      "outputs": [
        {
          "output_type": "stream",
          "name": "stdout",
          "text": [
            "2.0149030205422647\n"
          ]
        }
      ]
    },
    {
      "cell_type": "markdown",
      "metadata": {
        "id": "8NFq422xjqJj"
      },
      "source": [
        "Loosely speaking, this result suggests that the appearance of \"fish cake\" is about twice as likely as one might have expected, just by looking at the raw probabilities of \"fish\" and \"cake.\" As such, PMI is a measure of interestingness that will allow us to score each bigram. We could rig up some for loops to do this for us, but let's tap into a capability that NLTK provides."
      ]
    },
    {
      "cell_type": "code",
      "metadata": {
        "id": "l0awnO2_k2-8",
        "colab": {
          "base_uri": "https://localhost:8080/"
        },
        "outputId": "ae219e04-0b6f-4908-c15c-2ecd81796a4c"
      },
      "source": [
        "from nltk.collocations import BigramAssocMeasures # We need two modules\n",
        "from nltk.collocations import BigramCollocationFinder\n",
        "\n",
        "# Here we are creating instances of two classes. The first is a\n",
        "# bigram measurer of the class nltk.metrics.association.BigramAssocMeasures.\n",
        "# The second is a locator function that is initialized with the tokens from Emma.\n",
        "bigram_measures = nltk.collocations.BigramAssocMeasures()\n",
        "finder4 = BigramCollocationFinder.from_words(emmawords)\n",
        "type(bigram_measures), type(finder4)"
      ],
      "execution_count": 87,
      "outputs": [
        {
          "output_type": "execute_result",
          "data": {
            "text/plain": [
              "(nltk.metrics.association.BigramAssocMeasures,\n",
              " nltk.collocations.BigramCollocationFinder)"
            ]
          },
          "metadata": {},
          "execution_count": 87
        }
      ]
    },
    {
      "cell_type": "code",
      "metadata": {
        "id": "kgV4tJXAlkQM",
        "colab": {
          "base_uri": "https://localhost:8080/"
        },
        "outputId": "59bafd66-d881-4bdd-e83c-1c753e6320fe"
      },
      "source": [
        "# The NLTK Pointwise Mutual Information scoring function. PMI scores\n",
        "# the bigrams by taking into account the frequency of the two\n",
        "# component words. When infrequent words make a bigram they get\n",
        "# a boost in PMI. A higher score thus means a more interesting\n",
        "# bigram.\n",
        "finder4.apply_freq_filter(5)\n",
        "scored = finder4.score_ngrams(bigram_measures.pmi)\n",
        "for bscore in scored[:30]:\n",
        "    print (bscore)"
      ],
      "execution_count": 88,
      "outputs": [
        {
          "output_type": "stream",
          "name": "stdout",
          "text": [
            "(('d', \"'ye\"), 14.964167861580208)\n",
            "(('sore', 'throat'), 14.089698743664066)\n",
            "(('brunswick', 'square'), 13.952195219914133)\n",
            "(('william', 'larkins'), 13.089698743664067)\n",
            "(('baked', 'apples'), 12.964167861580208)\n",
            "(('box', 'hill'), 12.736061789049367)\n",
            "(('sixteen', 'miles'), 12.613670614496076)\n",
            "(('maple', 'grove'), 12.594934051914489)\n",
            "(('hair', 'cut'), 12.063703535131124)\n",
            "(('south', 'end'), 11.96416786158021)\n",
            "(('colonel', 'campbell'), 11.412234161246522)\n",
            "(('protest', 'against'), 11.347496501131715)\n",
            "(('robert', 'martin'), 11.093935736550536)\n",
            "(('five', 'couple'), 10.841771230220482)\n",
            "(('vast', 'deal'), 10.76253400041056)\n",
            "(('ready', 'wit'), 10.652293431356767)\n",
            "(('donwell', 'abbey'), 10.519383018907314)\n",
            "(('musical', 'society'), 10.509114683453486)\n",
            "(('infinitely', 'superior'), 10.230813520966382)\n",
            "(('married', 'women'), 10.05727726597169)\n",
            "(('five', 'minutes'), 10.032714012931878)\n",
            "(('years', 'ago'), 9.9575041312992)\n",
            "(('three', 'months'), 9.941800048551755)\n",
            "(('depend', 'upon'), 9.928125111654678)\n",
            "(('ten', 'minutes'), 9.867013597351292)\n",
            "(('sat', 'down'), 9.795356480448604)\n",
            "(('hurrying', 'away'), 9.603101372785888)\n",
            "(('few', 'moments'), 9.558175501904373)\n",
            "(('few', 'minutes'), 9.41521754806233)\n",
            "(('lovely', 'woman'), 9.400399583128175)\n"
          ]
        }
      ]
    }
  ]
}